{
 "cells": [
  {
   "cell_type": "markdown",
   "metadata": {},
   "source": [
    "# Data stucture in Python: Class"
   ]
  },
  {
   "cell_type": "markdown",
   "metadata": {},
   "source": [
    "**Welcome!** This notebook will teach you about classes in Python. By the end of this notebook, you'll know how to define a class and create instances of a class. In addition, you will learn about the concepts such as constructors, properties, and methods.\n",
    "\n",
    "<hr>"
   ]
  },
  {
   "cell_type": "markdown",
   "metadata": {},
   "source": [
    "## An Example with Lists, Tuples, and Dictionaries (review)"
   ]
  },
  {
   "cell_type": "markdown",
   "metadata": {},
   "source": [
    "Imagine that we are now opening our business in social media, and we need to create profile accounts for our users."
   ]
  },
  {
   "cell_type": "markdown",
   "metadata": {},
   "source": [
    "### Representing a person using Tuple"
   ]
  },
  {
   "cell_type": "markdown",
   "metadata": {},
   "source": [
    "Tuples are heterogeneous data structures (i.e., their entries have different meanings), while lists are homogeneous sequences.\n",
    "\n",
    "**Tuples have structure, lists have order**."
   ]
  },
  {
   "cell_type": "code",
   "execution_count": null,
   "metadata": {},
   "outputs": [],
   "source": [
    "# user = (\"name\", \"age\", \"major\")\n",
    "\n",
    "john = (\"john\", 22, \"architecture\")"
   ]
  },
  {
   "cell_type": "code",
   "execution_count": null,
   "metadata": {},
   "outputs": [],
   "source": [
    "# user = (\"name\", \"age\", \"major\")\n",
    "\n",
    "emma = (\"emma\", 24, \"mathematics\")"
   ]
  },
  {
   "cell_type": "code",
   "execution_count": null,
   "metadata": {},
   "outputs": [],
   "source": [
    "# user = (\"name\", \"age\", \"major\")\n",
    "\n",
    "david = (\"david\", 23, \"physics\")"
   ]
  },
  {
   "cell_type": "markdown",
   "metadata": {},
   "source": [
    "Tuples support indexing when reading elements."
   ]
  },
  {
   "cell_type": "code",
   "execution_count": null,
   "metadata": {},
   "outputs": [],
   "source": [
    "john[0]"
   ]
  },
  {
   "cell_type": "code",
   "execution_count": null,
   "metadata": {},
   "outputs": [],
   "source": [
    "emma[1]"
   ]
  },
  {
   "cell_type": "code",
   "execution_count": null,
   "metadata": {},
   "outputs": [],
   "source": [
    "david[2]"
   ]
  },
  {
   "cell_type": "markdown",
   "metadata": {},
   "source": [
    "We can read the tuple's elements so that the person can introduce themsleves."
   ]
  },
  {
   "cell_type": "code",
   "execution_count": null,
   "metadata": {},
   "outputs": [],
   "source": [
    "def introduce(user):\n",
    "    print(\"Hi, I am\", user[0],\", I'm\", user[1], \"years old and I study\", user[2])"
   ]
  },
  {
   "cell_type": "code",
   "execution_count": null,
   "metadata": {},
   "outputs": [],
   "source": [
    "introduce(john)"
   ]
  },
  {
   "cell_type": "code",
   "execution_count": null,
   "metadata": {},
   "outputs": [],
   "source": [
    "introduce(emma)"
   ]
  },
  {
   "cell_type": "code",
   "execution_count": null,
   "metadata": {},
   "outputs": [],
   "source": [
    "introduce(david)"
   ]
  },
  {
   "cell_type": "markdown",
   "metadata": {},
   "source": [
    "### Representing a person using Dictionary"
   ]
  },
  {
   "cell_type": "markdown",
   "metadata": {},
   "source": [
    "<code>user[0]</code>, <code>user[1]</code>, and <code>user[2]</code> are so difficult to read, and this will get even worse when we add more information to our users.\n",
    "\n",
    "We can use dictionary instead to solve this problem"
   ]
  },
  {
   "cell_type": "code",
   "execution_count": null,
   "metadata": {},
   "outputs": [],
   "source": [
    "# user = {\"name\":name, \"age\":age, \"major\":major}\n",
    "\n",
    "john = {\"name\":\"john\", \"age\":22, \"major\":\"architecture\"}\n",
    "emma = {\"name\":\"emma\", \"age\":24, \"major\":\"mathematics\"}\n",
    "david = {\"name\":\"david\", \"age\":23, \"major\":\"physics\"}"
   ]
  },
  {
   "cell_type": "code",
   "execution_count": null,
   "metadata": {},
   "outputs": [],
   "source": [
    "def introduce(user):\n",
    "    print(\"Hi, I am\", user[\"name\"],\", I'm\", user[\"age\"], \"years old and I study\", user[\"major\"])"
   ]
  },
  {
   "cell_type": "code",
   "execution_count": null,
   "metadata": {},
   "outputs": [],
   "source": [
    "introduce(john)"
   ]
  },
  {
   "cell_type": "markdown",
   "metadata": {},
   "source": [
    "### Representing a list of persons using List"
   ]
  },
  {
   "cell_type": "markdown",
   "metadata": {},
   "source": [
    "We can put multiple users into a list so that they can all introduce themselves"
   ]
  },
  {
   "cell_type": "code",
   "execution_count": null,
   "metadata": {},
   "outputs": [],
   "source": [
    "users = [john, emma, david]\n",
    "users"
   ]
  },
  {
   "cell_type": "code",
   "execution_count": null,
   "metadata": {},
   "outputs": [],
   "source": [
    "for user in users:\n",
    "    introduce(user)"
   ]
  },
  {
   "cell_type": "markdown",
   "metadata": {},
   "source": [
    "### Representing social network?"
   ]
  },
  {
   "cell_type": "markdown",
   "metadata": {},
   "source": [
    "Perhaps we can use a list to represent the contacts of each user?"
   ]
  },
  {
   "cell_type": "code",
   "execution_count": null,
   "metadata": {},
   "outputs": [],
   "source": [
    "# user = {\"name\":name, \"age\":age, \"major\":major, \"contacts\":[...]}\n",
    "\n",
    "john = {\"name\":\"john\", \"age\":22, \"major\":\"architecture\", \"contacts\":[]}\n",
    "emma = {\"name\":\"emma\", \"age\":24, \"major\":\"mathematics\", \"contacts\":[]}\n",
    "david = {\"name\":\"david\", \"age\":23, \"major\":\"physics\", \"contacts\":[]}"
   ]
  },
  {
   "cell_type": "code",
   "execution_count": null,
   "metadata": {},
   "outputs": [],
   "source": [
    "def connect(user1, user2):\n",
    "    user1[\"contacts\"].append(user2)\n",
    "    user2[\"contacts\"].append(user1)"
   ]
  },
  {
   "cell_type": "code",
   "execution_count": null,
   "metadata": {},
   "outputs": [],
   "source": [
    "connect(john, emma)\n",
    "connect(john, david)"
   ]
  },
  {
   "cell_type": "code",
   "execution_count": null,
   "metadata": {},
   "outputs": [],
   "source": [
    "def show_contacts(user):\n",
    "    print(user[\"name\"], \"knows\")\n",
    "    for contact in user[\"contacts\"]:\n",
    "        print(\"\\t-\", contact[\"name\"], \", who studies\", contact[\"major\"])"
   ]
  },
  {
   "cell_type": "code",
   "execution_count": null,
   "metadata": {},
   "outputs": [],
   "source": [
    "show_contacts(john)"
   ]
  },
  {
   "cell_type": "code",
   "execution_count": null,
   "metadata": {},
   "outputs": [],
   "source": [
    "show_contacts(emma)"
   ]
  },
  {
   "cell_type": "markdown",
   "metadata": {},
   "source": [
    "### Changing major?"
   ]
  },
  {
   "cell_type": "code",
   "execution_count": null,
   "metadata": {},
   "outputs": [],
   "source": [
    "def study(user, subject):\n",
    "    user[\"major\"] = subject"
   ]
  },
  {
   "cell_type": "code",
   "execution_count": null,
   "metadata": {},
   "outputs": [],
   "source": [
    "introduce(john)\n",
    "\n",
    "study(john, \"computer science\")\n",
    "\n",
    "introduce(john)"
   ]
  },
  {
   "cell_type": "code",
   "execution_count": null,
   "metadata": {},
   "outputs": [],
   "source": [
    "show_contacts(emma)"
   ]
  },
  {
   "cell_type": "markdown",
   "metadata": {},
   "source": [
    "### Problem?"
   ]
  },
  {
   "cell_type": "markdown",
   "metadata": {},
   "source": [
    "We used lists to represent contacts, so if we do <code>connect</code> multiple times, we will get repetitive result:"
   ]
  },
  {
   "cell_type": "code",
   "execution_count": null,
   "metadata": {},
   "outputs": [],
   "source": [
    "connect(john, emma)\n",
    "connect(john, david)"
   ]
  },
  {
   "cell_type": "code",
   "execution_count": null,
   "metadata": {},
   "outputs": [],
   "source": [
    "show_contacts(emma)"
   ]
  },
  {
   "cell_type": "markdown",
   "metadata": {},
   "source": [
    "What if we use <code>set</code> instead of <code>list</code>?"
   ]
  },
  {
   "cell_type": "code",
   "execution_count": null,
   "metadata": {},
   "outputs": [],
   "source": [
    "john = {\"name\":\"john\", \"age\":22, \"major\":\"architecture\", \"contacts\":set()}\n",
    "emma = {\"name\":\"emma\", \"age\":24, \"major\":\"mathematics\", \"contacts\":set()}\n",
    "david = {\"name\":\"david\", \"age\":23, \"major\":\"physics\", \"contacts\":set()}"
   ]
  },
  {
   "cell_type": "code",
   "execution_count": null,
   "metadata": {},
   "outputs": [],
   "source": [
    "def connect(user1, user2):\n",
    "    user1[\"contacts\"].add(user2)\n",
    "    user2[\"contacts\"].add(user1)"
   ]
  },
  {
   "cell_type": "code",
   "execution_count": null,
   "metadata": {},
   "outputs": [],
   "source": [
    "connect(john, emma)"
   ]
  },
  {
   "cell_type": "markdown",
   "metadata": {},
   "source": [
    "We cannot add a contact because we cannot add a <code>dict</code> type to a <code>set</code>. This is because python compares the equality of dictionaries based on its contents, so chaning the contents of a dictionary can turn the equality from <code>False</code> to <code>True</code>, and thus making a set invalid. **See more details in our next session.**"
   ]
  },
  {
   "cell_type": "markdown",
   "metadata": {},
   "source": [
    "## Make our own data type using Class"
   ]
  },
  {
   "cell_type": "markdown",
   "metadata": {},
   "source": [
    "In our case, it would be more proper to create our own data type, meaning to define our own _class_ and create _instances_ of this _class_.\n",
    "\n",
    "We sometimes also use the term _object_ to refer a _class_ or an _instance_ of a class.\n",
    "\n",
    "The syntax of defining a class in python is:"
   ]
  },
  {
   "cell_type": "code",
   "execution_count": null,
   "metadata": {},
   "outputs": [],
   "source": [
    "# define an empty class called \"User\"\n",
    "\n",
    "class User:\n",
    "    \n",
    "    pass    # body of the class, use \"pass\" to leave it empty"
   ]
  },
  {
   "cell_type": "markdown",
   "metadata": {},
   "source": [
    "### Constructor of a Class"
   ]
  },
  {
   "cell_type": "markdown",
   "metadata": {},
   "source": [
    "An empty class will not be so useful, and to populate a class with some contents, the first step is defining the _constructor_ of the class."
   ]
  },
  {
   "cell_type": "code",
   "execution_count": null,
   "metadata": {},
   "outputs": [],
   "source": [
    "# define a \"User\" class and its constructor\n",
    "\n",
    "class User:\n",
    "    \n",
    "    # the constructor, which is a function using reserved name \"__init__\"\n",
    "    def __init__(self, name, age, major):\n",
    "        print(\"create user with arguments:\", name, age, major)\n",
    "        \n",
    "        # the class's property \"name\"\n",
    "        self.name = name\n",
    "        \n",
    "        # the class's property \"age\"\n",
    "        self.age = age\n",
    "        \n",
    "        # the class's property \"major\"\n",
    "        self.major = major\n",
    "        \n",
    "        # the class's property \"contacts\"\n",
    "        self.contacts = set()"
   ]
  },
  {
   "cell_type": "markdown",
   "metadata": {},
   "source": [
    "The _constructor_ is a special function which will be called when creating the _instances_ of the class. For example:"
   ]
  },
  {
   "cell_type": "code",
   "execution_count": null,
   "metadata": {},
   "outputs": [],
   "source": [
    "john = User(\"john\", 22, \"architecture\")\n",
    "emma = User(\"emma\", 24, \"mathematics\")\n",
    "david = User(\"david\", 23, \"physics\")"
   ]
  },
  {
   "cell_type": "markdown",
   "metadata": {},
   "source": [
    "After creating the _instances_ of the class, you can check the _properties_ of each _instance_."
   ]
  },
  {
   "cell_type": "code",
   "execution_count": null,
   "metadata": {},
   "outputs": [],
   "source": [
    "john.name"
   ]
  },
  {
   "cell_type": "code",
   "execution_count": null,
   "metadata": {},
   "outputs": [],
   "source": [
    "emma.age"
   ]
  },
  {
   "cell_type": "code",
   "execution_count": null,
   "metadata": {},
   "outputs": [],
   "source": [
    "david.major"
   ]
  },
  {
   "cell_type": "markdown",
   "metadata": {},
   "source": [
    "### Wait a minute..."
   ]
  },
  {
   "cell_type": "markdown",
   "metadata": {},
   "source": [
    "#### what is <code>\\_\\_init\\_\\_</code>?"
   ]
  },
  {
   "cell_type": "markdown",
   "metadata": {},
   "source": [
    "<code>\\_\\_init\\_\\_</code> is the reserved name for constructors. As a constructor is also a function, python uses this special name to identify which is the constructor function. "
   ]
  },
  {
   "cell_type": "markdown",
   "metadata": {},
   "source": [
    "#### What is _self_ ?"
   ]
  },
  {
   "cell_type": "markdown",
   "metadata": {},
   "source": [
    "<code>self</code> in python represent the instance itself. You can think of it as the \"empty dictionary\" before adding names and ages into it: "
   ]
  },
  {
   "cell_type": "code",
   "execution_count": null,
   "metadata": {},
   "outputs": [],
   "source": [
    "name = \"john\"\n",
    "age = 24\n",
    "\n",
    "# self is quite similar with this empty dictionary here\n",
    "# it is the class instance that is initially empty\n",
    "user = {}\n",
    "\n",
    "user[\"name\"] = name\n",
    "user[\"age\"] = age"
   ]
  },
  {
   "cell_type": "markdown",
   "metadata": {},
   "source": [
    "#### What about <code>self.name = name</code>?"
   ]
  },
  {
   "cell_type": "markdown",
   "metadata": {},
   "source": [
    "The <code>name</code> after the equal symbol <code>=</code> is the variable of the constructor.\n",
    "\n",
    "The <code>self.name</code> represents creating a _property_ for the class's _instance_. It is kind of similar with adding contents to an empty dictionary.\n",
    "\n",
    "Hence, <code>self.name = name</code> is creating a _property_ called \"name\", and set the value of this _property_ using the value of the constructor's variable which is also called \"name\"."
   ]
  },
  {
   "cell_type": "code",
   "execution_count": null,
   "metadata": {},
   "outputs": [],
   "source": [
    "name = \"john\"\n",
    "age = 24\n",
    "\n",
    "user = {}\n",
    "\n",
    "# self.name = name is quite similar with here assigning contents\n",
    "# to the empty dictionary from another variable\n",
    "user[\"name\"] = name\n",
    "user[\"age\"] = age"
   ]
  },
  {
   "cell_type": "markdown",
   "metadata": {},
   "source": [
    "#### what about the <code>.</code>?"
   ]
  },
  {
   "cell_type": "markdown",
   "metadata": {},
   "source": [
    "The <code>.</code> symbol in python represents the concept of \"belongs to\", for example <code>john.name</code> means the <code>name</code> property that belongs to instance <code>john</code>."
   ]
  },
  {
   "cell_type": "code",
   "execution_count": null,
   "metadata": {},
   "outputs": [],
   "source": [
    "john.name  # john's name"
   ]
  },
  {
   "cell_type": "code",
   "execution_count": null,
   "metadata": {},
   "outputs": [],
   "source": [
    "emma.age  # emma's age"
   ]
  },
  {
   "cell_type": "code",
   "execution_count": null,
   "metadata": {},
   "outputs": [],
   "source": [
    "david.major  # david's major"
   ]
  },
  {
   "cell_type": "markdown",
   "metadata": {},
   "source": [
    "Recall our last session, when we used <code>append</code> to add items to lists:"
   ]
  },
  {
   "cell_type": "code",
   "execution_count": null,
   "metadata": {},
   "outputs": [],
   "source": [
    "a = [1, 2, 3]\n",
    "b = [4, 5, 6]\n",
    "\n",
    "a.append(7)\n",
    "b.append(8)\n",
    "\n",
    "print(a)\n",
    "print(b)"
   ]
  },
  {
   "cell_type": "markdown",
   "metadata": {},
   "source": [
    "The <code>.</code> symbol indicates which list will be modifyed by the <code>append</code> function."
   ]
  },
  {
   "cell_type": "markdown",
   "metadata": {},
   "source": [
    "#### and what about <code>User()</code>?"
   ]
  },
  {
   "cell_type": "markdown",
   "metadata": {},
   "source": [
    "In python, we use **class name as function name**, when we want to call the constructor of that class and create an instance.\n",
    "\n",
    "In this case <code>User</code> is the class name, and we type <code>User()</code> so that python calls the constructor <code>\\_\\_init\\_\\_</code>.\n",
    "\n",
    "Note that we never call a constructor with <code>\\_\\_init\\_\\_</code> explicitly typed down."
   ]
  },
  {
   "cell_type": "markdown",
   "metadata": {},
   "source": [
    "### Methods of a Class"
   ]
  },
  {
   "cell_type": "markdown",
   "metadata": {},
   "source": [
    "We continue by adding _methods_ to our class"
   ]
  },
  {
   "cell_type": "code",
   "execution_count": null,
   "metadata": {},
   "outputs": [],
   "source": [
    "# define a \"User\" class and its constructor\n",
    "\n",
    "class User:\n",
    "    \n",
    "    # the constructor, which is a function using reserved name \"__init__\"\n",
    "    def __init__(self, name, age, major):        \n",
    "        # the class's property \"name\"\n",
    "        self.name = name\n",
    "        \n",
    "        # the class's property \"age\"\n",
    "        self.age = age\n",
    "        \n",
    "        # the class's property \"major\"\n",
    "        self.major = major\n",
    "        \n",
    "        # the class's property \"contacts\"\n",
    "        self.contacts = set()\n",
    "    \n",
    "    # the 1st method of our class\n",
    "    def introduce(self):\n",
    "        print(\"Hi, I am\", self.name,\", I'm\", self.age, \"years old and I study\", self.major)\n",
    "    \n",
    "    # the 2nd method of our class\n",
    "    def study(self, subject):\n",
    "        self.major = subject\n",
    "    \n",
    "    def connect(self, user2):\n",
    "        self.contacts.add(user2)\n",
    "        user2.contacts.add(self)\n",
    "        \n",
    "    def show_contacts(self):\n",
    "        print(self.name, \"knows\")\n",
    "        for contact in self.contacts:\n",
    "            print(\"\\t-\", contact.name, \", who studies\", contact.major)"
   ]
  },
  {
   "cell_type": "markdown",
   "metadata": {},
   "source": [
    "Again the <code>self</code> argument represents the _instance_ itself."
   ]
  },
  {
   "cell_type": "code",
   "execution_count": null,
   "metadata": {},
   "outputs": [],
   "source": [
    "john = User(\"john\", 22, \"architecture\")\n",
    "emma = User(\"emma\", 24, \"mathematics\")\n",
    "david = User(\"david\", 23, \"physics\")"
   ]
  },
  {
   "cell_type": "markdown",
   "metadata": {},
   "source": [
    "We can call the <code>introduce</code> method to ask the users to introduce themselves."
   ]
  },
  {
   "cell_type": "code",
   "execution_count": null,
   "metadata": {},
   "outputs": [],
   "source": [
    "john.introduce()\n",
    "emma.introduce()\n",
    "david.introduce()"
   ]
  },
  {
   "cell_type": "markdown",
   "metadata": {},
   "source": [
    "We can connect the users as well"
   ]
  },
  {
   "cell_type": "code",
   "execution_count": null,
   "metadata": {},
   "outputs": [],
   "source": [
    "john.connect(emma)\n",
    "john.connect(david)"
   ]
  },
  {
   "cell_type": "code",
   "execution_count": null,
   "metadata": {},
   "outputs": [],
   "source": [
    "john.show_contacts()\n",
    "emma.show_contacts()"
   ]
  },
  {
   "cell_type": "markdown",
   "metadata": {},
   "source": [
    "And also update their field of study"
   ]
  },
  {
   "cell_type": "code",
   "execution_count": null,
   "metadata": {},
   "outputs": [],
   "source": [
    "john.study(\"computer science\")\n",
    "emma.show_contacts()"
   ]
  },
  {
   "cell_type": "markdown",
   "metadata": {},
   "source": [
    "### Comparing methods (members of a class) and simple functions (not members of a class)"
   ]
  },
  {
   "cell_type": "markdown",
   "metadata": {},
   "source": [
    "#### Defining methods and simple functions"
   ]
  },
  {
   "cell_type": "markdown",
   "metadata": {},
   "source": [
    "- defining simple functions\n",
    "\n",
    "```\n",
    "def introduce(user):\n",
    "    print(\"Hi, I am\", user[\"name\"],\", I'm\", user[\"age\"], \"years old and I study\", user[\"major\"])\n",
    "\n",
    "def study(user, subject):\n",
    "    user[\"major\"] = subject\n",
    "    \n",
    "def connect(user1, user2):\n",
    "    user1[\"contacts\"].add(user2)\n",
    "    user2[\"contacts\"].add(user1)\n",
    "\n",
    "```\n",
    "\n",
    "\n",
    "- defining methods\n",
    "\n",
    "```\n",
    "def introduce(self):\n",
    "    print(\"Hi, I am\", self.name,\", I'm\", self.age, \"years old and I study\", self.major)\n",
    "    \n",
    "def study(self, subject):\n",
    "    self.major = subject\n",
    "    \n",
    "def connect(self, user2):\n",
    "    self.contacts.add(user2)\n",
    "    user2.contacts.add(self)\n",
    "```"
   ]
  },
  {
   "cell_type": "markdown",
   "metadata": {},
   "source": [
    "#### Calling methods and simple functions"
   ]
  },
  {
   "cell_type": "markdown",
   "metadata": {},
   "source": [
    "- calling simple functions\n",
    "\n",
    "```\n",
    "introduce(john)\n",
    "study(john, \"computer science\")\n",
    "connect(john, emma)\n",
    "\n",
    "```\n",
    "\n",
    "- calling methods\n",
    "\n",
    "```\n",
    "john.introduce()\n",
    "john.study(\"computer science)\n",
    "john.connect(emma)\n",
    "```"
   ]
  },
  {
   "cell_type": "markdown",
   "metadata": {},
   "source": [
    "## Summary"
   ]
  },
  {
   "cell_type": "markdown",
   "metadata": {},
   "source": [
    "We've just seen how to represent complex data (a user), using python built-in data types, or using our own data types (class).\n",
    "\n",
    "At the begining, we used <code>tupe</code> to put different types of data (string, integer) together to represent a complex object, for example <code>(\"john\", 24, \"architecture\")</code>.\n",
    "\n",
    "We quickly found that using <code>tupe</code> becomes very inconvinient when the data gets complex, as we need to keep using indexes to access specific data, and it is not very straightforward to see which index corresponds to which data. For example we will not know that <code>john[0]</code> represents the name unless someone tells us.\n",
    "\n",
    "We then use <code>dict</code> to organize different types of data together, for example <code>{\"name\":\"john\", \"age\":23}</code>. This solves most of our problems, and the code is much easier to read. For example, we know that <code>john[\"name\"]</code> represents the name and it returns a string.\n",
    "\n",
    "But we still faced some difficulties when attempting to add a user to a <code>set</code>, as python tells us that <code>dict</code> cannot be put into a <code>set</code>.\n",
    "\n",
    "Then, we learned to write our own <code>class</code> to include all relavent _properties_ and _methods_ in our class. We have learnt how to define the _constructor_ of a class, and how to call it to create an _instance_. For example <code>john = User(\"john\", 24, \"architecture\")</code>. We also learned how to access the _properties_, for example <code>john.name</code> will be the name of the user."
   ]
  },
  {
   "cell_type": "code",
   "execution_count": null,
   "metadata": {},
   "outputs": [],
   "source": []
  }
 ],
 "metadata": {
  "kernelspec": {
   "display_name": "Python 3",
   "language": "python",
   "name": "python3"
  },
  "language_info": {
   "codemirror_mode": {
    "name": "ipython",
    "version": 3
   },
   "file_extension": ".py",
   "mimetype": "text/x-python",
   "name": "python",
   "nbconvert_exporter": "python",
   "pygments_lexer": "ipython3",
   "version": "3.7.4"
  }
 },
 "nbformat": 4,
 "nbformat_minor": 2
}
