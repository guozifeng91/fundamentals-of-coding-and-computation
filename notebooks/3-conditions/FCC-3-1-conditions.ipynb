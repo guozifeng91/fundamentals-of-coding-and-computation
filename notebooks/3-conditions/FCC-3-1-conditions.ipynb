{
 "cells": [
  {
   "cell_type": "markdown",
   "metadata": {},
   "source": [
    "# Conditions in Python"
   ]
  },
  {
   "cell_type": "markdown",
   "metadata": {},
   "source": [
    "**Welcome!** This notebook will teach you about conditions in Python. By the end of this notebook, you'll know the syntax of writing if-else statement. You will also know how to put if-else statements in hierachies, and how to flatten them using \"else if\" statement. In addition, you will learn conditional expression and be able to shorten your if-else statement in one line of code.\n",
    "\n",
    "<hr>"
   ]
  },
  {
   "cell_type": "markdown",
   "metadata": {},
   "source": [
    "## Conditional Statement"
   ]
  },
  {
   "cell_type": "markdown",
   "metadata": {},
   "source": [
    "### Comparision operators (a review)"
   ]
  },
  {
   "cell_type": "markdown",
   "metadata": {},
   "source": [
    "Comparison operators compare some value or operand and, based on a condition, they produce a Boolean. When comparing two values you can use these operators:\n",
    "\n",
    "- equal: <code>==</code>\n",
    "- not equal: <code>!=</code>\n",
    "- greater than: <code>&gt;</code>\n",
    "- less than: <code>&lt;</code>\n",
    "- greater than or equal to: <code>&gt;=</code>\n",
    "- less than or equal to: <code>&lt;=</code>"
   ]
  },
  {
   "cell_type": "markdown",
   "metadata": {},
   "source": [
    "<div class=\"alert alert-success alertsuccess\">\n",
    "[Tip]: Recall in our last session the difference between <kbd>=</kbd> and <kbd>==</kbd>.\n",
    "</div>"
   ]
  },
  {
   "cell_type": "code",
   "execution_count": null,
   "metadata": {},
   "outputs": [],
   "source": [
    "# equality\n",
    "\n",
    "a = 5\n",
    "a == 6"
   ]
  },
  {
   "cell_type": "code",
   "execution_count": null,
   "metadata": {},
   "outputs": [],
   "source": [
    "# inequality\n",
    "\n",
    "b = 6\n",
    "b > 5"
   ]
  },
  {
   "cell_type": "code",
   "execution_count": null,
   "metadata": {},
   "outputs": [],
   "source": [
    "# inequality between texts\n",
    "\n",
    "\"hello\" != \"python\""
   ]
  },
  {
   "cell_type": "markdown",
   "metadata": {},
   "source": [
    "### Logical operators (a review)"
   ]
  },
  {
   "cell_type": "markdown",
   "metadata": {},
   "source": [
    "Logical operators compute the logical combination of multiple boolean values\n",
    "\n",
    "- logical and (both A and B): <code>and</code>\n",
    "- logical or (either A or B): <code>or</code>\n",
    "- logical negation: <code>not</code>"
   ]
  },
  {
   "cell_type": "code",
   "execution_count": null,
   "metadata": {},
   "outputs": [],
   "source": [
    "a = 5\n",
    "b = 6\n",
    "\n",
    "a == 5 or b != 6"
   ]
  },
  {
   "cell_type": "code",
   "execution_count": null,
   "metadata": {},
   "outputs": [],
   "source": [
    "not a < 3"
   ]
  },
  {
   "cell_type": "code",
   "execution_count": null,
   "metadata": {},
   "outputs": [],
   "source": [
    "a > 7 and b < 4"
   ]
  },
  {
   "cell_type": "markdown",
   "metadata": {},
   "source": [
    "### Branching and _if_ statement"
   ]
  },
  {
   "cell_type": "markdown",
   "metadata": {},
   "source": [
    "Branching allows us to step beyond the \"line-by-line\" schema of running code and to execute a block of code only under certain condition. As if we are saying \"do something if something happened\".\n",
    "\n",
    "In computer programming, the line of code we use to implement branching is called the **_if_ statement**. The syntax of if statement in Python is <code>if</code> keyword followed by a conditional expression, and then a colon symbol <code>:</code>"
   ]
  },
  {
   "cell_type": "code",
   "execution_count": null,
   "metadata": {},
   "outputs": [],
   "source": [
    "if a == 5:\n",
    "    print(\"a is 5\")"
   ]
  },
  {
   "cell_type": "code",
   "execution_count": null,
   "metadata": {},
   "outputs": [],
   "source": [
    "if b != 3:\n",
    "    print(\"b is not 3\")"
   ]
  },
  {
   "cell_type": "code",
   "execution_count": null,
   "metadata": {},
   "outputs": [],
   "source": [
    "if a < 3 or b > 4:\n",
    "    print(\"a is less than 3 or b is greater than 4\")"
   ]
  },
  {
   "cell_type": "markdown",
   "metadata": {},
   "source": [
    "Just like a function, an _if_ statement must have a body. if you wish to leave the body empty, you can use the <code>pass</code> keyword"
   ]
  },
  {
   "cell_type": "code",
   "execution_count": null,
   "metadata": {},
   "outputs": [],
   "source": [
    "if a != 6:\n",
    "    pass   # \"pass\" means do nothing"
   ]
  },
  {
   "cell_type": "markdown",
   "metadata": {},
   "source": [
    "### Use indentation"
   ]
  },
  {
   "cell_type": "markdown",
   "metadata": {},
   "source": [
    "Just like writing a function, the code block after the if statement **MUST** be written with indentation. In fact, all code blocks written after the colon symbol <code>:</code> should be written with indentation in Python."
   ]
  },
  {
   "cell_type": "code",
   "execution_count": null,
   "metadata": {},
   "outputs": [],
   "source": [
    "# code block MUST have indentation \n",
    "\n",
    "if a == 5:\n",
    "print(\"a is 5\")"
   ]
  },
  {
   "cell_type": "markdown",
   "metadata": {},
   "source": [
    "The indentation can be any number of white spaces, but it has to be consistent in the same code block. The convention is to use four white spaces."
   ]
  },
  {
   "cell_type": "code",
   "execution_count": null,
   "metadata": {},
   "outputs": [],
   "source": [
    "# one-space indentation works, but four spaces are recommended\n",
    "\n",
    "if a == 5:\n",
    " print(\"a is 5\")"
   ]
  },
  {
   "cell_type": "code",
   "execution_count": null,
   "metadata": {},
   "outputs": [],
   "source": [
    "# number of white spaces MUST be consistent\n",
    "\n",
    "if a == 5:\n",
    " print(\"a is 5\")\n",
    "  print(\"a is not 6\")"
   ]
  },
  {
   "cell_type": "code",
   "execution_count": null,
   "metadata": {},
   "outputs": [],
   "source": [
    "# number of white spaces MUST be consistent\n",
    "\n",
    "if a == 5:\n",
    "   print(\"a is 5\")\n",
    "  print(\"a is not 6\")"
   ]
  },
  {
   "cell_type": "markdown",
   "metadata": {},
   "source": [
    "### _else_ statement"
   ]
  },
  {
   "cell_type": "markdown",
   "metadata": {},
   "source": [
    "In many cases, we not only need consider the situation when the condition is <code>True</code>, but also when it is <code>False</code>. And to specify the code block for this alternative situation, we use **_else_ statement**.\n",
    "\n",
    "An else statement MUST show up after an if statement, therefore we sometimes use _if-else_ statement to call them both. In Python, the syntax of else statment is <code>else</code> keyword followed by the colon symbol <code>:</code> "
   ]
  },
  {
   "cell_type": "code",
   "execution_count": null,
   "metadata": {},
   "outputs": [],
   "source": [
    "# if-else statement\n",
    "\n",
    "if a == 5:\n",
    "    print(\"a is 5\")\n",
    "else:\n",
    "    print(\"a is not 5\")"
   ]
  },
  {
   "cell_type": "markdown",
   "metadata": {},
   "source": [
    "### Nesting _if-else_ statements"
   ]
  },
  {
   "cell_type": "markdown",
   "metadata": {},
   "source": [
    "The _if-else_ statement represents the basic unit of decision making, but for complex problems, it is quite common that we have to make sub-dicision-making for one condition.\n",
    "\n",
    "Take a look at the following example:"
   ]
  },
  {
   "cell_type": "code",
   "execution_count": null,
   "metadata": {},
   "outputs": [],
   "source": [
    "# if-else statement inside another if-else statement\n",
    "\n",
    "today = \"monday\"\n",
    "\n",
    "if today == \"monday\":\n",
    "    print(\"order sushi\")\n",
    "else:\n",
    "    if today == \"thursday\":\n",
    "        print(\"order pizza\")\n",
    "    else:\n",
    "        print(\"cook at home\")"
   ]
  },
  {
   "cell_type": "markdown",
   "metadata": {},
   "source": [
    "In Python and other programming languages, we can write an _if-else_ statement inside another _if-else_ statement to implement more complex dicision makings. This stacking of _if-else_ statement can go as many layers as we want:"
   ]
  },
  {
   "cell_type": "code",
   "execution_count": null,
   "metadata": {},
   "outputs": [],
   "source": [
    "today = \"monday\"\n",
    "\n",
    "if today == \"monday\":                # first layer\n",
    "    print(\"order sushi\")\n",
    "else:\n",
    "    if today == \"thursday\":          # second layer\n",
    "        print(\"order pizza\")\n",
    "    else:\n",
    "        if today == \"friday\":        # third layer\n",
    "            print(\"order noodle\")    \n",
    "        else:\n",
    "            print(\"cook at home\")"
   ]
  },
  {
   "cell_type": "markdown",
   "metadata": {},
   "source": [
    "### _else if_ statement"
   ]
  },
  {
   "cell_type": "markdown",
   "metadata": {},
   "source": [
    "However, writing nested statements is not always a good coding style, especially when the logic gets complex. \n",
    "\n",
    "In many cases, you can simplify your code by flattening your nested code block in an _else_ statement with the _else if_ statement. In Python, _else if_ statement is defined by <code>elif</code> keyword followed by the condition and the colon sumbol <code>:</code>"
   ]
  },
  {
   "cell_type": "code",
   "execution_count": null,
   "metadata": {},
   "outputs": [],
   "source": [
    "# rewrite \"if-else\" in \"else\" into \"else if (elif)\"\n",
    "\n",
    "today = \"monday\"\n",
    "\n",
    "if today == \"monday\":\n",
    "    print(\"order sushi\")\n",
    "elif today == \"thursday\":\n",
    "    print(\"order pizza\")\n",
    "else:\n",
    "    print(\"cook at home\")"
   ]
  },
  {
   "cell_type": "code",
   "execution_count": null,
   "metadata": {},
   "outputs": [],
   "source": [
    "today = \"monday\"\n",
    "\n",
    "if today == \"monday\":       # first layer\n",
    "    print(\"order sushi\")\n",
    "elif today == \"thursday\":   # second layer being flattened\n",
    "    print(\"order pizza\")\n",
    "elif today == \"friday\":     # third layer being flattened\n",
    "    print(\"order noodle\")    \n",
    "else:\n",
    "    print(\"cook at home\")"
   ]
  },
  {
   "cell_type": "markdown",
   "metadata": {},
   "source": [
    "An _else if_ statement<br>\n",
    "<code>\n",
    "elif condition:\n",
    "    do something\n",
    "</code><br>\n",
    "literally means simplifying the code by deleting:<br>\n",
    "<code>\n",
    "el<del>se:\n",
    "    </del>if condition:\n",
    "        do somthing\n",
    "</code>"
   ]
  },
  {
   "cell_type": "markdown",
   "metadata": {},
   "source": [
    "### _if-else_ statement in a function"
   ]
  },
  {
   "cell_type": "markdown",
   "metadata": {},
   "source": [
    "As a review and extension of our previous session on _function_, we can naturally write our _if-else_ statement in the body of a function:"
   ]
  },
  {
   "cell_type": "code",
   "execution_count": null,
   "metadata": {},
   "outputs": [],
   "source": [
    "def order_food(today):\n",
    "    if today == \"monday\":\n",
    "        print(\"order sushi\")\n",
    "    elif today == \"thursday\":\n",
    "        print(\"order pizza\")\n",
    "    elif today == \"friday\":\n",
    "        print(\"order noodle\")    \n",
    "    else:\n",
    "        print(\"cook at home\")"
   ]
  },
  {
   "cell_type": "code",
   "execution_count": null,
   "metadata": {},
   "outputs": [],
   "source": [
    "order_food(\"monday\")"
   ]
  },
  {
   "cell_type": "code",
   "execution_count": null,
   "metadata": {},
   "outputs": [],
   "source": [
    "order_food(\"tuesday\")"
   ]
  },
  {
   "cell_type": "code",
   "execution_count": null,
   "metadata": {},
   "outputs": [],
   "source": [
    "order_food(\"thursday\")"
   ]
  },
  {
   "cell_type": "code",
   "execution_count": null,
   "metadata": {},
   "outputs": [],
   "source": [
    "order_food(\"friday\")"
   ]
  },
  {
   "cell_type": "markdown",
   "metadata": {},
   "source": [
    "## Conditional Expression"
   ]
  },
  {
   "cell_type": "markdown",
   "metadata": {},
   "source": [
    "A special and quite common situation of using _if-else_ statement is that we want to assign different values to a variable by different conditions.\n",
    "\n",
    "Consider this simple example:"
   ]
  },
  {
   "cell_type": "code",
   "execution_count": null,
   "metadata": {},
   "outputs": [],
   "source": [
    "# assigning values to \"dinner\" by conditional statement \n",
    "\n",
    "today = \"monday\"\n",
    "\n",
    "if today == \"monday\":\n",
    "    dinner = \"sushi\"\n",
    "else:\n",
    "    dinner = \"pizza\"\n",
    "\n",
    "dinner"
   ]
  },
  {
   "cell_type": "markdown",
   "metadata": {},
   "source": [
    "where we assign different values to <code>dinner</code> based on the different values of <code>today</code>.\n",
    "\n",
    " For this type of situations in Python, we can rewrite our code into a conditional expression:"
   ]
  },
  {
   "cell_type": "code",
   "execution_count": null,
   "metadata": {},
   "outputs": [],
   "source": [
    "# assigning values to \"dinner\" by conditional EXPRESSION \n",
    "\n",
    "today = \"monday\"\n",
    "\n",
    "dinner = \"sushi\" if today == \"monday\" else \"pizza\"\n",
    "dinner"
   ]
  },
  {
   "cell_type": "markdown",
   "metadata": {},
   "source": [
    "More specifically, a conditional expresssion starts with one value (_first value_), followed by <code>if</code> keyword and the _condition_, and then the <code>else</code> keyword and then another value (_second value_).\n",
    "\n",
    "The evaluation result of a conditional expression is the _first value_, if the _condition_ is True, or the _second value_, if otherwise."
   ]
  },
  {
   "cell_type": "code",
   "execution_count": null,
   "metadata": {},
   "outputs": [],
   "source": [
    "condition = True\n",
    "value_1 = 1\n",
    "value_2 = 2\n",
    "\n",
    "# if condition = True, result = value_1\n",
    "# otherwise, result = value_2\n",
    "\n",
    "result = value_1 if condition else value_2\n",
    "result"
   ]
  },
  {
   "cell_type": "markdown",
   "metadata": {},
   "source": [
    "### Nested conditional expression"
   ]
  },
  {
   "cell_type": "markdown",
   "metadata": {},
   "source": [
    "Just like the conditional statement, the conditional expression can also be nested. Although this may not be the best coding style when the logic is complex, it is indeed very cool as you can write everything in one line:"
   ]
  },
  {
   "cell_type": "code",
   "execution_count": null,
   "metadata": {},
   "outputs": [],
   "source": [
    "def our_dinner(today):\n",
    "    dinner = \"sushi\" if today == \"monday\" else (\"pizza\" if today == \"thursday\" else (\"noodle\" if today == \"friday\" else \"cook at home\"))\n",
    "    return dinner"
   ]
  },
  {
   "cell_type": "code",
   "execution_count": null,
   "metadata": {},
   "outputs": [],
   "source": [
    "our_dinner(\"monday\")"
   ]
  },
  {
   "cell_type": "code",
   "execution_count": null,
   "metadata": {},
   "outputs": [],
   "source": [
    "our_dinner(\"tuesday\")"
   ]
  },
  {
   "cell_type": "code",
   "execution_count": null,
   "metadata": {},
   "outputs": [],
   "source": [
    "our_dinner(\"thursday\")"
   ]
  },
  {
   "cell_type": "code",
   "execution_count": null,
   "metadata": {},
   "outputs": [],
   "source": [
    "our_dinner(\"friday\")"
   ]
  },
  {
   "cell_type": "markdown",
   "metadata": {},
   "source": [
    "Next time you see someone write _if_ _else_ in the same line, you know it is a conditional expression.\n",
    "\n",
    "Its OK to use conditional expression to shorten your code. But dont abuse it :)"
   ]
  },
  {
   "cell_type": "code",
   "execution_count": null,
   "metadata": {},
   "outputs": [],
   "source": []
  }
 ],
 "metadata": {
  "kernelspec": {
   "display_name": "Python 3",
   "language": "python",
   "name": "python3"
  },
  "language_info": {
   "codemirror_mode": {
    "name": "ipython",
    "version": 3
   },
   "file_extension": ".py",
   "mimetype": "text/x-python",
   "name": "python",
   "nbconvert_exporter": "python",
   "pygments_lexer": "ipython3",
   "version": "3.7.4"
  }
 },
 "nbformat": 4,
 "nbformat_minor": 2
}
