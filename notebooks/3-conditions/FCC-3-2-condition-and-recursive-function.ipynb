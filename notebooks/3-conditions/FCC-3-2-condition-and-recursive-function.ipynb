{
 "cells": [
  {
   "cell_type": "markdown",
   "metadata": {},
   "source": [
    "# Conditions and Recursive Functions in Python"
   ]
  },
  {
   "cell_type": "markdown",
   "metadata": {},
   "source": [
    "**Welcome!** This notebook will teach you about conditions and recursive functions in Python. By the end of this notebook, you'll know how to run a block of code repetitively using conditions and recursion. In addition, you will learn about interesting examples such as L-system.\n",
    "\n",
    "<hr>"
   ]
  },
  {
   "cell_type": "markdown",
   "metadata": {},
   "source": [
    "## Recursive Functions"
   ]
  },
  {
   "cell_type": "markdown",
   "metadata": {},
   "source": [
    "### A function calling itself (review)"
   ]
  },
  {
   "cell_type": "markdown",
   "metadata": {},
   "source": [
    "In our last session we learned how to define a function, and how a function can call itself."
   ]
  },
  {
   "cell_type": "markdown",
   "metadata": {},
   "source": [
    "<div class=\"alert alert-success alertsuccess\">\n",
    "[Tip]: Recall in our last session on the syntax of defining and calling a function.\n",
    "</div>"
   ]
  },
  {
   "cell_type": "code",
   "execution_count": null,
   "metadata": {},
   "outputs": [],
   "source": [
    "# a function calls itself\n",
    "\n",
    "def call_myself():\n",
    "    print('I am calling myself!')\n",
    "    call_myself()     # \"call_myself\" calls itself"
   ]
  },
  {
   "cell_type": "code",
   "execution_count": null,
   "metadata": {},
   "outputs": [],
   "source": [
    "call_myself()"
   ]
  },
  {
   "cell_type": "markdown",
   "metadata": {},
   "source": [
    "The code only works partially, it generates some outputs and then runs into an error. But it shows an important feature, **that we can runn the same code repetitively.**"
   ]
  },
  {
   "cell_type": "markdown",
   "metadata": {},
   "source": [
    "### Stopping condition"
   ]
  },
  {
   "cell_type": "markdown",
   "metadata": {},
   "source": [
    "The feature of a function calling itself is called **Recursion** in computer programming. And to make the code work properly, we need to add a little bit more: to specify the **stopping condition** of the recursion.\n",
    "\n",
    "The conditional statement we just learned, is the perfect solution for specifying stopping conditions.\n",
    "\n",
    "For example:"
   ]
  },
  {
   "cell_type": "code",
   "execution_count": null,
   "metadata": {},
   "outputs": [],
   "source": [
    "# a function calls itself\n",
    "# it stops when \"count\" reaches zero or negative values\n",
    "\n",
    "def call_myself(count):\n",
    "    if count <= 0:\n",
    "        return     # return can also be used to interupt the function\n",
    "    \n",
    "    print('I am calling myself! The count is ' + str(count))\n",
    "    \n",
    "    # count down 1 step\n",
    "    call_myself(count - 1)"
   ]
  },
  {
   "cell_type": "code",
   "execution_count": null,
   "metadata": {},
   "outputs": [],
   "source": [
    "call_myself(20)"
   ]
  },
  {
   "cell_type": "markdown",
   "metadata": {},
   "source": [
    "## Recursion examples"
   ]
  },
  {
   "cell_type": "markdown",
   "metadata": {},
   "source": [
    "### Factorial"
   ]
  },
  {
   "cell_type": "markdown",
   "metadata": {},
   "source": [
    "Factorial is one of the most commonly used example of recursion. It is defined as\n",
    "\n",
    "$$\n",
    "\\begin{align}\n",
    "n! = n × (n - 1) × ... × 2 × 1 &&n > 1\n",
    "\\end{align}\n",
    "$$\n",
    "\n",
    "which can also be written as\n",
    "\n",
    "$$\n",
    "\\begin{align}\n",
    "n! &= n × (n - 1)! &n > 0 \\\\\n",
    "   &= 1 &n = 0  \n",
    "\\end{align}\n",
    "$$"
   ]
  },
  {
   "cell_type": "markdown",
   "metadata": {},
   "source": [
    "This function can be easily implemented using the skills we just learned:"
   ]
  },
  {
   "cell_type": "code",
   "execution_count": null,
   "metadata": {},
   "outputs": [],
   "source": [
    "# define a recursive factorial function\n",
    "\n",
    "def factorial(n):\n",
    "    if n == 0:\n",
    "        return 1\n",
    "    \n",
    "    return n * factorial(n - 1)"
   ]
  },
  {
   "cell_type": "code",
   "execution_count": null,
   "metadata": {},
   "outputs": [],
   "source": [
    "factorial(10)"
   ]
  },
  {
   "cell_type": "markdown",
   "metadata": {},
   "source": [
    "### Visualizing the order of execution"
   ]
  },
  {
   "cell_type": "markdown",
   "metadata": {},
   "source": [
    "To start, take a look at this print example:"
   ]
  },
  {
   "cell_type": "markdown",
   "metadata": {},
   "source": [
    "<div class=\"alert alert-success alertsuccess\">\n",
    "[Tip]: Recall in our previous session the user of <kbd>'</kbd> and <kbd>\"</kbd> for defining a string\n",
    "</div>"
   ]
  },
  {
   "cell_type": "code",
   "execution_count": null,
   "metadata": {},
   "outputs": [],
   "source": [
    "# print a python code to screen\n",
    "\n",
    "print(\"print('I am calling myself!')\")"
   ]
  },
  {
   "cell_type": "markdown",
   "metadata": {},
   "source": [
    "and the <code>*</code> operator for string:"
   ]
  },
  {
   "cell_type": "code",
   "execution_count": null,
   "metadata": {},
   "outputs": [],
   "source": [
    "'abcd' * 2"
   ]
  },
  {
   "cell_type": "markdown",
   "metadata": {},
   "source": [
    "We first define our self-calling function as:"
   ]
  },
  {
   "cell_type": "code",
   "execution_count": null,
   "metadata": {},
   "outputs": [],
   "source": [
    "def call_myself(num):\n",
    "    if num >= 4:\n",
    "        return\n",
    "        \n",
    "    call_myself(num + 1)\n",
    "    print('I am calling myself!')"
   ]
  },
  {
   "cell_type": "code",
   "execution_count": null,
   "metadata": {},
   "outputs": [],
   "source": [
    "call_myself(0)"
   ]
  },
  {
   "cell_type": "markdown",
   "metadata": {},
   "source": [
    "We then replicate the process and add printings to visualize the code we execute:"
   ]
  },
  {
   "cell_type": "code",
   "execution_count": null,
   "metadata": {},
   "outputs": [],
   "source": [
    "def show_exec_order(num):\n",
    "    if num >= 4:\n",
    "        print('    ' * num + 'return')\n",
    "        return\n",
    "        \n",
    "    print('    ' * num + 'call_myself(' + str(num) + ' + 1)')\n",
    "    show_exec_order(num + 1)\n",
    "    \n",
    "    print('    ' * num + \"print('I am calling myself!')\")"
   ]
  },
  {
   "cell_type": "code",
   "execution_count": null,
   "metadata": {},
   "outputs": [],
   "source": [
    "show_exec_order(0)"
   ]
  },
  {
   "cell_type": "markdown",
   "metadata": {},
   "source": [
    "If we swap the <code>call_myself</code> and the <code>print</code>, and do the same for <code>show_exec_order</code>:"
   ]
  },
  {
   "cell_type": "code",
   "execution_count": null,
   "metadata": {},
   "outputs": [],
   "source": [
    "def call_myself(num):\n",
    "    if num >= 4:\n",
    "        return\n",
    "        \n",
    "    print('I am calling myself!')\n",
    "    call_myself(num + 1)"
   ]
  },
  {
   "cell_type": "code",
   "execution_count": null,
   "metadata": {},
   "outputs": [],
   "source": [
    "def show_exec_order(num):\n",
    "    if num >= 4:\n",
    "        print('    ' * num + 'return')\n",
    "        return\n",
    "    \n",
    "    print('    ' * num + \"print('I am calling myself!')\")\n",
    "    \n",
    "    print('    ' * num + 'call_myself(' + str(num) + ' + 1)')\n",
    "    show_exec_order(num + 1)"
   ]
  },
  {
   "cell_type": "code",
   "execution_count": null,
   "metadata": {},
   "outputs": [],
   "source": [
    "call_myself(0)"
   ]
  },
  {
   "cell_type": "code",
   "execution_count": null,
   "metadata": {},
   "outputs": [],
   "source": [
    "show_exec_order(0)"
   ]
  },
  {
   "cell_type": "markdown",
   "metadata": {},
   "source": [
    "### L-system"
   ]
  },
  {
   "cell_type": "markdown",
   "metadata": {},
   "source": [
    "An L-system or Lindenmayer system is a parallel rewriting system. An L-system consists of a set of symbols and rewriting rules.\n",
    "\n",
    "Take a look at this example:\n",
    "\n",
    "- symbols : A B\n",
    "- rules  : (A → AB), (B → A)"
   ]
  },
  {
   "cell_type": "markdown",
   "metadata": {},
   "source": [
    "We first implement a function which contains all the rules:"
   ]
  },
  {
   "cell_type": "code",
   "execution_count": null,
   "metadata": {},
   "outputs": [],
   "source": [
    "# apply the rules for one character\n",
    "def rule(lhs):\n",
    "    if lhs == 'A':\n",
    "        rhs = 'AB'   # Rule 1\n",
    "    elif lhs == 'B':\n",
    "        rhs = 'A'  # Rule 2\n",
    "    else:\n",
    "        rhs = lhs   # no rules apply so keep the character\n",
    "\n",
    "    return rhs"
   ]
  },
  {
   "cell_type": "markdown",
   "metadata": {},
   "source": [
    "Then we define a function, which process a tape (a string) using the rules, one character after the other."
   ]
  },
  {
   "cell_type": "code",
   "execution_count": null,
   "metadata": {},
   "outputs": [],
   "source": [
    "# process a tape and apply all rules\n",
    "def process(tape, position):\n",
    "    tape_len = len(tape)\n",
    "    if position >= tape_len:\n",
    "        return \"\"\n",
    "    \n",
    "    # [position] means to take the position-th character of the string\n",
    "    lhs = tape[position]\n",
    "    \n",
    "    return rule(lhs) + process(tape, position + 1)"
   ]
  },
  {
   "cell_type": "markdown",
   "metadata": {},
   "source": [
    "Lastly, we define a function to repeat the process several times"
   ]
  },
  {
   "cell_type": "code",
   "execution_count": null,
   "metadata": {},
   "outputs": [],
   "source": [
    "# process a tape several times\n",
    "def run(tape, count):\n",
    "    print(tape)\n",
    "    if count <= 0:\n",
    "        return\n",
    "    \n",
    "    tape = process(tape, 0)\n",
    "    run(tape, count - 1)"
   ]
  },
  {
   "cell_type": "markdown",
   "metadata": {},
   "source": [
    "If we call the run function"
   ]
  },
  {
   "cell_type": "code",
   "execution_count": null,
   "metadata": {},
   "outputs": [],
   "source": [
    "run('A', 0)"
   ]
  },
  {
   "cell_type": "code",
   "execution_count": null,
   "metadata": {},
   "outputs": [],
   "source": [
    "run('A', 1)"
   ]
  },
  {
   "cell_type": "code",
   "execution_count": null,
   "metadata": {},
   "outputs": [],
   "source": [
    "run('A', 4)"
   ]
  },
  {
   "cell_type": "markdown",
   "metadata": {},
   "source": [
    "<div class=\"alert alert-block alert-info\">\n",
    "[Further reading]: For more info. regrding L-system, check the <a href=\"https://en.wikipedia.org/wiki/L-system\">wiki page</a>.\n",
    "</div>"
   ]
  },
  {
   "cell_type": "markdown",
   "metadata": {},
   "source": [
    "### L-system: koch curve"
   ]
  },
  {
   "cell_type": "markdown",
   "metadata": {},
   "source": [
    "A koch curve is defined by the following rewriting rule:\n",
    "\n",
    "- symbols : F + -\n",
    "- rules  :  (F → F+F−F−F+F)\n",
    "\n",
    "where <code>F</code> represents draw forward, <code>+</code> means turn left, and <code>-</code> means turn right.\n",
    "\n",
    "We first implement the rules as:"
   ]
  },
  {
   "cell_type": "code",
   "execution_count": null,
   "metadata": {},
   "outputs": [],
   "source": [
    "# apply the rules for one character\n",
    "def rule(lhs):\n",
    "    if lhs == 'F':\n",
    "        rhs = 'F+F-F-F+F'\n",
    "    else:\n",
    "        rhs = lhs   # no rules apply so keep the character\n",
    "\n",
    "    return rhs"
   ]
  },
  {
   "cell_type": "markdown",
   "metadata": {},
   "source": [
    "We keep the process function unchanged, and we change the run function so that it returns the final tape for us:"
   ]
  },
  {
   "cell_type": "code",
   "execution_count": null,
   "metadata": {},
   "outputs": [],
   "source": [
    "# process a tape several times\n",
    "def run(tape, count):\n",
    "    print(tape)\n",
    "    if count <= 0:\n",
    "        return tape\n",
    "    \n",
    "    tape = process(tape, 0)\n",
    "    return run(tape, count - 1)"
   ]
  },
  {
   "cell_type": "code",
   "execution_count": null,
   "metadata": {},
   "outputs": [],
   "source": [
    "tape = run('F', 2)"
   ]
  },
  {
   "cell_type": "markdown",
   "metadata": {},
   "source": [
    "In addition, we define a function which translate the tape's character to drawing instructions.\n",
    "\n",
    "We use **ColabTurtle** for this"
   ]
  },
  {
   "cell_type": "code",
   "execution_count": null,
   "metadata": {},
   "outputs": [],
   "source": [
    "!pip install ColabTurtle\n",
    "\n",
    "import ColabTurtle.Turtle as t\n",
    "t.initializeTurtle(initial_speed = 10)"
   ]
  },
  {
   "cell_type": "markdown",
   "metadata": {},
   "source": [
    "<div class=\"alert alert-success alertsuccess\">\n",
    "    [Tip]: Recall in our last session about what is a Library and how to import a Library\n",
    "</div>"
   ]
  },
  {
   "cell_type": "code",
   "execution_count": null,
   "metadata": {},
   "outputs": [],
   "source": [
    "def draw_symbol(symbol):\n",
    "    if symbol == 'F':\n",
    "        t.forward(5)\n",
    "    elif symbol == '+':\n",
    "        t.right(90)\n",
    "    elif symbol == '-':\n",
    "        t.left(90)"
   ]
  },
  {
   "cell_type": "markdown",
   "metadata": {},
   "source": [
    "and a function which draw all the symbols of a tape:"
   ]
  },
  {
   "cell_type": "code",
   "execution_count": null,
   "metadata": {},
   "outputs": [],
   "source": [
    "# process a tape and apply all rules\n",
    "def draw_tape(tape, position):\n",
    "    tape_len = len(tape)\n",
    "    if position >= tape_len:\n",
    "        return\n",
    "    \n",
    "    # [position] means to take the position-th character of the string\n",
    "    symbol = tape[position]\n",
    "    draw_symbol(symbol)\n",
    "    draw_tape(tape, position + 1)"
   ]
  },
  {
   "cell_type": "code",
   "execution_count": null,
   "metadata": {},
   "outputs": [],
   "source": [
    "tape = run('F', 3)"
   ]
  },
  {
   "cell_type": "code",
   "execution_count": null,
   "metadata": {},
   "outputs": [],
   "source": [
    "t.home()\n",
    "t.clear()\n",
    "\n",
    "draw_tape(tape, 0)"
   ]
  },
  {
   "cell_type": "markdown",
   "metadata": {},
   "source": [
    "## Summary"
   ]
  },
  {
   "cell_type": "markdown",
   "metadata": {},
   "source": [
    "Recrusion is an effective way to repeat a code block many times. But it has its own limitations.\n",
    "\n",
    "In the next session we will introduce another important way to run code repetitively: **loops**"
   ]
  }
 ],
 "metadata": {
  "kernelspec": {
   "display_name": "Python 3",
   "language": "python",
   "name": "python3"
  },
  "language_info": {
   "codemirror_mode": {
    "name": "ipython",
    "version": 3
   },
   "file_extension": ".py",
   "mimetype": "text/x-python",
   "name": "python",
   "nbconvert_exporter": "python",
   "pygments_lexer": "ipython3",
   "version": "3.7.4"
  }
 },
 "nbformat": 4,
 "nbformat_minor": 2
}
