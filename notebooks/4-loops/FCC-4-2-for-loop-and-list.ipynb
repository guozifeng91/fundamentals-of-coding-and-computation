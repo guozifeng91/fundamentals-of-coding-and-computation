{
 "cells": [
  {
   "cell_type": "markdown",
   "metadata": {},
   "source": [
    "# Loops In Python: For Loop"
   ]
  },
  {
   "cell_type": "markdown",
   "metadata": {},
   "source": [
    "**Welcome!** This notebook will teach you about _for_ loop in Python. By the end of this notebook, you'll know how to repeat certain operation for each element of a list using _for_ loop. In addition, you will learn about examples such as how to rewrite the L-system from previous session, and how to compute the square for a list of numbers.\n",
    "\n",
    "<hr>"
   ]
  },
  {
   "cell_type": "markdown",
   "metadata": {},
   "source": [
    "## An example from _while_ loop"
   ]
  },
  {
   "cell_type": "markdown",
   "metadata": {},
   "source": [
    "When we were introducing _while_ loop, there was an example that contains this block of code\n",
    "\n",
    "```\n",
    "while i < len(tape):\n",
    "    new_tape = new_tape + rule(tape[i])\n",
    "    i = i + 1\n",
    "```\n",
    "\n",
    "What this block of code does is to repeat <code>rule</code> for each symbol of the input tape (i.e., <code>tape[i]</code>), until all symbols are processed."
   ]
  },
  {
   "cell_type": "markdown",
   "metadata": {},
   "source": [
    "This short example contains two very important parts:\n",
    "\n",
    "1. A type of data that consists of a **string of elements**, and\n",
    "2. A loop that repeats certain operation **for each** element of that type of data.\n",
    "\n",
    "These two parts form the core ideal of the _for_ loop"
   ]
  },
  {
   "cell_type": "markdown",
   "metadata": {},
   "source": [
    "## List-liked Data"
   ]
  },
  {
   "cell_type": "markdown",
   "metadata": {},
   "source": [
    "List-liked data are data types that can be seen as a collection of ordered elements. It has the concept of **length** and it normally allows the user to access each of its elements by specifying the **index** of the element.\n",
    "\n",
    "For example, the string we have learned is a type of like-liked data:"
   ]
  },
  {
   "cell_type": "markdown",
   "metadata": {},
   "source": [
    "### string"
   ]
  },
  {
   "cell_type": "code",
   "execution_count": null,
   "metadata": {},
   "outputs": [],
   "source": [
    "# define a string data\n",
    "\n",
    "a = \"hello\""
   ]
  },
  {
   "cell_type": "code",
   "execution_count": null,
   "metadata": {},
   "outputs": [],
   "source": [
    "# a is a string\n",
    "\n",
    "type(a)"
   ]
  },
  {
   "cell_type": "code",
   "execution_count": null,
   "metadata": {},
   "outputs": [],
   "source": [
    "# string has the concept of length\n",
    "\n",
    "len(a)"
   ]
  },
  {
   "cell_type": "code",
   "execution_count": null,
   "metadata": {},
   "outputs": [],
   "source": [
    "# string allow us to access its elements (characters) using index\n",
    "\n",
    "a[4]"
   ]
  },
  {
   "cell_type": "markdown",
   "metadata": {},
   "source": [
    "Except _string_, there are more data types in Python that are list-liked:"
   ]
  },
  {
   "cell_type": "markdown",
   "metadata": {},
   "source": [
    "### list"
   ]
  },
  {
   "cell_type": "markdown",
   "metadata": {},
   "source": [
    "_list_ is the most commonly used list-liked data type in Python. It also has the concept of **length**, and allows the user to access its elements by giving an **index**.\n",
    "\n",
    "Unlike _string_, the elements of a _list_ can be ANY type. The syntax of defining a _list_ is to use the <code>[</code> and <code>]</code> pairs. For example:"
   ]
  },
  {
   "cell_type": "code",
   "execution_count": null,
   "metadata": {},
   "outputs": [],
   "source": [
    "# a list of three numbers\n",
    "\n",
    "a = [1, 2, 3]"
   ]
  },
  {
   "cell_type": "code",
   "execution_count": null,
   "metadata": {},
   "outputs": [],
   "source": [
    "# a is a list\n",
    "\n",
    "type(a)"
   ]
  },
  {
   "cell_type": "code",
   "execution_count": null,
   "metadata": {},
   "outputs": [],
   "source": [
    "# list has the concept of length\n",
    "\n",
    "len(a)"
   ]
  },
  {
   "cell_type": "code",
   "execution_count": null,
   "metadata": {},
   "outputs": [],
   "source": [
    "# list allows us to access its element using index\n",
    "\n",
    "a[0]"
   ]
  },
  {
   "cell_type": "code",
   "execution_count": null,
   "metadata": {},
   "outputs": [],
   "source": [
    "# a list can contain any type of data\n",
    "\n",
    "b = [\"hello\", \"python\", True, 4, 5]\n",
    "type(b)"
   ]
  },
  {
   "cell_type": "markdown",
   "metadata": {},
   "source": [
    "We will introduce more about _list_ in our next sessions, when we reach the topic of data structure."
   ]
  },
  {
   "cell_type": "markdown",
   "metadata": {},
   "source": [
    "### range"
   ]
  },
  {
   "cell_type": "markdown",
   "metadata": {},
   "source": [
    "_range_ is another python data type that behaves like a list. A _range_ represents a series of number bounded by a pair of start and end values.\n",
    "\n",
    "A _range_ data type can be defined using the <code>range</code> command:"
   ]
  },
  {
   "cell_type": "code",
   "execution_count": null,
   "metadata": {},
   "outputs": [],
   "source": [
    "# range is another list-liked data type\n",
    "\n",
    "c = range(5, 15)\n",
    "type(c)"
   ]
  },
  {
   "cell_type": "code",
   "execution_count": null,
   "metadata": {},
   "outputs": [],
   "source": [
    "# range also has the concept of length\n",
    "\n",
    "len(c)"
   ]
  },
  {
   "cell_type": "code",
   "execution_count": null,
   "metadata": {},
   "outputs": [],
   "source": [
    "# range also allows us to access its element by providing an index\n",
    "\n",
    "c[5]"
   ]
  },
  {
   "cell_type": "markdown",
   "metadata": {},
   "source": [
    "We will explain more on these data types when we reached the session of data structure."
   ]
  },
  {
   "cell_type": "markdown",
   "metadata": {},
   "source": [
    "## For Loop"
   ]
  },
  {
   "cell_type": "markdown",
   "metadata": {},
   "source": [
    "In Python, a for loop is a special type of loop which repeats certain operation **for each** element of a list-liked data type.\n",
    "\n",
    "For example, repeat <code>print</code> for each element of a string <code>\"hello\"</code> can be written as:"
   ]
  },
  {
   "cell_type": "code",
   "execution_count": null,
   "metadata": {},
   "outputs": [],
   "source": [
    "# elem is a variable whose value will be\n",
    "# re-assigned during the executing of the for loop\n",
    "\n",
    "for elem in \"hello\":\n",
    "    print(elem)"
   ]
  },
  {
   "cell_type": "markdown",
   "metadata": {},
   "source": [
    "repeat <code>print</code> for each element of a <code>range</code> data type can be written as:"
   ]
  },
  {
   "cell_type": "code",
   "execution_count": null,
   "metadata": {},
   "outputs": [],
   "source": [
    "for i in range(10):\n",
    "    print(i)"
   ]
  },
  {
   "cell_type": "markdown",
   "metadata": {},
   "source": [
    "Similar to _while_ loop and other code structures, the code block after the <code>:</code> symbol is the _body_ of the _for_ loop and it should be written with indentation."
   ]
  },
  {
   "cell_type": "markdown",
   "metadata": {},
   "source": [
    "### Examples"
   ]
  },
  {
   "cell_type": "markdown",
   "metadata": {},
   "source": [
    "#### Compute the square of a list of integers"
   ]
  },
  {
   "cell_type": "code",
   "execution_count": null,
   "metadata": {},
   "outputs": [],
   "source": [
    "integers = [1, 2, 3, 4, 5]\n",
    "\n",
    "for i in integers:\n",
    "    print(i * i)"
   ]
  },
  {
   "cell_type": "markdown",
   "metadata": {},
   "source": [
    "#### summing a list of numbers"
   ]
  },
  {
   "cell_type": "code",
   "execution_count": null,
   "metadata": {},
   "outputs": [],
   "source": [
    "numbers = [3, 6.6, 7, 9.2, 12.5, 17.5]\n",
    "\n",
    "total = 0\n",
    "\n",
    "for n in numbers:\n",
    "    total = total + n\n",
    "\n",
    "print(total)"
   ]
  },
  {
   "cell_type": "markdown",
   "metadata": {},
   "source": [
    "#### multiplying a list of numbers"
   ]
  },
  {
   "cell_type": "code",
   "execution_count": null,
   "metadata": {},
   "outputs": [],
   "source": [
    "numbers = [3, 6.6, 7, 9.2, 12.5, 17.5]\n",
    "\n",
    "product = 1.0\n",
    "\n",
    "for n in numbers:\n",
    "    product = product * n\n",
    "\n",
    "print(product)"
   ]
  },
  {
   "cell_type": "markdown",
   "metadata": {},
   "source": [
    "### For loop expression"
   ]
  },
  {
   "cell_type": "markdown",
   "metadata": {},
   "source": [
    "In python, there exist a very special case of using _for_ loop: when you need to \n",
    "\n",
    "1. apply certain operation for each element of a list, and\n",
    "2. store the result as a new list\n",
    "\n",
    "For example, computing the square of\n",
    "\n",
    "```\n",
    "[1, 2, 3]\n",
    "```\n",
    "\n",
    "and store the result as\n",
    "\n",
    "```\n",
    "[1, 4, 9]\n",
    "```"
   ]
  },
  {
   "cell_type": "markdown",
   "metadata": {},
   "source": [
    "This type of tasks, can be written as a for loop **expression**:"
   ]
  },
  {
   "cell_type": "code",
   "execution_count": null,
   "metadata": {},
   "outputs": [],
   "source": [
    "# computing the square for each number in a list\n",
    "\n",
    "a = [1, 2, 3]\n",
    "b = [i * i for i in a]\n",
    "b"
   ]
  },
  {
   "cell_type": "markdown",
   "metadata": {},
   "source": [
    "The for loop expression should be placed inside a pair of <code>[</code> and <code>]</code> symbols. It starts with the operation we want to apply to the elements, and followed by a for loop statement:\n",
    "\n",
    "```\n",
    "result = [operation(elem) for elem in my_list]\n",
    "```"
   ]
  },
  {
   "cell_type": "code",
   "execution_count": null,
   "metadata": {},
   "outputs": [],
   "source": [
    "# getting the length for each string in a list\n",
    "\n",
    "a = [\"hello\", \"python\", \"!\"]\n",
    "b = [len(i) for i in a]\n",
    "b"
   ]
  },
  {
   "cell_type": "code",
   "execution_count": null,
   "metadata": {},
   "outputs": [],
   "source": [
    "# repeat the length of a string by a list of numbers\n",
    "\n",
    "a = [3, 5, 7, 9]\n",
    "b = [\"+\" * i for i in a]\n",
    "b"
   ]
  },
  {
   "cell_type": "markdown",
   "metadata": {},
   "source": [
    "## Rewriting the L-system"
   ]
  },
  {
   "cell_type": "markdown",
   "metadata": {},
   "source": [
    "As a final example, we would rewrite the l-system example from our last session.\n",
    "\n",
    "The l-system example\n",
    "\n",
    "```\n",
    "def process(tape):\n",
    "    new_tape = \"\"\n",
    "    i = 0\n",
    "    \n",
    "    while i < len(tape):\n",
    "        new_tape = new_tape + rule(tape[i])\n",
    "        i = i + 1\n",
    "        \n",
    "    return new_tape\n",
    "```\n",
    "\n",
    "repeats the <code>rule</code> for each element of <code>tape</code>, thus it can be rewritten as a for loop:"
   ]
  },
  {
   "cell_type": "code",
   "execution_count": null,
   "metadata": {},
   "outputs": [],
   "source": [
    "def process(tape):\n",
    "    new_tape = \"\"\n",
    "    for i in range(len(tape)):\n",
    "        new_tape = new_tape + rule(tape[i])\n",
    "    \n",
    "    return new_tape"
   ]
  },
  {
   "cell_type": "markdown",
   "metadata": {},
   "source": [
    "of course we should not miss our rule here:"
   ]
  },
  {
   "cell_type": "code",
   "execution_count": null,
   "metadata": {},
   "outputs": [],
   "source": [
    "# apply the rules for one character\n",
    "def rule(lhs):\n",
    "    if lhs == 'F':\n",
    "        return 'F+F-F-F+F'\n",
    "    \n",
    "    return lhs"
   ]
  },
  {
   "cell_type": "code",
   "execution_count": null,
   "metadata": {},
   "outputs": [],
   "source": [
    "process('F')"
   ]
  },
  {
   "cell_type": "code",
   "execution_count": null,
   "metadata": {},
   "outputs": [],
   "source": [
    "process('F+F-F-F+F')"
   ]
  },
  {
   "cell_type": "markdown",
   "metadata": {},
   "source": [
    "Further more, we can rewrite the <code>run</code> function\n",
    "\n",
    "```\n",
    "def run(tape, count):\n",
    "    while count > 0:\n",
    "        tape = process(tape)\n",
    "        count = count - 1\n",
    "        \n",
    "    return tape\n",
    "```\n",
    "\n",
    "so that we can repeat the <code>process</code> function several times"
   ]
  },
  {
   "cell_type": "code",
   "execution_count": null,
   "metadata": {},
   "outputs": [],
   "source": [
    "# process a tape several times\n",
    "def run(tape, count):\n",
    "    for i in range(count):\n",
    "        tape = process(tape)\n",
    "        \n",
    "    return tape"
   ]
  },
  {
   "cell_type": "markdown",
   "metadata": {},
   "source": [
    "As a final part of our rewriting task, we also need the <code>draw</code> function to translate each of the tape symbols to a drawing command\n",
    "\n",
    "```\n",
    "def draw_tape(tape, i):\n",
    "    tape_len = len(tape)\n",
    "    if i >= tape_len:\n",
    "        return\n",
    "    \n",
    "    draw_symbol(tape[i])\n",
    "    draw_tape(tape, i + 1)\n",
    "```"
   ]
  },
  {
   "cell_type": "code",
   "execution_count": null,
   "metadata": {},
   "outputs": [],
   "source": [
    "def draw_tape(tape):\n",
    "    for i in range(len(tape)):\n",
    "        draw_symbol(tape[i])"
   ]
  },
  {
   "cell_type": "markdown",
   "metadata": {},
   "source": [
    "The <code>draw_symbol</code> function, we keep it unchanged:"
   ]
  },
  {
   "cell_type": "code",
   "execution_count": null,
   "metadata": {},
   "outputs": [],
   "source": [
    "def draw_symbol(symbol):\n",
    "    if symbol == 'F':\n",
    "        t.forward(5)\n",
    "    elif symbol == '+':\n",
    "        t.right(90)\n",
    "    elif symbol == '-':\n",
    "        t.left(90)"
   ]
  },
  {
   "cell_type": "markdown",
   "metadata": {},
   "source": [
    "Finally, we import the turtle library just like last session:"
   ]
  },
  {
   "cell_type": "code",
   "execution_count": null,
   "metadata": {},
   "outputs": [],
   "source": [
    "!pip install ColabTurtle"
   ]
  },
  {
   "cell_type": "code",
   "execution_count": null,
   "metadata": {},
   "outputs": [],
   "source": [
    "import ColabTurtle.Turtle as t\n",
    "t.initializeTurtle(initial_speed = 13)\n",
    "t.DEFAULT_TURTLE_DEGREE = 0"
   ]
  },
  {
   "cell_type": "markdown",
   "metadata": {},
   "source": [
    "We can now run the turtle drawing for must more iterations:"
   ]
  },
  {
   "cell_type": "code",
   "execution_count": null,
   "metadata": {},
   "outputs": [],
   "source": [
    "tape = run('F', 5)\n",
    "\n",
    "tape"
   ]
  },
  {
   "cell_type": "code",
   "execution_count": null,
   "metadata": {},
   "outputs": [],
   "source": [
    "# reset the canvas\n",
    "t.home()\n",
    "\n",
    "t.setx(0)\n",
    "t.sety(0)\n",
    "\n",
    "t.clear()\n",
    "\n",
    "# start drawing\n",
    "draw_tape(tape)"
   ]
  }
 ],
 "metadata": {
  "kernelspec": {
   "display_name": "Python 3",
   "language": "python",
   "name": "python3"
  },
  "language_info": {
   "codemirror_mode": {
    "name": "ipython",
    "version": 3
   },
   "file_extension": ".py",
   "mimetype": "text/x-python",
   "name": "python",
   "nbconvert_exporter": "python",
   "pygments_lexer": "ipython3",
   "version": "3.7.4"
  }
 },
 "nbformat": 4,
 "nbformat_minor": 2
}
