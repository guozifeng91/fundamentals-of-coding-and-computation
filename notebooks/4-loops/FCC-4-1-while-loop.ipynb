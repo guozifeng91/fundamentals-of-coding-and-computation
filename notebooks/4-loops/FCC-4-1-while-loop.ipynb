{
 "cells": [
  {
   "cell_type": "markdown",
   "metadata": {},
   "source": [
    "# Loops in Python: While Loop"
   ]
  },
  {
   "cell_type": "markdown",
   "metadata": {},
   "source": [
    "**Welcome!** This notebook will teach you about while loop in Python. By the end of this notebook, you'll know how to run a block of code repetitively using while statement. In addition, you will learn about examples such as how to rewrite the L-system from previous session using while loop.\n",
    "\n",
    "<hr>"
   ]
  },
  {
   "cell_type": "markdown",
   "metadata": {},
   "source": [
    "## Conditions and Running Code Repetitively (Review)"
   ]
  },
  {
   "cell_type": "markdown",
   "metadata": {},
   "source": [
    "### Conditions (review)"
   ]
  },
  {
   "cell_type": "code",
   "execution_count": null,
   "metadata": {},
   "outputs": [],
   "source": [
    "today = \"monday\"\n",
    "\n",
    "if today == \"monday\":\n",
    "    print(\"order sushi\")\n",
    "elif today == \"thursday\":\n",
    "    print(\"order pizza\")\n",
    "else:\n",
    "    print(\"cook at home\")"
   ]
  },
  {
   "cell_type": "markdown",
   "metadata": {},
   "source": [
    "<div class=\"alert alert-success alertsuccess\">\n",
    "[Tip]: Recall in our previous session the comparision operators such as <kbd>==</kbd> and <kbd>!=</kbd>.\n",
    "</div>"
   ]
  },
  {
   "cell_type": "markdown",
   "metadata": {},
   "source": [
    "### Repetition by self-calling (review)"
   ]
  },
  {
   "cell_type": "markdown",
   "metadata": {},
   "source": [
    "In our previous session, we have learn that we can **repeat** certain operations **until** we reach our **stopping condition**.\n",
    "\n",
    "We also used the technique of a function calling itself to implement the above process.\n",
    "\n",
    "Lets quickly review these examples:"
   ]
  },
  {
   "cell_type": "markdown",
   "metadata": {},
   "source": [
    "#### The _call my self_ example:\n",
    "\n",
    "- repeat <code>print(\"I am calling myself\")</code>\n",
    "- until <code>count &lt;= 0</code>"
   ]
  },
  {
   "cell_type": "code",
   "execution_count": null,
   "metadata": {},
   "outputs": [],
   "source": [
    "def call_myself(count):\n",
    "    if count <= 0:\n",
    "        return\n",
    "    print(\"I am calling myself\")\n",
    "    call_myself(count-1)"
   ]
  },
  {
   "cell_type": "code",
   "execution_count": null,
   "metadata": {},
   "outputs": [],
   "source": [
    "call_myself(10)"
   ]
  },
  {
   "cell_type": "markdown",
   "metadata": {},
   "source": [
    "<div class=\"alert alert-success alertsuccess\">\n",
    "    [Tip]: Recall in our previous session the <code>return</code> keyword which interrupts the execution of a function and returns certain data to the caller of the function.\n",
    "</div>"
   ]
  },
  {
   "cell_type": "markdown",
   "metadata": {},
   "source": [
    "#### The _factorial_ example:\n",
    "\n",
    "- repeat <code>n * factorial(n-1)</code>\n",
    "- until <code>n == 0</code>"
   ]
  },
  {
   "cell_type": "code",
   "execution_count": null,
   "metadata": {},
   "outputs": [],
   "source": [
    "def factorial(n):\n",
    "    if n == 0:\n",
    "        return 1\n",
    "    return n * factorial(n-1)"
   ]
  },
  {
   "cell_type": "code",
   "execution_count": null,
   "metadata": {},
   "outputs": [],
   "source": [
    "factorial(10)"
   ]
  },
  {
   "cell_type": "markdown",
   "metadata": {},
   "source": [
    "#### The _L-system_ example:\n",
    "\n",
    "- repeat <code>new_tape = rule(tape[i]) + process(tape, i + 1)</code>\n",
    "- until <code>i >= len(tape)</code>\n",
    "\n",
    "This example looks more complex than others because the operation we are repeating involves another function"
   ]
  },
  {
   "cell_type": "code",
   "execution_count": null,
   "metadata": {},
   "outputs": [],
   "source": [
    "# apply the rules for one character\n",
    "def rule(symbol):\n",
    "    if symbol == 'A':\n",
    "        return 'AB'   # Rule 1\n",
    "    elif symbol == 'B':\n",
    "        return 'A'    # Rule 2\n",
    "    else:\n",
    "        return lhs    # no change\n",
    "\n",
    "# process a tape and apply all rules\n",
    "def process(tape, i):\n",
    "    if i >= len(tape):\n",
    "        return \"\"\n",
    "    \n",
    "    # [i] means to take the i-th character of the string\n",
    "    new_tape = rule(tape[i]) + process(tape, i + 1)\n",
    "    return new_tape"
   ]
  },
  {
   "cell_type": "code",
   "execution_count": null,
   "metadata": {},
   "outputs": [],
   "source": [
    "process(\"A\", 0)"
   ]
  },
  {
   "cell_type": "code",
   "execution_count": null,
   "metadata": {},
   "outputs": [],
   "source": [
    "process(\"AB\", 0)"
   ]
  },
  {
   "cell_type": "code",
   "execution_count": null,
   "metadata": {},
   "outputs": [],
   "source": [
    "process(\"ABA\", 0)"
   ]
  },
  {
   "cell_type": "markdown",
   "metadata": {},
   "source": [
    "Furthermore, the above process was repeated for multiple times\n",
    "\n",
    "- repeat <code>tape = process(tape, 0)</code>\n",
    "- until <code>count &lt;= 0</code>"
   ]
  },
  {
   "cell_type": "code",
   "execution_count": null,
   "metadata": {},
   "outputs": [],
   "source": [
    "# process a tape several times\n",
    "def run(tape, count):\n",
    "    if count <= 0:\n",
    "        return tape\n",
    "    \n",
    "    tape = process(tape, 0)\n",
    "    return run(tape, count - 1)"
   ]
  },
  {
   "cell_type": "code",
   "execution_count": null,
   "metadata": {},
   "outputs": [],
   "source": [
    "run('A', 10)"
   ]
  },
  {
   "cell_type": "markdown",
   "metadata": {},
   "source": [
    "### Limitations"
   ]
  },
  {
   "cell_type": "markdown",
   "metadata": {},
   "source": [
    "- the logic of the code may not be so straightforward to understand\n",
    "- the number of repeatition is limited"
   ]
  },
  {
   "cell_type": "markdown",
   "metadata": {},
   "source": [
    "## While loop"
   ]
  },
  {
   "cell_type": "markdown",
   "metadata": {},
   "source": [
    "### From \"until\" to \"while\""
   ]
  },
  {
   "cell_type": "markdown",
   "metadata": {},
   "source": [
    "In the above examples, we specified our stopping condition as \"until something is true\". This specification can be converted to its equivalent while sentence \"while something is true\". \n",
    "\n",
    "For example, \n",
    "- **repeat** something, **until** count is less than or equal to zero (<code>count &lt;= 0</code>), is logically equivalent to \n",
    "- **repeat** something, **while** count is greater than zero (<code>count &gt; 0</code>).\n"
   ]
  },
  {
   "cell_type": "markdown",
   "metadata": {},
   "source": [
    "### _while_ statement "
   ]
  },
  {
   "cell_type": "markdown",
   "metadata": {},
   "source": [
    "The conversion from **until** to **while** helps us to repeat our code in another way: the _while loop_.\n",
    "\n",
    "In python, _while loop_ is defined by a _while_ statement. A _while_ statement starts with the <code>while</code> keyword, followed by an expression that can be evalutes as <code>True</code> or <code>False</code>, and then a colon symbol <code>:</code>, and finally a _body_ with indentations."
   ]
  },
  {
   "cell_type": "code",
   "execution_count": null,
   "metadata": {},
   "outputs": [],
   "source": [
    "# repeat a = a - 1\n",
    "# while a > 0 (i.e., until a <= 0)\n",
    "\n",
    "a = 10\n",
    "\n",
    "while a > 0:\n",
    "    a = a - 1\n",
    "    print(a)"
   ]
  },
  {
   "cell_type": "markdown",
   "metadata": {},
   "source": [
    "The _body_ of the while statement is executed repetitvely, **until** the expression after <code>while</code> keyword does not yield <code>True</code> anymore."
   ]
  },
  {
   "cell_type": "markdown",
   "metadata": {},
   "source": [
    "<div class=\"alert alert-success alertsuccess\">\n",
    "    [Tip]: Recall in our previous session the syntax and the use of <code>indentation</code>.\n",
    "</div>"
   ]
  },
  {
   "cell_type": "markdown",
   "metadata": {},
   "source": [
    "But can I still specify my logic in a **until** fashion?"
   ]
  },
  {
   "cell_type": "markdown",
   "metadata": {},
   "source": [
    "### _break_ keyword"
   ]
  },
  {
   "cell_type": "markdown",
   "metadata": {},
   "source": [
    "The answer is yes, for that, we still need to use the <code>while</code> keyword because of the syntax reason. \n",
    "And instead of specifying our executing condition after the <code>while</code>, we can change it in this way:"
   ]
  },
  {
   "cell_type": "code",
   "execution_count": null,
   "metadata": {},
   "outputs": [],
   "source": [
    "# repeat a = a - 1\n",
    "# UNTIL a <= 0\n",
    "\n",
    "a = 10\n",
    "\n",
    "while True:\n",
    "    if a <= 0:\n",
    "        break\n",
    "        \n",
    "    a = a - 1\n",
    "    print(a)"
   ]
  },
  {
   "cell_type": "markdown",
   "metadata": {},
   "source": [
    "In the above example, the <code>while True</code> and the <code>break</code> keyword are the trick.\n",
    "\n",
    "As <code>True</code> always yields the _True_ value, the <code>while True</code> esentially means to repeat the body forever. It behaves like an infinit loop, and thus require us to specify the stopping condition in the _body_.\n",
    "\n",
    "What the <code>break</code> keyword does is to **interrupt** the execution of the _body_, it is quite similar with the _return_ keyword for a function. When the <code>break</code> keyword is used with a condition statement, it serves as the stopping condition of our loop."
   ]
  },
  {
   "cell_type": "markdown",
   "metadata": {},
   "source": [
    "### The position of stopping condition matters"
   ]
  },
  {
   "cell_type": "markdown",
   "metadata": {},
   "source": [
    "Lets take a look of these two examples:"
   ]
  },
  {
   "cell_type": "code",
   "execution_count": null,
   "metadata": {},
   "outputs": [],
   "source": [
    "# stopping condition in front\n",
    "\n",
    "a = -1\n",
    "\n",
    "while True:\n",
    "    if a <= 0:\n",
    "        break\n",
    "        \n",
    "    a = a - 1\n",
    "    print(a)"
   ]
  },
  {
   "cell_type": "code",
   "execution_count": null,
   "metadata": {},
   "outputs": [],
   "source": [
    "# stopping condition at the end\n",
    "\n",
    "a = -1\n",
    "\n",
    "while True:  \n",
    "    a = a - 1\n",
    "    print(a)\n",
    "    \n",
    "    if a <= 0:\n",
    "        break"
   ]
  },
  {
   "cell_type": "markdown",
   "metadata": {},
   "source": [
    "What is the difference? \n",
    "\n",
    "The first code does the condition check **before** the execution of certain operations, while the second one does it **after**.\n",
    "\n",
    "Which means, when your code is written in the second way, the body part will be executed at least once.\n",
    "\n",
    "Both ways are quite common used in coding. But keep in mind their difference helps you to avoid errors and bugs."
   ]
  },
  {
   "cell_type": "markdown",
   "metadata": {},
   "source": [
    "### Example"
   ]
  },
  {
   "cell_type": "markdown",
   "metadata": {},
   "source": [
    "For our l-system, we defined a tape-processing function as\n",
    "\n",
    "```\n",
    "# process a tape and apply all rules\n",
    "def process(tape, i):\n",
    "    if i >= len(tape):\n",
    "        return \"\"\n",
    "    \n",
    "    # [i] means to take the i-th character of the string\n",
    "    new_tape = rule(tape[i]) + process(tape, i + 1)\n",
    "    return new_tape\n",
    "```\n",
    "\n",
    "This function can be rewritten using the while loop:"
   ]
  },
  {
   "cell_type": "code",
   "execution_count": null,
   "metadata": {},
   "outputs": [],
   "source": [
    "# process a tape and apply all rules\n",
    "def process(tape):\n",
    "    new_tape = \"\"\n",
    "    i = 0\n",
    "    \n",
    "    while i < len(tape):\n",
    "        # [i] means to take the i-th character of the string\n",
    "        # append the new tape with rule(tape[i])\n",
    "        new_tape = new_tape + rule(tape[i])\n",
    "        \n",
    "        # we need to add up i or we will fall into infinite loop\n",
    "        i = i + 1\n",
    "        \n",
    "    return new_tape"
   ]
  },
  {
   "cell_type": "code",
   "execution_count": null,
   "metadata": {},
   "outputs": [],
   "source": [
    "process('A')"
   ]
  },
  {
   "cell_type": "code",
   "execution_count": null,
   "metadata": {},
   "outputs": [],
   "source": [
    "process('AB')"
   ]
  },
  {
   "cell_type": "markdown",
   "metadata": {},
   "source": [
    "We an also rewrite the <code>run</code> function\n",
    "    \n",
    "```\n",
    "# process a tape several times\n",
    "def run(tape, count):\n",
    "    if count <= 0:\n",
    "        return tape\n",
    "    \n",
    "    tape = process(tape, 0)\n",
    "    return run(tape, count - 1)\n",
    "```\n",
    "\n",
    "using while loop:"
   ]
  },
  {
   "cell_type": "code",
   "execution_count": null,
   "metadata": {},
   "outputs": [],
   "source": [
    "# process a tape several times\n",
    "def run(tape, count):\n",
    "    while count > 0:\n",
    "        tape = process(tape)\n",
    "        count = count - 1\n",
    "        \n",
    "    return tape"
   ]
  },
  {
   "cell_type": "code",
   "execution_count": null,
   "metadata": {},
   "outputs": [],
   "source": [
    "run('A', 10)"
   ]
  }
 ],
 "metadata": {
  "kernelspec": {
   "display_name": "Python 3",
   "language": "python",
   "name": "python3"
  },
  "language_info": {
   "codemirror_mode": {
    "name": "ipython",
    "version": 3
   },
   "file_extension": ".py",
   "mimetype": "text/x-python",
   "name": "python",
   "nbconvert_exporter": "python",
   "pygments_lexer": "ipython3",
   "version": "3.7.4"
  }
 },
 "nbformat": 4,
 "nbformat_minor": 2
}
