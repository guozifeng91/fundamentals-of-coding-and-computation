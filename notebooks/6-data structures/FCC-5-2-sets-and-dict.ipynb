{
 "cells": [
  {
   "cell_type": "markdown",
   "metadata": {},
   "source": [
    "# Data structure in Python: Set and Dictionary"
   ]
  },
  {
   "cell_type": "markdown",
   "metadata": {},
   "source": [
    "**Welcome!** This notebook will teach you about set and dictionary data structures in Python. By the end of this notebook, you'll know how to create them, and how to add / remove elements. In addition, you will learn examples about how they can be useful when solving specific problems.\n",
    "\n",
    "<hr>"
   ]
  },
  {
   "cell_type": "markdown",
   "metadata": {},
   "source": [
    "## Set"
   ]
  },
  {
   "cell_type": "markdown",
   "metadata": {},
   "source": [
    "In Python, a set is a unique collection of elements. A set is normally unordered and thus does not support indexing.\n",
    "\n",
    "\n",
    "To create a set, put all elements between a pair of curly bracket <code>{}</code>. Python will automatically remove duplicate items:"
   ]
  },
  {
   "cell_type": "code",
   "execution_count": null,
   "metadata": {},
   "outputs": [],
   "source": [
    "# create a set manually\n",
    "\n",
    "a = {1, 1, 2, 3, 3, 4, 5}\n",
    "type(a)"
   ]
  },
  {
   "cell_type": "markdown",
   "metadata": {},
   "source": [
    "You can also use the <code>set()</code> command to create a set from a list-liked object:"
   ]
  },
  {
   "cell_type": "code",
   "execution_count": null,
   "metadata": {},
   "outputs": [],
   "source": [
    "# create a set of unique characters from a string\n",
    "\n",
    "set(\"hello, python!\")"
   ]
  },
  {
   "cell_type": "markdown",
   "metadata": {},
   "source": [
    "### Adding / Removing elements"
   ]
  },
  {
   "cell_type": "markdown",
   "metadata": {},
   "source": [
    "To add an element to a set, or to remove an element from a set, we can use <code><i>set</i>.add()</code> and <code><i>set</i>.remove()</code> functions. For example:"
   ]
  },
  {
   "cell_type": "code",
   "execution_count": null,
   "metadata": {},
   "outputs": [],
   "source": [
    "# create a set of unique characters from a string\n",
    "a = set(\"hello\")\n",
    "\n",
    "# add a character to the set\n",
    "a.add('x')\n",
    "\n",
    "a"
   ]
  },
  {
   "cell_type": "code",
   "execution_count": null,
   "metadata": {},
   "outputs": [],
   "source": [
    "'x' in a"
   ]
  },
  {
   "cell_type": "code",
   "execution_count": null,
   "metadata": {},
   "outputs": [],
   "source": [
    "# remove a character from the set\n",
    "a.remove('h')\n",
    "\n",
    "a"
   ]
  },
  {
   "cell_type": "markdown",
   "metadata": {},
   "source": [
    "### Size of set"
   ]
  },
  {
   "cell_type": "markdown",
   "metadata": {},
   "source": [
    "Set has the concept of size, and in Python we can use the <code>len()</code> function to obtain it."
   ]
  },
  {
   "cell_type": "code",
   "execution_count": null,
   "metadata": {},
   "outputs": [],
   "source": [
    "len(set(\"hello, python!\"))"
   ]
  },
  {
   "cell_type": "markdown",
   "metadata": {},
   "source": [
    "However, set has no order and cannot use indexing"
   ]
  },
  {
   "cell_type": "code",
   "execution_count": null,
   "metadata": {},
   "outputs": [],
   "source": [
    "a = set(\"hello, python!\")\n",
    "\n",
    "a[0]"
   ]
  },
  {
   "cell_type": "markdown",
   "metadata": {},
   "source": [
    "To visit each element of a set, we can either\n",
    "- make it a list using <code>list()</code> function, and then use indexing, or\n",
    "- use _for_ loop"
   ]
  },
  {
   "cell_type": "code",
   "execution_count": null,
   "metadata": {},
   "outputs": [],
   "source": [
    "a = set(\"hello, python!\")\n",
    "b = list(a)\n",
    "\n",
    "b[0]"
   ]
  },
  {
   "cell_type": "code",
   "execution_count": null,
   "metadata": {},
   "outputs": [],
   "source": [
    "a = set(\"hello, python!\")\n",
    "\n",
    "for i in a:\n",
    "    print(i)"
   ]
  },
  {
   "cell_type": "markdown",
   "metadata": {},
   "source": [
    "The meaning of **has no order** is not that there is literary no order, but rather that the actual order of the element depends on the internal algorithm and cannot be easily controlled by us. In this case, we may expect arbitrary order when computing a set from a list."
   ]
  },
  {
   "cell_type": "markdown",
   "metadata": {},
   "source": [
    "### Set operations"
   ]
  },
  {
   "cell_type": "markdown",
   "metadata": {},
   "source": [
    "Sets are useful tools when we want to find elements that satisfy certain criteria. For example, the sharing elements of two sets."
   ]
  },
  {
   "cell_type": "markdown",
   "metadata": {},
   "source": [
    "#### Intersection"
   ]
  },
  {
   "cell_type": "markdown",
   "metadata": {},
   "source": [
    "The sharing elements of two or multiple sets are called the _intersection_.\n",
    "\n",
    "<img src=\"https://upload.wikimedia.org/wikipedia/commons/9/99/Venn0001.svg\" width=\"200\"/>\n",
    "\n",
    "In python, we can compute the intersection of sets using <code>&</code> symbol, or using <code><i>set</i>.intersection()</code> function."
   ]
  },
  {
   "cell_type": "code",
   "execution_count": null,
   "metadata": {},
   "outputs": [],
   "source": [
    "# we got two burger provider\n",
    "\n",
    "mcdonalds = {\"big mac\", \"french fries\", \"coca-cola\"}\n",
    "\n",
    "burger_king = {\"whopper\", \"french fries\", \"coca-cola\"}"
   ]
  },
  {
   "cell_type": "code",
   "execution_count": null,
   "metadata": {},
   "outputs": [],
   "source": [
    "# intersection is what the two provider both serve\n",
    "\n",
    "mcdonalds & burger_king"
   ]
  },
  {
   "cell_type": "code",
   "execution_count": null,
   "metadata": {},
   "outputs": [],
   "source": [
    "# intersection is what the two provider both serve\n",
    "\n",
    "mcdonalds.intersection(burger_king)"
   ]
  },
  {
   "cell_type": "markdown",
   "metadata": {},
   "source": [
    "#### difference"
   ]
  },
  {
   "cell_type": "markdown",
   "metadata": {},
   "source": [
    "The elements that belong to only one set, but not the other, is called the _difference_.\n",
    "\n",
    "<img src=\"https://upload.wikimedia.org/wikipedia/commons/2/23/Relative_compliment.svg\" width=\"200\"/>\n",
    "\n",
    "In python, we can compute the difference of sets using <code><i>set</i>.difference()</code> function."
   ]
  },
  {
   "cell_type": "code",
   "execution_count": null,
   "metadata": {},
   "outputs": [],
   "source": [
    "# difference is what is served only by one provider\n",
    "\n",
    "mcdonalds.difference(burger_king)"
   ]
  },
  {
   "cell_type": "code",
   "execution_count": null,
   "metadata": {},
   "outputs": [],
   "source": [
    "# difference is what is served only by one provider\n",
    "\n",
    "burger_king.difference(mcdonalds)"
   ]
  },
  {
   "cell_type": "markdown",
   "metadata": {},
   "source": [
    "#### union"
   ]
  },
  {
   "cell_type": "markdown",
   "metadata": {},
   "source": [
    "A larger set, that contains all elements from all sets, is called the _union_.\n",
    "\n",
    "<img src=\"https://upload.wikimedia.org/wikipedia/commons/3/30/Venn0111.svg\" width=\"200\"/>\n",
    "\n",
    "In python, we can compute the difference of sets using <code><i>set</i>.union()</code> function."
   ]
  },
  {
   "cell_type": "code",
   "execution_count": null,
   "metadata": {},
   "outputs": [],
   "source": [
    "# if the two provider become one, this is what they serve\n",
    "\n",
    "burger_king.union(mcdonald_s)"
   ]
  },
  {
   "cell_type": "markdown",
   "metadata": {},
   "source": [
    "### Example"
   ]
  },
  {
   "cell_type": "markdown",
   "metadata": {},
   "source": [
    "See how McDonald's and Burger King talk about themselves\n",
    "\n",
    "https://www.mcdonalds.com/us/en-us/about-us.html\n",
    "\n",
    "https://www.bk.com/about-bk"
   ]
  },
  {
   "cell_type": "code",
   "execution_count": null,
   "metadata": {},
   "outputs": [],
   "source": [
    "mcdonalds = \"Our story starts with one man. Back in 1954, a man named Ray Kroc discovered a small burger restaurant in California, and wrote the first page of our history. From humble beginnings as a small restaurant, we're proud to have become one of the world's leading food service brands with more than 36,000 restaurants in more than 100 countries.\".lower()\n",
    "mcdonalds"
   ]
  },
  {
   "cell_type": "code",
   "execution_count": null,
   "metadata": {},
   "outputs": [],
   "source": [
    "burger_king = \"Great Food Comes First Every day, more than 11 million guests visit Burger King restaurants around the world. And they do so because our restaurants are known for serving high-quality, great-tasting, and affordable food. Founded in 1954, Burger King is the second largest fast food hamburger chain in the world. The original Home of the Whopper, our commitment to premium ingredients, signature recipes, and family-friendly dining experiences is what has defined our brand for more than 50 successful years.\".lower()\n",
    "burger_king"
   ]
  },
  {
   "cell_type": "code",
   "execution_count": null,
   "metadata": {},
   "outputs": [],
   "source": [
    "mcdonalds_words = set(mcdonalds.split(\" \"))\n",
    "mcdonalds_words"
   ]
  },
  {
   "cell_type": "code",
   "execution_count": null,
   "metadata": {},
   "outputs": [],
   "source": [
    "burger_king_words = set(burger_king.split(\" \"))\n",
    "burger_king_words"
   ]
  },
  {
   "cell_type": "code",
   "execution_count": null,
   "metadata": {},
   "outputs": [],
   "source": [
    "mcdonalds_words & burger_king_words"
   ]
  },
  {
   "cell_type": "markdown",
   "metadata": {},
   "source": [
    "## Dictionary"
   ]
  },
  {
   "cell_type": "markdown",
   "metadata": {},
   "source": [
    "Dictionary is a data type which we use when we want to associate some data with something else. For example, when we want to associate the name of restaurants with their founding years.\n",
    "\n",
    "In Python, we can create a dictionary by putting all key-value pairs between a pair of curly bracket <code>{}</code>. A key-value pair is defined by putting two values on each side of a colon <code>:</code>."
   ]
  },
  {
   "cell_type": "code",
   "execution_count": null,
   "metadata": {},
   "outputs": [],
   "source": [
    "founding_year = {\"mcdonald's\": 1954, \"burger king\": 1954, \"wendy's\": 1969, \"popeyes\": 1972, \"chick-fil-a\":1946}\n",
    "\n",
    "type(founding_year)"
   ]
  },
  {
   "cell_type": "code",
   "execution_count": null,
   "metadata": {},
   "outputs": [],
   "source": [
    "type_of_food = {\"mcdonald's\": \"burger\", \"burger king\": \"burger\", \"wendy's\": \"burger\", \"popeyes\":\"chicken\", \"chick-fil-a\":\"chicken\"}\n",
    "\n",
    "type(founding_year)"
   ]
  },
  {
   "cell_type": "markdown",
   "metadata": {},
   "source": [
    "### Size of dictionary"
   ]
  },
  {
   "cell_type": "markdown",
   "metadata": {},
   "source": [
    "Dictionary also has the concept of size, and in Python we can use the <code>len()</code> function to obtain it."
   ]
  },
  {
   "cell_type": "code",
   "execution_count": null,
   "metadata": {},
   "outputs": [],
   "source": [
    "len(founding_year)"
   ]
  },
  {
   "cell_type": "markdown",
   "metadata": {},
   "source": [
    "### Keys and values"
   ]
  },
  {
   "cell_type": "markdown",
   "metadata": {},
   "source": [
    "Unlike list whose elements are accessed by indexes. For dictionary, we need to access _values_ from _keys_."
   ]
  },
  {
   "cell_type": "code",
   "execution_count": null,
   "metadata": {},
   "outputs": [],
   "source": [
    "founding_year[\"mcdonald's\"]"
   ]
  },
  {
   "cell_type": "code",
   "execution_count": null,
   "metadata": {},
   "outputs": [],
   "source": [
    "type_of_food[\"burger king\"]"
   ]
  },
  {
   "cell_type": "code",
   "execution_count": null,
   "metadata": {},
   "outputs": [],
   "source": [
    "type_of_food[3]"
   ]
  },
  {
   "cell_type": "markdown",
   "metadata": {},
   "source": [
    "To get all the keys we can either\n",
    "- convert the dictionary in to a list or set, using the <code>list()</code> or <code>set()</code> function\n",
    "- use _for_ loop"
   ]
  },
  {
   "cell_type": "code",
   "execution_count": null,
   "metadata": {},
   "outputs": [],
   "source": [
    "restaurants = list(founding_year)\n",
    "restaurants"
   ]
  },
  {
   "cell_type": "code",
   "execution_count": null,
   "metadata": {},
   "outputs": [],
   "source": [
    "for name in type_of_food:\n",
    "    print(name, \"servers\", type_of_food[name])"
   ]
  },
  {
   "cell_type": "markdown",
   "metadata": {},
   "source": [
    "#### check if a key exist"
   ]
  },
  {
   "cell_type": "markdown",
   "metadata": {},
   "source": [
    "We can use the <code>in</code> operator to check if a key exists in a dictionary:"
   ]
  },
  {
   "cell_type": "code",
   "execution_count": null,
   "metadata": {},
   "outputs": [],
   "source": [
    "\"mcdonald's\" in founding_year"
   ]
  },
  {
   "cell_type": "code",
   "execution_count": null,
   "metadata": {},
   "outputs": [],
   "source": [
    "\"kfc\" in founding_year"
   ]
  },
  {
   "cell_type": "markdown",
   "metadata": {},
   "source": [
    "### Adding / updating key-value pairs"
   ]
  },
  {
   "cell_type": "markdown",
   "metadata": {},
   "source": [
    "Adding a key-value pair to a dictionary is rather simple, it uses the same syntax as list indexing. For example:"
   ]
  },
  {
   "cell_type": "code",
   "execution_count": null,
   "metadata": {},
   "outputs": [],
   "source": [
    "# adding a key-value pair\n",
    "\n",
    "founding_year[\"kfc\"] = 1930\n",
    "\n",
    "founding_year[\"kfc\"]"
   ]
  },
  {
   "cell_type": "code",
   "execution_count": null,
   "metadata": {},
   "outputs": [],
   "source": [
    "# adding a key-value pair\n",
    "\n",
    "type_of_food[\"kfc\"] = \"burger\"\n",
    "\n",
    "type_of_food[\"kfc\"]"
   ]
  },
  {
   "cell_type": "code",
   "execution_count": null,
   "metadata": {},
   "outputs": [],
   "source": [
    "# updating a key-value pair\n",
    "\n",
    "type_of_food[\"kfc\"] = \"chicken\"\n",
    "\n",
    "type_of_food[\"kfc\"]"
   ]
  },
  {
   "cell_type": "markdown",
   "metadata": {},
   "source": [
    "### Removing key-value pairs"
   ]
  },
  {
   "cell_type": "markdown",
   "metadata": {},
   "source": [
    "To remove a key-value pair, we need to use the <code>del</code> keyword:"
   ]
  },
  {
   "cell_type": "code",
   "execution_count": null,
   "metadata": {},
   "outputs": [],
   "source": [
    "del founding_year[\"kfc\"]\n",
    "del type_of_food[\"kfc\"]"
   ]
  },
  {
   "cell_type": "code",
   "execution_count": null,
   "metadata": {},
   "outputs": [],
   "source": [
    "founding_year[\"kfc\"]"
   ]
  },
  {
   "cell_type": "code",
   "execution_count": null,
   "metadata": {},
   "outputs": [],
   "source": [
    "type_of_food[\"kfc\"]"
   ]
  },
  {
   "cell_type": "markdown",
   "metadata": {},
   "source": [
    "### Get all key-value pairs"
   ]
  },
  {
   "cell_type": "markdown",
   "metadata": {},
   "source": [
    "We can use the <code><i>dict</i>.items()</code> to get all keu-value pairs as a list-liked data:"
   ]
  },
  {
   "cell_type": "code",
   "execution_count": null,
   "metadata": {},
   "outputs": [],
   "source": [
    "restaurants = founding_year.items()\n",
    "restaurants"
   ]
  },
  {
   "cell_type": "markdown",
   "metadata": {},
   "source": [
    "### Examples"
   ]
  },
  {
   "cell_type": "markdown",
   "metadata": {},
   "source": [
    "This example demonstrate counting how many times each word appears in a text.\n",
    "\n",
    "https://en.wikipedia.org/wiki/McDonald%27s"
   ]
  },
  {
   "cell_type": "code",
   "execution_count": null,
   "metadata": {},
   "outputs": [],
   "source": [
    "text = \"McDonald's Corporation is an American multinational fast food chain, founded in 1940 as a restaurant operated by Richard and Maurice McDonald, in San Bernardino, California, United States. They rechristened their business as a hamburger stand, and later turned the company into a franchise, with the Golden Arches logo being introduced in 1953 at a location in Phoenix, Arizona. In 1955, Ray Kroc, a businessman, joined the company as a franchise agent and in 1961 bought out the McDonald brothers. Previously headquartered in Oak Brook, Illinois, it moved to nearby Chicago in June 2018. McDonald's is also a real estate company through its ownership of around 70% of restaurant buildings and 45% of the underlying land (which it leases to its franchisees). McDonald's is the world's largest fast food restaurant chain, serving over 69 million customers daily in over 100 countries in more than 40,000 outlets as of 2021. McDonald's is best known for its hamburgers, cheeseburgers and french fries, although their menu also includes other items like chicken, fish, fruit, and salads. Their best-selling licensed item are their french fries, followed by the Big Mac. The McDonald's Corporation revenues come from the rent, royalties, and fees paid by the franchisees, as well as sales in company-operated restaurants. McDonald's is the world's second-largest private employer with 1.7 million employees (behind Walmart with 2.3 million employees), the majority of whom work in the restaurant's franchises. As of 2022, McDonald's has the sixth-highest global brand valuation. McDonald's has been subject to criticism over the health effects of its products, its treatment of employees, and the gifting of free food by its Israeli franchises to the Israeli Defense Forces during the 2023 Israel–Hamas war, the latter of which triggered a social media-induced boycott.\"\n",
    "\n",
    "# convert the text to lower case\n",
    "text = text.lower()\n",
    "\n",
    "# remove symbols\n",
    "text = text.replace(\",\",\"\")\n",
    "text = text.replace(\".\",\"\")\n",
    "text = text.replace(\"(\",\"\")\n",
    "text = text.replace(\")\",\"\")\n",
    "\n",
    "text"
   ]
  },
  {
   "cell_type": "code",
   "execution_count": null,
   "metadata": {},
   "outputs": [],
   "source": [
    "words = text.split(\" \")\n",
    "words"
   ]
  },
  {
   "cell_type": "code",
   "execution_count": null,
   "metadata": {},
   "outputs": [],
   "source": [
    "# create an empty dictionary\n",
    "word_count = {}\n",
    "\n",
    "for word in words:\n",
    "    if word in word_count:\n",
    "        # increase the counting result, if the word already in the dict\n",
    "        word_count[word] = word_count[word] + 1\n",
    "    else:\n",
    "        # create a counting result of 1 for the word\n",
    "        word_count[word] = 1\n",
    "\n",
    "word_count"
   ]
  },
  {
   "cell_type": "code",
   "execution_count": null,
   "metadata": {},
   "outputs": [],
   "source": [
    "letters = list(text)\n",
    "letters"
   ]
  },
  {
   "cell_type": "code",
   "execution_count": null,
   "metadata": {},
   "outputs": [],
   "source": [
    "# create an empty dictionary\n",
    "letter_count = {}\n",
    "\n",
    "for letter in letters:\n",
    "    if letter in letter_count:\n",
    "        # increase the counting result, if the letter already in the dict\n",
    "        letter_count[letter] = letter_count[letter] + 1\n",
    "    else:\n",
    "        # create a counting result of 1 for the letter\n",
    "        letter_count[letter] = 1\n",
    "\n",
    "letter_count"
   ]
  }
 ],
 "metadata": {
  "kernelspec": {
   "display_name": "Python 3",
   "language": "python",
   "name": "python3"
  },
  "language_info": {
   "codemirror_mode": {
    "name": "ipython",
    "version": 3
   },
   "file_extension": ".py",
   "mimetype": "text/x-python",
   "name": "python",
   "nbconvert_exporter": "python",
   "pygments_lexer": "ipython3",
   "version": "3.7.4"
  }
 },
 "nbformat": 4,
 "nbformat_minor": 2
}
