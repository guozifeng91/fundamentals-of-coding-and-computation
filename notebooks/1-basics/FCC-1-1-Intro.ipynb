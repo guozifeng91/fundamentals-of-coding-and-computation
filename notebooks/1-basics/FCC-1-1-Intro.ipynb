{
 "cells": [
  {
   "cell_type": "markdown",
   "metadata": {},
   "source": [
    "# Get to know Python"
   ]
  },
  {
   "cell_type": "markdown",
   "metadata": {},
   "source": [
    "**Welcome!** This notebook will teach you the basics of the coding in Python. It is an important foundation that will help you read and write Python code. By the end of this notebook, you'll know the basics of Python, including how to use the coding tools, write basic commands, understand some basic types, and how to perform simple operations on them.\n",
    "<hr>"
   ]
  },
  {
   "cell_type": "markdown",
   "metadata": {},
   "source": [
    "## Writing your first Python code!<a class=\"anchor\" id=\"hello\"/>"
   ]
  },
  {
   "cell_type": "markdown",
   "metadata": {},
   "source": [
    "When learning a new programming language, it is customary to start with an \"hello world\" example.\n",
    "\n",
    "As simple as it is, this one line of code shows you how to execute code block, and how to print the outputs."
   ]
  },
  {
   "cell_type": "markdown",
   "metadata": {},
   "source": [
    "<div class=\"alert alert-success alertsuccess\">\n",
    "[Tip]: To execute the Python code in the code cell below, click to select the cell and then press <kbd>Shift</kbd> + <kbd>Enter</kbd>.\n",
    "</div>"
   ]
  },
  {
   "cell_type": "code",
   "execution_count": null,
   "metadata": {},
   "outputs": [],
   "source": [
    "print('Hello, Python!')"
   ]
  },
  {
   "cell_type": "markdown",
   "metadata": {},
   "source": [
    "### Comments in Python<a class=\"anchor\" id=\"comments\"/>"
   ]
  },
  {
   "cell_type": "markdown",
   "metadata": {},
   "source": [
    "It is always a good idea to add comments to your code.\n",
    "\n",
    "Comments help **others** understand what you were trying to accomplish. They also serve as a reminder **to you** when you come back.\n",
    "\n",
    "To write comments in Python, start with symbol <code>#</code> and put your texts after it. Comments will be ignored by Python and will not be executed."
   ]
  },
  {
   "cell_type": "code",
   "execution_count": null,
   "metadata": {},
   "outputs": [],
   "source": [
    "# This is a line of comment\n",
    "# It will be ignored by Python when running this cell"
   ]
  },
  {
   "cell_type": "markdown",
   "metadata": {},
   "source": [
    "You can write comments at the end of the same line of code, or in a separate line"
   ]
  },
  {
   "cell_type": "code",
   "execution_count": null,
   "metadata": {},
   "outputs": [],
   "source": [
    "print('Hello, Python!') # Comment can be written after the code"
   ]
  },
  {
   "cell_type": "markdown",
   "metadata": {},
   "source": [
    "Comments are also useful for debuging the code. We can add / remove code by commenting / uncommenting it."
   ]
  },
  {
   "cell_type": "code",
   "execution_count": null,
   "metadata": {},
   "outputs": [],
   "source": [
    "print('this line of code will execute')\n",
    "# print('this line of code will not execute')"
   ]
  },
  {
   "cell_type": "markdown",
   "metadata": {},
   "source": [
    "### Errors in Python<a class=\"anchor\" id=\"errors\"/>"
   ]
  },
  {
   "cell_type": "markdown",
   "metadata": {},
   "source": [
    "If you made a typo or syntax mistake, Python will stop executing and raise an error message. Reading the error messages help you find and correct the mistake.\n",
    "\n",
    "For example, if you spell <code>print</code> as <code>frint</code>, Python will display an error message:"
   ]
  },
  {
   "cell_type": "code",
   "execution_count": null,
   "metadata": {},
   "outputs": [],
   "source": [
    "# Print string as error message\n",
    "\n",
    "frint(\"Hello, Python!\")"
   ]
  },
  {
   "cell_type": "markdown",
   "metadata": {},
   "source": [
    "Or if we forget a <code>\"</code> symbol at the end of the line:"
   ]
  },
  {
   "cell_type": "code",
   "execution_count": null,
   "metadata": {},
   "outputs": [],
   "source": [
    "# Try to see build in error message\n",
    "\n",
    "print(\"Hello, Python!)"
   ]
  },
  {
   "cell_type": "markdown",
   "metadata": {},
   "source": [
    "The error message tells you: \n",
    "\n",
    "1. where the error occurred (more useful in large notebook cells or scripts), and\n",
    "2. what kind of error it was (NameError)\n",
    "\n",
    "We will cover more on the errors in the later sessions\n",
    "\n",
    "<hr>"
   ]
  },
  {
   "cell_type": "markdown",
   "metadata": {},
   "source": [
    "## Coding tool: Jupyter Notebook<a class=\"anchor\" id=\"jupyter\"/>"
   ]
  },
  {
   "cell_type": "markdown",
   "metadata": {},
   "source": [
    "The webpage we are looking at now is called a [Jupyter Notebook](https://jupyter.org/). It is a web-based platform for writing, executing, and visualizing our python code and results.\n",
    "\n",
    "A Jupyter Notebook consists of **Cells**. Cells are the smallest unit for us to organize and execute our code. To execute a code in a cell, click to select a cell and press <kbd>Shift</kbd> + <kbd>Enter</kbd>\n",
    "\n",
    "We can write multiple lines in a cell, and they will be executed line-by-line. For example:"
   ]
  },
  {
   "cell_type": "code",
   "execution_count": null,
   "metadata": {},
   "outputs": [],
   "source": [
    "print(\"code line 1\")\n",
    "print(\"code line 2\")\n",
    "print(\"code line 3\")"
   ]
  },
  {
   "cell_type": "markdown",
   "metadata": {},
   "source": [
    "In addition, we can write comments and instructions in cells to help us organize the content of a notebook and add additional information such as images and hyperlinks. For example this text is also written in a cell."
   ]
  },
  {
   "cell_type": "markdown",
   "metadata": {},
   "source": [
    "### Google Colab<a class=\"anchor\" id=\"colab\"/>"
   ]
  },
  {
   "cell_type": "markdown",
   "metadata": {},
   "source": [
    "To use Jupyter Notebook, we typically need to install Python in our computer. This has been changed by [Google Colab](https://colab.research.google.com/). Colab allows anybody to write and execute arbitrary python code through the browser, and is especially well suited to education. It frees us from installing the software and setting up the system. The only thing we need is a Google acount (gmail address)."
   ]
  },
  {
   "cell_type": "markdown",
   "metadata": {},
   "source": [
    "<img src=\"imgs/1-1 google colab.png\" width=\"800\"/>"
   ]
  },
  {
   "cell_type": "markdown",
   "metadata": {},
   "source": [
    "Click the **\"New notebook\" button** on the main page will create a new Jupyter Notebook in Google Colab. The actual notebook file will be placed in the **\"Colab Notebooks\" folder** of your google drive. You can go back to it by double click the \".ipynb\" file in this folder."
   ]
  },
  {
   "cell_type": "markdown",
   "metadata": {},
   "source": [
    "<img src=\"imgs/1-1 new colab notebook.png\" width=\"800\"/>"
   ]
  },
  {
   "cell_type": "markdown",
   "metadata": {},
   "source": [
    "### GitHub<a class=\"anchor\" id=\"git\"/>"
   ]
  },
  {
   "cell_type": "markdown",
   "metadata": {},
   "source": [
    "[GitHub](https://github.com/) is a online platform for people to store, share, and manage their code. We use GitHub to share our Jupyter Notebooks as it is a good way to documenting the progress and file versions. All the Notebooks for this course will be placed under [github.com/guozifeng91/fundamentals-of-coding-and-computation](https://github.com/guozifeng91/fundamentals-of-coding-and-computation)."
   ]
  },
  {
   "cell_type": "markdown",
   "metadata": {},
   "source": [
    "<img src=\"imgs/1-1 github.png\" width=\"800\"/>"
   ]
  },
  {
   "cell_type": "markdown",
   "metadata": {},
   "source": [
    "GitHub works nicely with Colab. You can use Colab to view, edit, and execute any Jupyter Notebook you found in GitHub.\n",
    "\n",
    "For example, the URL address of this Notebook is\n",
    "<br>\n",
    "[github.com/guozifeng91/fundamentals-of-coding-and-computation/blob/main/notebooks/1-basics/FCC-1-1-Intro.ipynb](https://github.com/guozifeng91/fundamentals-of-coding-and-computation/blob/main/notebooks/1-basics/FCC-1-1-Intro.ipynb)"
   ]
  },
  {
   "cell_type": "markdown",
   "metadata": {},
   "source": [
    "<img src=\"imgs/1-1 this notebook.png\" width=\"800\"/>"
   ]
  },
  {
   "cell_type": "markdown",
   "metadata": {},
   "source": [
    "and you can open it with Colab by copy pasting the URL address:"
   ]
  },
  {
   "cell_type": "markdown",
   "metadata": {},
   "source": [
    "<img src=\"imgs/1-1 this notebook in colab.png\" width=\"800\"/>"
   ]
  },
  {
   "cell_type": "markdown",
   "metadata": {},
   "source": [
    "<div class=\"alert alert-success alertsuccess\">\n",
    "    [Tip]: You can also replace the <b>\"github.com/\"</b> with <b>\"colab.research.google.com/github/\"</b> in the URL address:\n",
    "<br>\n",
    "<a href=\"https://colab.research.google.com/github/guozifeng91/fundamentals-of-coding-and-computation/blob/main/notebooks/1-basics/FCC-1-1-Intro.ipynb\">https://colab.research.google.com/github/guozifeng91/fundamentals-of-coding-and-computation/blob/main/notebooks/1-basics/FCC-1-1-Intro.ipynb</a>.\n",
    "</div>\n"
   ]
  },
  {
   "cell_type": "markdown",
   "metadata": {},
   "source": [
    "### Other ways to code Python<a class=\"anchor\" id=\"pythonother\"/>"
   ]
  },
  {
   "cell_type": "markdown",
   "metadata": {},
   "source": [
    "Apart from using a Jupyter Notebook, we can also code Python in other ways. This includes typing all the code in one **\".py\"** file, or using the script editor of software like Rhino. We will cover this topic in later sessions. "
   ]
  },
  {
   "cell_type": "markdown",
   "metadata": {},
   "source": [
    "<img src=\"imgs/1-1 code in rhino.png\" width=\"800\"/>"
   ]
  },
  {
   "cell_type": "markdown",
   "metadata": {},
   "source": [
    "<img src=\"imgs/1-1 code in gh.png\" width=\"800\"/>"
   ]
  },
  {
   "cell_type": "code",
   "execution_count": null,
   "metadata": {},
   "outputs": [],
   "source": []
  }
 ],
 "metadata": {
  "kernelspec": {
   "display_name": "Python 3",
   "language": "python",
   "name": "python3"
  },
  "language_info": {
   "codemirror_mode": {
    "name": "ipython",
    "version": 3
   },
   "file_extension": ".py",
   "mimetype": "text/x-python",
   "name": "python",
   "nbconvert_exporter": "python",
   "pygments_lexer": "ipython3",
   "version": "3.7.4"
  }
 },
 "nbformat": 4,
 "nbformat_minor": 2
}
