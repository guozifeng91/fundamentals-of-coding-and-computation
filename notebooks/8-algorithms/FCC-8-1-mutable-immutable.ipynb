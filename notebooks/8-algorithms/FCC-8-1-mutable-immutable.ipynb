{
 "cells": [
  {
   "cell_type": "markdown",
   "metadata": {},
   "source": [
    "# Mutable and Immutable Data Types in Python"
   ]
  },
  {
   "cell_type": "markdown",
   "metadata": {},
   "source": [
    "**Welcome!** This notebook will teach you about comparing data in Python and the concept of mutable and immutable. By the end of this notebook, you'll know why some data types are immutable, and how to properly compare mutable and immutable data types using different operators.\n",
    "\n",
    "<hr>"
   ]
  },
  {
   "cell_type": "markdown",
   "metadata": {},
   "source": [
    "## When two pieces of data are considered equal?"
   ]
  },
  {
   "cell_type": "markdown",
   "metadata": {},
   "source": [
    "### Data in Memory"
   ]
  },
  {
   "cell_type": "markdown",
   "metadata": {},
   "source": [
    "We have learned <code>class</code>, and we know that, when we are creating variables and assigning values to them, we are creating **instances** of some classes."
   ]
  },
  {
   "cell_type": "code",
   "execution_count": null,
   "metadata": {},
   "outputs": [],
   "source": [
    "# \"hello, python!\" is an instance of str\n",
    "a = \"hello, python!\"\n",
    "\n",
    "# 2024 is an instance of int\n",
    "b = 2024"
   ]
  },
  {
   "cell_type": "markdown",
   "metadata": {},
   "source": [
    "We know that computers have _memory_ , and imaging the _memory_ of our computer works like a list of empty slots, where each instance is stored in a specific slot.\n",
    "\n",
    "In python, we can use <code>id()</code> to check which \"slot\" an instance occupies."
   ]
  },
  {
   "cell_type": "code",
   "execution_count": null,
   "metadata": {},
   "outputs": [],
   "source": [
    "id(a)"
   ]
  },
  {
   "cell_type": "code",
   "execution_count": null,
   "metadata": {},
   "outputs": [],
   "source": [
    "id(b)"
   ]
  },
  {
   "cell_type": "markdown",
   "metadata": {},
   "source": [
    "### References"
   ]
  },
  {
   "cell_type": "markdown",
   "metadata": {},
   "source": [
    "If we create another variable, and assign the same value to these new variables"
   ]
  },
  {
   "cell_type": "code",
   "execution_count": null,
   "metadata": {},
   "outputs": [],
   "source": [
    "new_a = a\n",
    "new_b = b"
   ]
  },
  {
   "cell_type": "markdown",
   "metadata": {},
   "source": [
    "Their values are of course equal"
   ]
  },
  {
   "cell_type": "code",
   "execution_count": null,
   "metadata": {},
   "outputs": [],
   "source": [
    "print(new_a == a)\n",
    "print(new_b == b)"
   ]
  },
  {
   "cell_type": "markdown",
   "metadata": {},
   "source": [
    "The <code>id</code> of our new variables stay the same:"
   ]
  },
  {
   "cell_type": "code",
   "execution_count": null,
   "metadata": {},
   "outputs": [],
   "source": [
    "id(new_a)"
   ]
  },
  {
   "cell_type": "code",
   "execution_count": null,
   "metadata": {},
   "outputs": [],
   "source": [
    "id(new_b)"
   ]
  },
  {
   "cell_type": "code",
   "execution_count": null,
   "metadata": {},
   "outputs": [],
   "source": [
    "print(id(new_a) == id(a))\n",
    "print(id(new_b) == id(b))"
   ]
  },
  {
   "cell_type": "markdown",
   "metadata": {},
   "source": [
    "This makes sense, because both <code>a</code> and <code>new_a</code> are refering to the same <code>\"hello, python!\"</code> instance. Same for <code>b</code> and <code>new_b</code>.\n",
    "\n",
    "We say <code>\"hello, python!\"</code> is the instance, and <code>a</code> and <code>new_a</code> are both references of the same instance."
   ]
  },
  {
   "cell_type": "markdown",
   "metadata": {},
   "source": [
    "### Values"
   ]
  },
  {
   "cell_type": "markdown",
   "metadata": {},
   "source": [
    "what if we create new variables again, but this time we give their values explicity, not from other variables?"
   ]
  },
  {
   "cell_type": "code",
   "execution_count": null,
   "metadata": {},
   "outputs": [],
   "source": [
    "new_a = \"hello, python!\"\n",
    "new_b = 2024"
   ]
  },
  {
   "cell_type": "markdown",
   "metadata": {},
   "source": [
    "Their values are again equal"
   ]
  },
  {
   "cell_type": "code",
   "execution_count": null,
   "metadata": {},
   "outputs": [],
   "source": [
    "print(new_a == a)\n",
    "print(new_b == b)"
   ]
  },
  {
   "cell_type": "markdown",
   "metadata": {},
   "source": [
    "However, <code>id</code> of the values of our new variables changed:"
   ]
  },
  {
   "cell_type": "code",
   "execution_count": null,
   "metadata": {},
   "outputs": [],
   "source": [
    "id(new_a)"
   ]
  },
  {
   "cell_type": "code",
   "execution_count": null,
   "metadata": {},
   "outputs": [],
   "source": [
    "id(new_b)"
   ]
  },
  {
   "cell_type": "code",
   "execution_count": null,
   "metadata": {},
   "outputs": [],
   "source": [
    "print(id(new_a) == id(a))\n",
    "print(id(new_b) == id(b))"
   ]
  },
  {
   "cell_type": "markdown",
   "metadata": {},
   "source": [
    "This means that the <code>\"hello, python!\"</code> of <code>new_a</code> uses a different \"slot\" than that of <code>a</code>, and same applies to <code>new_b</code> and <code>b</code>.\n",
    "\n",
    "In other words, the two <code>\"hello, python!\"</code> are **different instances** of <code>str</code>, and <code>a</code> and <code>new_a</code> are refering to different instances."
   ]
  },
  {
   "cell_type": "markdown",
   "metadata": {},
   "source": [
    "### Two types of \"being equal\""
   ]
  },
  {
   "cell_type": "markdown",
   "metadata": {},
   "source": [
    "We have learned the equality operator <code>==</code>, which compares the equality of the **values** of two variables:"
   ]
  },
  {
   "cell_type": "code",
   "execution_count": null,
   "metadata": {},
   "outputs": [],
   "source": [
    "new_a == a"
   ]
  },
  {
   "cell_type": "code",
   "execution_count": null,
   "metadata": {},
   "outputs": [],
   "source": [
    "new_b == b"
   ]
  },
  {
   "cell_type": "markdown",
   "metadata": {},
   "source": [
    "We just learned that we can use <code>id(a) == id(b)</code> to check if the data represented by <code>a</code> and <code>b</code> are located in the same \"slot\" of the memory, or in other words, if <code>a</code> and <code>b</code> are refering to the same **instance**."
   ]
  },
  {
   "cell_type": "code",
   "execution_count": null,
   "metadata": {},
   "outputs": [],
   "source": [
    "id(new_a) == id(a)"
   ]
  },
  {
   "cell_type": "code",
   "execution_count": null,
   "metadata": {},
   "outputs": [],
   "source": [
    "id(new_b) == id(b)"
   ]
  },
  {
   "cell_type": "markdown",
   "metadata": {},
   "source": [
    "For this, Python gives us an operator <code>is</code> which does exactly the same thing"
   ]
  },
  {
   "cell_type": "code",
   "execution_count": null,
   "metadata": {},
   "outputs": [],
   "source": [
    "new_a is a"
   ]
  },
  {
   "cell_type": "code",
   "execution_count": null,
   "metadata": {},
   "outputs": [],
   "source": [
    "new_b is b"
   ]
  },
  {
   "cell_type": "markdown",
   "metadata": {},
   "source": [
    "Hence we have two types of \"being equal\":\n",
    "1. two variables can be considered equal because they refer to the same instance\n",
    "2. two variables can be considered equal because their represent the same value, for example, the same integer"
   ]
  },
  {
   "cell_type": "markdown",
   "metadata": {},
   "source": [
    "### More examples"
   ]
  },
  {
   "cell_type": "code",
   "execution_count": null,
   "metadata": {},
   "outputs": [],
   "source": [
    "a = 1000\n",
    "b = 10**3    # 10 to the Power of 3\n",
    "\n",
    "print(a == b)\n",
    "print(a is b)"
   ]
  },
  {
   "cell_type": "code",
   "execution_count": null,
   "metadata": {},
   "outputs": [],
   "source": [
    "a = \"hello, python!\"\n",
    "b = \"hello, \" + \"python!\"\n",
    "\n",
    "print(a == b)\n",
    "print(a is b)"
   ]
  },
  {
   "cell_type": "markdown",
   "metadata": {},
   "source": [
    "## References vs. Values, the problem"
   ]
  },
  {
   "cell_type": "markdown",
   "metadata": {},
   "source": [
    "Lets take a look of this example: we have two lists that have identical value:"
   ]
  },
  {
   "cell_type": "code",
   "execution_count": null,
   "metadata": {},
   "outputs": [],
   "source": [
    "# a and b have the same value\n",
    "\n",
    "a = [1, 2, 3]\n",
    "b = [1, 2, 3]\n",
    "\n",
    "print(\"a is\", a)\n",
    "print(\"b is\", b)\n",
    "\n",
    "a == b"
   ]
  },
  {
   "cell_type": "markdown",
   "metadata": {},
   "source": [
    "Changing list <code>a</code> will not affect list <code>b</code>"
   ]
  },
  {
   "cell_type": "code",
   "execution_count": null,
   "metadata": {},
   "outputs": [],
   "source": [
    "# chaning a will not affect b\n",
    "\n",
    "a.append(4)\n",
    "\n",
    "print(\"a is\", a)\n",
    "print(\"b is\", b)\n",
    "\n",
    "a == b"
   ]
  },
  {
   "cell_type": "markdown",
   "metadata": {},
   "source": [
    "However, when two variables are refering to the same list instance"
   ]
  },
  {
   "cell_type": "code",
   "execution_count": null,
   "metadata": {},
   "outputs": [],
   "source": [
    "# a and b have the same value\n",
    "\n",
    "a = [1, 2, 3]\n",
    "b = a\n",
    "\n",
    "print(\"a is\", a)\n",
    "print(\"b is\", b)\n",
    "\n",
    "a == b"
   ]
  },
  {
   "cell_type": "markdown",
   "metadata": {},
   "source": [
    "Changing list <code>a</code> affects list <code>b</code>"
   ]
  },
  {
   "cell_type": "code",
   "execution_count": null,
   "metadata": {},
   "outputs": [],
   "source": [
    "# chaning a affects b\n",
    "\n",
    "a.append(4)\n",
    "\n",
    "print(\"a is\", a)\n",
    "print(\"b is\", b)\n",
    "\n",
    "a == b"
   ]
  },
  {
   "cell_type": "markdown",
   "metadata": {},
   "source": [
    "References of the same instance can make us getting confused between **the value a variable represents** and **the instance a variable is refering to**, and sometimes this can be a problem.\n",
    "\n",
    "```\n",
    "I didn't do anything, but why b is changed?!!!\n",
    "```"
   ]
  },
  {
   "cell_type": "markdown",
   "metadata": {},
   "source": [
    "## Mutable and Immutable"
   ]
  },
  {
   "cell_type": "markdown",
   "metadata": {},
   "source": [
    "This problem can be significant for primitive data types such as numbers and string because we always care about their values, not which instances of it. We don't want the value of a number to be changed unexpectedly.\n",
    "\n",
    "The solution of this problem is pretty simple, what for certain data types, we don't allow chaing the value of an instance once it is created. And these data types are called immutable data types."
   ]
  },
  {
   "cell_type": "markdown",
   "metadata": {},
   "source": [
    "### Immutable data types"
   ]
  },
  {
   "cell_type": "markdown",
   "metadata": {},
   "source": [
    "In python, <code>int</code>, <code>float</code>, <code>bool</code>, <code>str</code>, <code>tuple</code>, <code>complex</code> (complex numbers) are immutable data types."
   ]
  },
  {
   "cell_type": "code",
   "execution_count": null,
   "metadata": {},
   "outputs": [],
   "source": [
    "a = 2024\n",
    "b = a\n",
    "\n",
    "a is b"
   ]
  },
  {
   "cell_type": "code",
   "execution_count": null,
   "metadata": {},
   "outputs": [],
   "source": [
    "# there is no way you can do something like\n",
    "# a.set_value(2025), so you cannot change\n",
    "# 2024 once you created it.\n",
    "#\n",
    "# the only thing you can do, is assign another\n",
    "# instance to variable a, which does not affect\n",
    "# variable b\n",
    "\n",
    "a = 2025\n",
    "b"
   ]
  },
  {
   "cell_type": "code",
   "execution_count": null,
   "metadata": {},
   "outputs": [],
   "source": [
    "a = \"hello, python!\"\n",
    "b = a\n",
    "\n",
    "a is b"
   ]
  },
  {
   "cell_type": "code",
   "execution_count": null,
   "metadata": {},
   "outputs": [],
   "source": [
    "# there is no way you can do something like\n",
    "# a.set_value(\"code finished\"), so you cannot\n",
    "# change \"hello, python!\" once you created it.\n",
    "#\n",
    "# the only thing you can do, is assign another\n",
    "# instance to variable a, which does not affect\n",
    "# variable b\n",
    "\n",
    "a = 2025\n",
    "b\n",
    "\n",
    "a = \"code finished.\"\n",
    "b"
   ]
  },
  {
   "cell_type": "markdown",
   "metadata": {},
   "source": [
    "### Mutable data types"
   ]
  },
  {
   "cell_type": "markdown",
   "metadata": {},
   "source": [
    "Mutable data types are the opposite of immutable data types, which means you can change the value of an instance once it is created.\n",
    "\n",
    "In python, many other data types, including <code>list</code>, <code>set</code>, <code>dict</code>, and your own data types, are mutable."
   ]
  },
  {
   "cell_type": "code",
   "execution_count": null,
   "metadata": {},
   "outputs": [],
   "source": [
    "a = [1, 2, 3]\n",
    "b = a\n",
    "\n",
    "a is b"
   ]
  },
  {
   "cell_type": "code",
   "execution_count": null,
   "metadata": {},
   "outputs": [],
   "source": [
    "a.append(4)\n",
    "b"
   ]
  },
  {
   "cell_type": "markdown",
   "metadata": {},
   "source": [
    "classes are mutable data types:"
   ]
  },
  {
   "cell_type": "code",
   "execution_count": null,
   "metadata": {},
   "outputs": [],
   "source": [
    "class Person:\n",
    "    def __init__(self, name):\n",
    "        self.name = name\n",
    "\n",
    "user1 = Person(\"john\")\n",
    "user2 = user1\n",
    "\n",
    "user1 is user2"
   ]
  },
  {
   "cell_type": "code",
   "execution_count": null,
   "metadata": {},
   "outputs": [],
   "source": [
    "user1.name = \"emma\"\n",
    "user2.name"
   ]
  },
  {
   "cell_type": "markdown",
   "metadata": {},
   "source": [
    "### Comparing mutables and immutables"
   ]
  },
  {
   "cell_type": "markdown",
   "metadata": {},
   "source": [
    "To avoid confusion and bugs, the general comparision rules are\n",
    "1. always use <code>==</code> for immutable data types,\n",
    "2. normally, use <code>is</code> for mutable data types,\n",
    "3. when you are explicitly comparing values, you can use <code>==</code> for mutable data types."
   ]
  },
  {
   "cell_type": "markdown",
   "metadata": {},
   "source": [
    "For our own classes, <code>==</code> by default compares if two variables are the same instances, so"
   ]
  },
  {
   "cell_type": "code",
   "execution_count": null,
   "metadata": {},
   "outputs": [],
   "source": [
    "Person(\"john\") == Person(\"john\")"
   ]
  },
  {
   "cell_type": "markdown",
   "metadata": {},
   "source": [
    "gives us False."
   ]
  },
  {
   "cell_type": "markdown",
   "metadata": {},
   "source": [
    "To change that, we need to define the <code>\\_\\_eq\\_\\_</code> method for our class. It is again a reserved magic name of python, you can take a look [here](https://docs.python.org/3/reference/datamodel.html#basic-customization) for more details"
   ]
  },
  {
   "cell_type": "code",
   "execution_count": null,
   "metadata": {},
   "outputs": [],
   "source": [
    "class Person:\n",
    "    def __init__(self, name):\n",
    "        self.name = name\n",
    "    \n",
    "    def __eq__(self, other):\n",
    "        if type(other) is Person:\n",
    "            return self.name == other.name\n",
    "        return False"
   ]
  },
  {
   "cell_type": "code",
   "execution_count": null,
   "metadata": {},
   "outputs": [],
   "source": [
    "Person(\"john\") == Person(\"john\")"
   ]
  },
  {
   "cell_type": "markdown",
   "metadata": {},
   "source": [
    "### set and dict issue in our last session"
   ]
  },
  {
   "cell_type": "markdown",
   "metadata": {},
   "source": [
    "In our last session we had a problem that we canot added a <code>dict</code> into a <code>set</code>. And the reason behind also related to the topic of mutable and immutable.\n",
    "\n",
    "<code>set</code> contains unique items, and the way it compares if two items are the same or different, is by looking at their _hash_ values.\n",
    "\n",
    "In python, we use <code>hash()</code> to check the hash value of an instance"
   ]
  },
  {
   "cell_type": "code",
   "execution_count": null,
   "metadata": {},
   "outputs": [],
   "source": [
    "hash(3)"
   ]
  },
  {
   "cell_type": "code",
   "execution_count": null,
   "metadata": {},
   "outputs": [],
   "source": [
    "hash(\"hello\")"
   ]
  },
  {
   "cell_type": "markdown",
   "metadata": {},
   "source": [
    "A _hash_ is an integers computed for an instance. If two instances are considered the same, then their _hash_ should be the same, and vice versa.\n",
    "\n",
    "In other words, by comparing _hash_ values, we are comparing if two instances are the same.\n",
    "\n",
    "```\n",
    "hash(a) == hash(b) is true, if a and b are the same\n",
    "```"
   ]
  },
  {
   "cell_type": "markdown",
   "metadata": {},
   "source": [
    "But wait a second, isn't this what <code>==</code> and <code>is</code> do?\n",
    "\n",
    "The difference is that, _hash_ does not define what \"the same\" means, so it is us who makes the decision. The same _hash_ can mean that two items are the same instance, or two items are different instances but having the same value.\n",
    "\n",
    "In python, **for immutable data types, _hash_ represents the equality of values**."
   ]
  },
  {
   "cell_type": "code",
   "execution_count": null,
   "metadata": {},
   "outputs": [],
   "source": [
    "# a and b are different instances,\n",
    "# but they are equal and they have the same hash\n",
    "\n",
    "a = \"burger king\"\n",
    "b = \"burger \" + \"king\"\n",
    "\n",
    "print(a == b)\n",
    "print(a is b)\n",
    "print(hash(a) == hash(b))"
   ]
  },
  {
   "cell_type": "code",
   "execution_count": null,
   "metadata": {},
   "outputs": [],
   "source": [
    "# dispite being different instances,\n",
    "# a and b represent the same key\n",
    "\n",
    "type_of_food = {a : \"burger\"}\n",
    "type_of_food[b]"
   ]
  },
  {
   "cell_type": "markdown",
   "metadata": {},
   "source": [
    "however, **for mutable data types, _hash_ aligns with the default definition of equality, which is comparing instances.**"
   ]
  },
  {
   "cell_type": "code",
   "execution_count": null,
   "metadata": {},
   "outputs": [],
   "source": [
    "class Person:\n",
    "    def __init__(self, name):\n",
    "        self.name = name"
   ]
  },
  {
   "cell_type": "code",
   "execution_count": null,
   "metadata": {},
   "outputs": [],
   "source": [
    "# a and b are different instances,\n",
    "# and they have different hashes\n",
    "\n",
    "a = Person(\"john\")\n",
    "b = Person(\"john\")\n",
    "\n",
    "print(a == b)\n",
    "print(a is b)\n",
    "print(hash(a) == hash(b))"
   ]
  },
  {
   "cell_type": "code",
   "execution_count": null,
   "metadata": {},
   "outputs": [],
   "source": [
    "# dispite both are named as \"john\"\n",
    "# a and b represent different keys\n",
    "\n",
    "study = {a : \"architecture\"}\n",
    "study[b]"
   ]
  },
  {
   "cell_type": "markdown",
   "metadata": {},
   "source": [
    "if we changed the default definition of \"equality\", our data type becomes \"unhashable\" because there is a confusion between comparing by instances and comparing by values"
   ]
  },
  {
   "cell_type": "code",
   "execution_count": null,
   "metadata": {},
   "outputs": [],
   "source": [
    "class Person:\n",
    "    def __init__(self, name):\n",
    "        self.name = name\n",
    "    \n",
    "    def __eq__(self, other):\n",
    "        if type(other) is Person:\n",
    "            return self.name == other.name\n",
    "        return False"
   ]
  },
  {
   "cell_type": "code",
   "execution_count": null,
   "metadata": {},
   "outputs": [],
   "source": [
    "# a and b are different instances but comparable by value,\n",
    "# they have no hash because of the confusion\n",
    "\n",
    "a = Person(\"john\")\n",
    "b = Person(\"john\")\n",
    "\n",
    "print(a == b)\n",
    "print(a is b)\n",
    "print(hash(a) == hash(b))"
   ]
  },
  {
   "cell_type": "code",
   "execution_count": null,
   "metadata": {},
   "outputs": [],
   "source": [
    "# un-hashable data cannot be used as the key\n",
    "\n",
    "study = {a : \"architecture\"}\n",
    "study[b]"
   ]
  },
  {
   "cell_type": "markdown",
   "metadata": {},
   "source": [
    "In this case we must explicitly implement the <code>\\_\\_hash\\_\\_</code> method to resolve this confusion"
   ]
  },
  {
   "cell_type": "code",
   "execution_count": null,
   "metadata": {},
   "outputs": [],
   "source": [
    "class Person:\n",
    "    def __init__(self, name):\n",
    "        self.name = name\n",
    "    \n",
    "    def __eq__(self, other):\n",
    "        if type(other) is Person:\n",
    "            return self.name == other.name\n",
    "        return False\n",
    "    \n",
    "    def __hash__(self):\n",
    "        return hash(self.name)"
   ]
  },
  {
   "cell_type": "code",
   "execution_count": null,
   "metadata": {},
   "outputs": [],
   "source": [
    "# a and b are different instances but comparable by value,\n",
    "# their hashes are computed using their values\n",
    "\n",
    "a = Person(\"john\")\n",
    "b = Person(\"john\")\n",
    "\n",
    "print(a == b)\n",
    "print(a is b)\n",
    "print(hash(a) == hash(b))"
   ]
  },
  {
   "cell_type": "code",
   "execution_count": null,
   "metadata": {},
   "outputs": [],
   "source": [
    "# dispite being different instances,\n",
    "# a and b represent the same key because they have the same hash\n",
    "\n",
    "study = {a : \"architecture\"}\n",
    "study[b]"
   ]
  },
  {
   "cell_type": "markdown",
   "metadata": {},
   "source": [
    "## Summary"
   ]
  },
  {
   "cell_type": "markdown",
   "metadata": {},
   "source": [
    "In this session we learned that, in python, there are two types of \"being equal\"\n",
    "\n",
    "1. two variables are considered equal because they refer to the same instance, they share the same <code>id()</code>, and we can use <code>is</code> operator to compare them.\n",
    "\n",
    "2. two variables are considered equal because their represent the same value, for example, the same integer, they may have different <code>id()</code>, but we can still use <code>==</code> operator to compare them.\n",
    "\n",
    "Furthermore, we learned that, many data types are immutable, because we want to avoid the confusion between **the value a variable represents** and **the instance a variable is refering to**. This confusion can cause the problem of\n",
    "\n",
    "```\n",
    "I didn't do anything, but why the value of my variable is changed?!!!\n",
    "```\n",
    "\n",
    "Lastly, we learned that, the reason python cannot add <code>dict</code> to a <code>set</code>, is that <code>dict</code> is not hashable. This is because <code>dict</code> is mutable and value-comparable at the same time, which leands to the confusion whether we should compare <code>dict</code> by instances or by values."
   ]
  },
  {
   "cell_type": "code",
   "execution_count": null,
   "metadata": {},
   "outputs": [],
   "source": []
  }
 ],
 "metadata": {
  "kernelspec": {
   "display_name": "Python 3",
   "language": "python",
   "name": "python3"
  },
  "language_info": {
   "codemirror_mode": {
    "name": "ipython",
    "version": 3
   },
   "file_extension": ".py",
   "mimetype": "text/x-python",
   "name": "python",
   "nbconvert_exporter": "python",
   "pygments_lexer": "ipython3",
   "version": "3.7.4"
  }
 },
 "nbformat": 4,
 "nbformat_minor": 2
}
