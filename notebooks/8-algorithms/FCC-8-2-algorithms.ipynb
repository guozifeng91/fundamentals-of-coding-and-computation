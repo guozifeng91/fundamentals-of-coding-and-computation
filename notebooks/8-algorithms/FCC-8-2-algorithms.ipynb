{
 "cells": [
  {
   "cell_type": "markdown",
   "metadata": {},
   "source": [
    "# Algorithms in Python"
   ]
  },
  {
   "cell_type": "markdown",
   "metadata": {},
   "source": [
    "**Welcome!** This notebook will teach you about the concept of algorithm in Python. By the end of this notebook, you'll exprience writing your own algorithm to solve a problem, you will know the concept of computational complexity, and also learn several types of typical problems in computer programming. More over, you will see how different problems are handled by different external libraries.\n",
    "\n",
    "<hr>"
   ]
  },
  {
   "cell_type": "markdown",
   "metadata": {},
   "source": [
    "## The definition"
   ]
  },
  {
   "cell_type": "markdown",
   "metadata": {},
   "source": [
    "An algorithm is a finite sequence of rigorous instructions"
   ]
  },
  {
   "cell_type": "markdown",
   "metadata": {},
   "source": [
    "### Finding the minimum"
   ]
  },
  {
   "cell_type": "markdown",
   "metadata": {},
   "source": [
    "We have a list of numbers, how do we find which is the minimum value?"
   ]
  },
  {
   "cell_type": "code",
   "execution_count": null,
   "metadata": {},
   "outputs": [],
   "source": [
    "import random\n",
    "\n",
    "numbers = [random.random() * 1000 for _ in range(1000000)]\n",
    "numbers"
   ]
  },
  {
   "cell_type": "markdown",
   "metadata": {},
   "source": [
    "To find the minimum value, we can design the following steps:\n",
    "\n",
    "- we assume the first item is the minimum. and record its index (which is 0).\n",
    "- we compare the recorded minimum value with the remaining items, one by one.\n",
    "- if we see a smaller value, we update our recorded index."
   ]
  },
  {
   "cell_type": "code",
   "execution_count": null,
   "metadata": {},
   "outputs": [],
   "source": [
    "i_min = 0   # index of the minimum\n",
    "\n",
    "for i in range(1, len(numbers)):\n",
    "    if numbers[i] < numbers[i_min]:\n",
    "        i_min = i\n",
    "\n",
    "print(\"The\", i_min, \"-th item has the minimum value.\")\n",
    "print(\"The minimum value is\", numbers[i_min])"
   ]
  },
  {
   "cell_type": "markdown",
   "metadata": {},
   "source": [
    "### Finding the nearest item"
   ]
  },
  {
   "cell_type": "markdown",
   "metadata": {},
   "source": [
    "We can use a similar process to find the item that is closest to a given value. To do that, we will need to record\n",
    "1. the index of the closest item, and\n",
    "2. the distance between the closest item and our given value."
   ]
  },
  {
   "cell_type": "code",
   "execution_count": null,
   "metadata": {},
   "outputs": [],
   "source": [
    "def find_nearest(numbers, target):\n",
    "    # index of the nearest\n",
    "    i_n = 0\n",
    "    \n",
    "    # dist to the nearest\n",
    "    d_n = abs(target - numbers[i_n])\n",
    "    \n",
    "    for i in range(1, len(numbers)):\n",
    "        d = abs(target - numbers[i])\n",
    "        if (d < d_n):\n",
    "            d_n = d\n",
    "            i_n = i\n",
    "    \n",
    "    # return the index, the value, and the distance to target\n",
    "    return (i_n, numbers[i_n], d_n)"
   ]
  },
  {
   "cell_type": "code",
   "execution_count": null,
   "metadata": {},
   "outputs": [],
   "source": [
    "target = 500\n",
    "(i, n, d) = find_nearest(numbers, target)\n",
    "print(\"The\", i, \"-th item\", n, \"is the nearest value to\", target,\", the difference is\", d)"
   ]
  },
  {
   "cell_type": "code",
   "execution_count": null,
   "metadata": {},
   "outputs": [],
   "source": [
    "target = 750\n",
    "(i, n, d) = find_nearest(numbers, target)\n",
    "print(\"The\", i, \"-th item\", n, \"is the nearest value to\", target,\", the difference is\", d)"
   ]
  },
  {
   "cell_type": "code",
   "execution_count": null,
   "metadata": {},
   "outputs": [],
   "source": [
    "target = 300\n",
    "(i, n, d) = find_nearest(numbers, target)\n",
    "print(\"The\", i, \"-th item\", n, \"is the nearest value to\", target,\", the difference is\", d)"
   ]
  },
  {
   "cell_type": "markdown",
   "metadata": {},
   "source": [
    "### Complexity"
   ]
  },
  {
   "cell_type": "markdown",
   "metadata": {},
   "source": [
    "Our method works, but it is is not great because it runs very slow. For example, if we repeat our process 100 times, and see how many time it takes:"
   ]
  },
  {
   "cell_type": "code",
   "execution_count": null,
   "metadata": {},
   "outputs": [],
   "source": [
    "import time\n",
    "\n",
    "t0 = time.time()\n",
    "\n",
    "for i in range(100):\n",
    "    target = random.random() * 1000\n",
    "    find_nearest(numbers, target)\n",
    "\n",
    "t1 = time.time()\n",
    "\n",
    "print(\"Calculation took\", t1-t0, \"seconds\")"
   ]
  },
  {
   "cell_type": "markdown",
   "metadata": {},
   "source": [
    "Our algorithm is slow, or we say it has a high **_time complexity_**, the number of calculation we need equals to $$m * n$$ where _m_ is the number of targets, and _n_ is the length of the list.\n",
    "\n",
    "As a further reading: there is also a **_space complexity_**, which refers how much computer memory an algorithm needs. Normally, you cannot achieve both low _time complexity_ and low _space complexity_ at the same time, and there is always a trade-off between these two. And since it is relatively easier to increase the storage space of a computer than to make the CPU runs faster, _time complexity_ is usually more critical than _space complexity_.\n",
    "\n",
    "The _time complex_ and _space complexity_ , are the two main parts of the domain [Computational Complexity](https://en.wikipedia.org/wiki/Computational_complexity)"
   ]
  },
  {
   "cell_type": "markdown",
   "metadata": {},
   "source": [
    "### Finding the nearest item, faster"
   ]
  },
  {
   "cell_type": "markdown",
   "metadata": {},
   "source": [
    "What if, we get ride of the obviously not clost enough values, and compare only those values that are close enough? That should save us a lot of time right?\n",
    "\n",
    "But how?\n",
    "\n",
    "Maybe we can round the values to intergers first?\n",
    "\n",
    "Like we **first put all numbers to different drawers**."
   ]
  },
  {
   "cell_type": "code",
   "execution_count": null,
   "metadata": {},
   "outputs": [],
   "source": [
    "# a dictionary, representing the mapping between\n",
    "# integers and list of numbers that can be rounded\n",
    "# to those integers\n",
    "# for example {0: [0.1, 0.3], 1:[1.5, 1.8], ..., 9:[9.2, 9.7]}\n",
    "\n",
    "drawers = {}\n",
    "\n",
    "for i in range(len(numbers)):\n",
    "    n = numbers[i]  # i-th number\n",
    "    n_int = int(n)  # rounded i-th number\n",
    "    \n",
    "    if n_int not in drawers:\n",
    "        # create a new list using n_int as key,\n",
    "        # and add (i, n) to the list\n",
    "        drawers[n_int] = [(i, n)]\n",
    "    else:\n",
    "        # add (i, n) to the existing list\n",
    "        drawers[n_int].append((i, n))"
   ]
  },
  {
   "cell_type": "markdown",
   "metadata": {},
   "source": [
    "Then we can **first select the drawer** (compare the target with the rounded integers), and **then we compare numbers only from those drawers**\n",
    "\n",
    "First we need a function that **compares our target with a drawer** (i.e., the list of tuples)"
   ]
  },
  {
   "cell_type": "code",
   "execution_count": null,
   "metadata": {},
   "outputs": [],
   "source": [
    "# drawer is a list of (index, number) tuples\n",
    "def find_nearest_drawer(drawer, target):\n",
    "    # index of the nearest tuple\n",
    "    i_n = 0\n",
    "    \n",
    "    # dist to the nearest tuple\n",
    "    d_n = abs(target - drawer[i_n][1])\n",
    "    \n",
    "    for i in range(1, len(drawer)):\n",
    "        d = abs(target - drawer[i][1])\n",
    "        if (d < d_n):\n",
    "            d_n = d\n",
    "            i_n = i\n",
    "    \n",
    "    # remember drawer[i_n] is a tuple (index, number)\n",
    "    # return the index, the value, and the distance to target\n",
    "    return (drawer[i_n][0], drawer[i_n][1], d_n)"
   ]
  },
  {
   "cell_type": "code",
   "execution_count": null,
   "metadata": {},
   "outputs": [],
   "source": [
    "def find_nearest_fast(drawers, target):\n",
    "    drawer_keys = list(drawers)  # drawer keys are integers\n",
    "    \n",
    "    # we first find the nearest rounded integer to the target,\n",
    "    # using the method we already written\n",
    "    (i, n_int, d) = find_nearest(drawer_keys, target)\n",
    "    \n",
    "    # we can use the nearest integer (n_int) as the key,\n",
    "    # and get the drawer (numbers that can be rounded to the key)\n",
    "    drawer = drawers[n_int]\n",
    "    \n",
    "    # then we can just compare our target with the drawer\n",
    "    (i, n, d) = find_nearest_drawer(drawer, target)\n",
    "    \n",
    "    # we should extend our range of search,\n",
    "    # in case that the target is very close to the rounding boundary\n",
    "    # for example, when target = 2.01,\n",
    "    # it is also worth to compare it with values that are rounded to 1\n",
    "    # when target = 2.99,\n",
    "    # it is also worth to compare it with values that are rounded to 3\n",
    "    \n",
    "    if n_int - 1 in drawers:\n",
    "        drawer_low = drawers[n_int - 1]\n",
    "        (i_low, n_low, d_low) = find_nearest_drawer(drawer_low, target)\n",
    "\n",
    "    if n_int + 1 in drawers:\n",
    "        drawer_high = drawers[n_int + 1]\n",
    "        (i_high, n_high, d_high) = find_nearest_drawer(drawer_high, target)\n",
    "    \n",
    "    # then we select the one with lowest distance to target\n",
    "    if d_low < d:\n",
    "        d = d_low\n",
    "        i = i_low\n",
    "        n = n_low\n",
    "    \n",
    "    if d_high < d:\n",
    "        d = d_high\n",
    "        i = i_high\n",
    "        n = n_high\n",
    "    \n",
    "    # return the index, the value, and the closest distance to target\n",
    "    return i, n, d"
   ]
  },
  {
   "cell_type": "markdown",
   "metadata": {},
   "source": [
    "Lets check the results"
   ]
  },
  {
   "cell_type": "code",
   "execution_count": null,
   "metadata": {},
   "outputs": [],
   "source": [
    "target = 500\n",
    "(i, n, d) = find_nearest_fast(drawers, target)\n",
    "print(\"The\", i, \"-th item\", n, \"is the nearest value to\", target,\", the difference is\", d)"
   ]
  },
  {
   "cell_type": "code",
   "execution_count": null,
   "metadata": {},
   "outputs": [],
   "source": [
    "target = 750\n",
    "(i, n, d) = find_nearest_fast(drawers, target)\n",
    "print(\"The\", i, \"-th item\", n, \"is the nearest value to\", target,\", the difference is\", d)"
   ]
  },
  {
   "cell_type": "code",
   "execution_count": null,
   "metadata": {},
   "outputs": [],
   "source": [
    "target = 300\n",
    "(i, n, d) = find_nearest_fast(drawers, target)\n",
    "print(\"The\", i, \"-th item\", n, \"is the nearest value to\", target,\", the difference is\", d)"
   ]
  },
  {
   "cell_type": "markdown",
   "metadata": {},
   "source": [
    "As well as the speed"
   ]
  },
  {
   "cell_type": "code",
   "execution_count": null,
   "metadata": {},
   "outputs": [],
   "source": [
    "t0 = time.time()\n",
    "\n",
    "for i in range(100):\n",
    "    target = random.random() * 1000\n",
    "    find_nearest_fast(drawers, target)\n",
    "\n",
    "t1 = time.time()\n",
    "\n",
    "print(\"Calculation took\", t1-t0, \"seconds\")"
   ]
  },
  {
   "cell_type": "markdown",
   "metadata": {},
   "source": [
    "By building us an integer drawer for floating numbers, we reduced the calculation time for almost **100 times!**\n",
    "\n",
    "The problem we just solved, is called the [Nearest-neighbor](https://en.wikipedia.org/wiki/Nearest_neighbor_search), and the methods we used, the slower one is called [Linear Search](https://en.wikipedia.org/wiki/Nearest_neighbor_search#Linear_search), and the faster one is called [Space Partitioning](https://en.wikipedia.org/wiki/Nearest_neighbor_search#Space_partitioning)"
   ]
  },
  {
   "cell_type": "markdown",
   "metadata": {},
   "source": [
    "## Experiencing, but try avoid implementing"
   ]
  },
  {
   "cell_type": "markdown",
   "metadata": {},
   "source": [
    "The above example gave you an experience of how proper data structure and algorithm can significantly increase our problem-solving ability.\n",
    "\n",
    "However, **when coding in python, we should try to avoid implement complex algorithms ourselves**.\n",
    "\n",
    "This is because python itself is a scripting language which is already super slow. The advantage of python, is that it has access to a huge amount of libraries written in different other languages for solving different problems.\n",
    "\n",
    "We should therefore always try to find proper libraries first, before we running out of options and having to do the work by ourselves."
   ]
  },
  {
   "cell_type": "markdown",
   "metadata": {},
   "source": [
    "## Typical Problems"
   ]
  },
  {
   "cell_type": "markdown",
   "metadata": {},
   "source": [
    "### Sorting"
   ]
  },
  {
   "cell_type": "markdown",
   "metadata": {},
   "source": [
    "Sorting is to sort a list of element in a particular order. For this task, Python <code>list</code> already gave us quite powerful implementation:"
   ]
  },
  {
   "cell_type": "code",
   "execution_count": null,
   "metadata": {},
   "outputs": [],
   "source": [
    "a = [random.randint(0, 100) for i in range(10)]\n",
    "a"
   ]
  },
  {
   "cell_type": "code",
   "execution_count": null,
   "metadata": {},
   "outputs": [],
   "source": [
    "a.sort()\n",
    "a"
   ]
  },
  {
   "cell_type": "markdown",
   "metadata": {},
   "source": [
    "### Searching"
   ]
  },
  {
   "cell_type": "markdown",
   "metadata": {},
   "source": [
    "For minium and maximum numbers, try to use the python <code>min</code> and <code>max</code> functions"
   ]
  },
  {
   "cell_type": "code",
   "execution_count": null,
   "metadata": {},
   "outputs": [],
   "source": [
    "a = [random.randint(0, 100) for i in range(10)]\n",
    "\n",
    "print(a)\n",
    "print(\"the minimum is\", min(a), \", the maximum is\", max(a))"
   ]
  },
  {
   "cell_type": "markdown",
   "metadata": {},
   "source": [
    "To obtain the index of the mininum or maximum item, we can use <code>numpy</code> library"
   ]
  },
  {
   "cell_type": "code",
   "execution_count": null,
   "metadata": {},
   "outputs": [],
   "source": [
    "import numpy as np\n",
    "\n",
    "a = [random.randint(0, 100) for i in range(10)]\n",
    "\n",
    "print(a)\n",
    "print(\"the index of the minimum is\", np.argmin(a), \", the index of the maximum is\", np.argmax(a))"
   ]
  },
  {
   "cell_type": "markdown",
   "metadata": {},
   "source": [
    "To search for the nearest-neighbor, we can use the [sklearn library](https://scikit-learn.org/stable/modules/neighbors.html) "
   ]
  },
  {
   "cell_type": "markdown",
   "metadata": {},
   "source": [
    "### Shortest path"
   ]
  },
  {
   "cell_type": "markdown",
   "metadata": {},
   "source": [
    "[Shortest path](https://en.wikipedia.org/wiki/Shortest_path_problem) is a type of problem we need to solve when, for example, we want to know how to travel as fast as possible from one location to another.\n",
    "\n",
    "This type of problem is well-studied and there are many algorithms avaiable for it.\n",
    "\n",
    "The most famous one is called [Dijkstra's Algorithm](https://en.wikipedia.org/wiki/Dijkstra%27s_algorithm). There is a [nice blog](https://medium.com/@azkardm/dijkstras-algorithm-in-python-finding-the-shortest-path-bcb3bcd4a4ea) explains it in detail."
   ]
  },
  {
   "cell_type": "markdown",
   "metadata": {},
   "source": [
    "### Computational geometry"
   ]
  },
  {
   "cell_type": "markdown",
   "metadata": {},
   "source": [
    "[Computational geometry](https://en.wikipedia.org/wiki/Computational_geometry) represents a type of geometry-related problems that needs to be solved using algorithms, ranging from, for example, computing the intersection points of two curves, to computing the volume of a polyhedral.\n",
    "\n",
    "This type of problems usually require a lot of math knowledge. For example, computing the [intersection of two lines](https://en.wikipedia.org/wiki/Line%E2%80%93line_intersection) can be done by:"
   ]
  },
  {
   "cell_type": "code",
   "execution_count": null,
   "metadata": {},
   "outputs": [],
   "source": [
    "# this code is taken from\n",
    "# https://stackoverflow.com/questions/20677795/how-do-i-compute-the-intersection-point-of-two-lines\n",
    "# \n",
    "# compute line-line intersection,\n",
    "# where each line is specified by\n",
    "# ((x1, y1), (x2, y2))\n",
    "\n",
    "def line_intersection(line1, line2):\n",
    "    xdiff = (line1[0][0] - line1[1][0], line2[0][0] - line2[1][0])\n",
    "    ydiff = (line1[0][1] - line1[1][1], line2[0][1] - line2[1][1])\n",
    "\n",
    "    def det(a, b):\n",
    "        return a[0] * b[1] - a[1] * b[0]\n",
    "\n",
    "    div = det(xdiff, ydiff)\n",
    "    if div == 0:\n",
    "        raise Exception('lines do not intersect')\n",
    "\n",
    "    d = (det(*line1), det(*line2))\n",
    "    x = det(d, xdiff) / div\n",
    "    y = det(d, ydiff) / div\n",
    "    return x, y"
   ]
  },
  {
   "cell_type": "code",
   "execution_count": null,
   "metadata": {},
   "outputs": [],
   "source": [
    "A = (0, 0)\n",
    "B = (10, 0)\n",
    "C = (5, -3)\n",
    "D = (8, 7)\n",
    "\n",
    "line_intersection((A, B), (C, D))"
   ]
  },
  {
   "cell_type": "markdown",
   "metadata": {},
   "source": [
    "**Rhino 3D** is one of the most powerful library that we can use in Python for computational geometry!\n",
    "\n",
    "You can not only code Python scripy inside Rhino (i.e., Rhino and Grasshopper script), also outside Rhino using [Rhino Inside](https://pypi.org/project/rhinoinside/) technology."
   ]
  }
 ],
 "metadata": {
  "kernelspec": {
   "display_name": "Python 3",
   "language": "python",
   "name": "python3"
  },
  "language_info": {
   "codemirror_mode": {
    "name": "ipython",
    "version": 3
   },
   "file_extension": ".py",
   "mimetype": "text/x-python",
   "name": "python",
   "nbconvert_exporter": "python",
   "pygments_lexer": "ipython3",
   "version": "3.7.4"
  }
 },
 "nbformat": 4,
 "nbformat_minor": 2
}
