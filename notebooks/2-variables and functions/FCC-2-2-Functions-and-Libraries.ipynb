{
 "cells": [
  {
   "cell_type": "markdown",
   "metadata": {},
   "source": [
    "# Functions and Libraries in Python"
   ]
  },
  {
   "cell_type": "markdown",
   "metadata": {},
   "source": [
    "**Welcome!** This notebook will teach you about functions and libraries in Python. By the end of this notebook, you'll know the basic of how to define and call a function. You will also know the concept of library and how to import functions from libraries.\n",
    "\n",
    "<hr>"
   ]
  },
  {
   "cell_type": "markdown",
   "metadata": {},
   "source": [
    "## Functions"
   ]
  },
  {
   "cell_type": "markdown",
   "metadata": {},
   "source": [
    "In computer programming, a _Function_ is a block of code that is intended to be reused to perform certain operations. Functions help you break down complex tasks and reuse your code in different programs."
   ]
  },
  {
   "cell_type": "markdown",
   "metadata": {},
   "source": [
    "### Already seen examples"
   ]
  },
  {
   "cell_type": "markdown",
   "metadata": {},
   "source": [
    "The <code>print</code> command we used is a function. It generates texts for the data it receives and prints the texts on the screen."
   ]
  },
  {
   "cell_type": "code",
   "execution_count": null,
   "metadata": {},
   "outputs": [],
   "source": [
    "print(3)"
   ]
  },
  {
   "cell_type": "markdown",
   "metadata": {},
   "source": [
    "The <code>type</code> command is also a function. It tells us what type of data it receives."
   ]
  },
  {
   "cell_type": "code",
   "execution_count": null,
   "metadata": {},
   "outputs": [],
   "source": [
    "type(3)"
   ]
  },
  {
   "cell_type": "markdown",
   "metadata": {},
   "source": [
    "### Define a function"
   ]
  },
  {
   "cell_type": "markdown",
   "metadata": {},
   "source": [
    "In Python, a _Function_ is defined by the <code>def</code> keyword followed by a function name, a pair of brackets <code>()</code>, and a colon symbol <code>:</code><br>\n",
    "A _Function_ must have a **_Body_**, which is the code block that performs certain tasks. In case you need an empty body which does nothing, you can use the keyword <code>pass</code>."
   ]
  },
  {
   "cell_type": "markdown",
   "metadata": {},
   "source": [
    "<div class=\"alert alert-success alertsuccess\">\n",
    "[Tip]: Naming a function follows the same rule of naming a variable.\n",
    "</div>"
   ]
  },
  {
   "cell_type": "code",
   "execution_count": null,
   "metadata": {},
   "outputs": [],
   "source": [
    "# defined a function called \"my_function\"\n",
    "\n",
    "def my_function():\n",
    "    pass       # \"pass\" means that this line of code does nothing"
   ]
  },
  {
   "cell_type": "markdown",
   "metadata": {},
   "source": [
    "After defining the funtion, the name \"my_function\" is taken and we can know it is a function by asking its type.<br>In Python, the function type is called <code>function</code> without abbreviation."
   ]
  },
  {
   "cell_type": "code",
   "execution_count": null,
   "metadata": {},
   "outputs": [],
   "source": [
    "type(my_function)"
   ]
  },
  {
   "cell_type": "markdown",
   "metadata": {},
   "source": [
    "<div class=\"alert alert-block alert-info\">\n",
    "[Further reading]: Understand the <a href=\"https://peps.python.org/pep-0008/#naming-conventions\">naming conventions in Python</a> helps your code reads better.\n",
    "</div>"
   ]
  },
  {
   "cell_type": "markdown",
   "metadata": {},
   "source": [
    "### (IMPORTANT) Use indentation"
   ]
  },
  {
   "cell_type": "markdown",
   "metadata": {},
   "source": [
    "As a part of Python's syntax, we must add **indentation** to a function's body. In Python, indentations are typically four white spaces <code>    </code>. It doesnt matter how many white spaces you use, but it needs to be consistent."
   ]
  },
  {
   "cell_type": "code",
   "execution_count": null,
   "metadata": {},
   "outputs": [],
   "source": [
    "# defined a function called \"my_function\"\n",
    "\n",
    "def my_function():\n",
    "pass       # this will cause an error because we forgot the indentation"
   ]
  },
  {
   "cell_type": "code",
   "execution_count": null,
   "metadata": {},
   "outputs": [],
   "source": [
    "# defined a function called \"my_function\"\n",
    "\n",
    "def my_function():\n",
    " pass       # one white space works, but the convention is to use four."
   ]
  },
  {
   "cell_type": "markdown",
   "metadata": {},
   "source": [
    "### Arguments of a function"
   ]
  },
  {
   "cell_type": "markdown",
   "metadata": {},
   "source": [
    "An _Argument_ (or parameter) of a _Function_ is a variable that is a part of the function's definition. Arguments are the \"interface\" for passing data from outside of a function to the inside of it. "
   ]
  },
  {
   "cell_type": "markdown",
   "metadata": {},
   "source": [
    "To define the arguments for a function, write down their names **between the pair of brackets** <code>()</code> in the function definition, and use comma <code>,</code> to seperate names if there are more than one."
   ]
  },
  {
   "cell_type": "code",
   "execution_count": null,
   "metadata": {},
   "outputs": [],
   "source": [
    "# defined a function called \"single_arg_function\"\n",
    "# it has one argument called \"arg1\"\n",
    "\n",
    "def single_arg_function(arg1):\n",
    "    pass       # \"pass\" means that this line of code does nothing"
   ]
  },
  {
   "cell_type": "code",
   "execution_count": null,
   "metadata": {},
   "outputs": [],
   "source": [
    "# defined a function called \"two_args_function\"\n",
    "# it has two arguments: \"arg1\" and \"arg2\"\n",
    "\n",
    "def two_args_function(arg1, arg2):\n",
    "    pass       # \"pass\" means that this line of code does nothing"
   ]
  },
  {
   "cell_type": "markdown",
   "metadata": {},
   "source": [
    "### Call a function"
   ]
  },
  {
   "cell_type": "markdown",
   "metadata": {},
   "source": [
    "After defining a function, we can _Call_ it (i.e., execute it) by typing<br>\n",
    "1. the function name, \n",
    "2. the pair of brackets <code>()</code>, and \n",
    "3. the values for each arguments (if there is any).\n",
    "\n",
    "For example:"
   ]
  },
  {
   "cell_type": "code",
   "execution_count": null,
   "metadata": {},
   "outputs": [],
   "source": [
    "# call (execute) \"my_function\"\n",
    "\n",
    "my_function()"
   ]
  },
  {
   "cell_type": "code",
   "execution_count": null,
   "metadata": {},
   "outputs": [],
   "source": [
    "# call \"single_arg_function\"\n",
    "\n",
    "single_arg_function(1.0)"
   ]
  },
  {
   "cell_type": "code",
   "execution_count": null,
   "metadata": {},
   "outputs": [],
   "source": [
    "# call \"two_args_function\"\n",
    "\n",
    "two_args_function(1.0, 2.0)"
   ]
  },
  {
   "cell_type": "markdown",
   "metadata": {},
   "source": [
    "**You dont see any outputs?**. This is normal because these functions do nothing and **_Return_** no values.\n",
    "<br>(as long as we dont see errors, its good :) )."
   ]
  },
  {
   "cell_type": "markdown",
   "metadata": {},
   "source": [
    "### Returned value of a function"
   ]
  },
  {
   "cell_type": "markdown",
   "metadata": {},
   "source": [
    "We use _Returned Value_ to deliver the execution result of a function. To specify the returned value, we use <code>return</code> keyword.<br>\n",
    "For example:"
   ]
  },
  {
   "cell_type": "markdown",
   "metadata": {},
   "source": [
    "<div class=\"alert alert-success alertsuccess\">\n",
    "[Tip]: Recall the same example in our previous session.\n",
    "</div>"
   ]
  },
  {
   "cell_type": "code",
   "execution_count": null,
   "metadata": {},
   "outputs": [],
   "source": [
    "# define a function called \"shall_i_buy\"\n",
    "# it has three arguments: \"price\", \"income\", \"really_want_that\"\n",
    "\n",
    "def shall_i_buy(price, income, really_want_that):\n",
    "    # evaluate the expression\n",
    "    # and store the value to a variable called \"to_buy\"\n",
    "    to_buy = (income > price) or really_want_that\n",
    "    \n",
    "    # return of value of \"to_buy\"\n",
    "    return to_buy"
   ]
  },
  {
   "cell_type": "markdown",
   "metadata": {},
   "source": [
    "We can now **Call** this function and get its **Returned Value**:"
   ]
  },
  {
   "cell_type": "code",
   "execution_count": null,
   "metadata": {},
   "outputs": [],
   "source": [
    "# price is 3, income is 6, and I really want that\n",
    "\n",
    "shall_i_buy(3, 6, True)"
   ]
  },
  {
   "cell_type": "code",
   "execution_count": null,
   "metadata": {},
   "outputs": [],
   "source": [
    "# price is 7, income is 6, but I dont really want that\n",
    "\n",
    "shall_i_buy(7, 6, False)"
   ]
  },
  {
   "cell_type": "code",
   "execution_count": null,
   "metadata": {},
   "outputs": [],
   "source": [
    "# price is 9, income is 6, but I do want that\n",
    "\n",
    "shall_i_buy(9, 6, True)"
   ]
  },
  {
   "cell_type": "markdown",
   "metadata": {},
   "source": [
    "## Variable scopes"
   ]
  },
  {
   "cell_type": "markdown",
   "metadata": {},
   "source": [
    "We have learned how to create a variable, how to define a function, and how to create a variable in a function's body.<br>But **what if we use the same name, for variables inside and outside a function's body?**"
   ]
  },
  {
   "cell_type": "code",
   "execution_count": null,
   "metadata": {},
   "outputs": [],
   "source": []
  },
  {
   "cell_type": "code",
   "execution_count": null,
   "metadata": {},
   "outputs": [],
   "source": []
  },
  {
   "cell_type": "markdown",
   "metadata": {},
   "source": [
    "## Libraries"
   ]
  },
  {
   "cell_type": "markdown",
   "metadata": {},
   "source": [
    "As we mentioned that functions are intended for reusing code. This include our code and also other's code. In computer programming, the code from others are typically provided as a <i>Library</i>.\n",
    "\n",
    "In Python, we use the keyword <code>import</code> followed by the name of the library to import and use other's code. "
   ]
  },
  {
   "cell_type": "code",
   "execution_count": null,
   "metadata": {},
   "outputs": [],
   "source": [
    "# import a library called \"math\"\n",
    "\n",
    "import math"
   ]
  },
  {
   "cell_type": "code",
   "execution_count": null,
   "metadata": {},
   "outputs": [],
   "source": [
    "# import a library called \"random\"\n",
    "\n",
    "import random"
   ]
  },
  {
   "cell_type": "markdown",
   "metadata": {},
   "source": [
    "<div class=\"alert alert-success alertsuccess\">\n",
    "[Tip]: This session is just a quick experience on using functions from libraries. As we progress, we will come back to this topic several times.\n",
    "</div>"
   ]
  },
  {
   "cell_type": "markdown",
   "metadata": {},
   "source": [
    "### Calling functions from a library"
   ]
  },
  {
   "cell_type": "markdown",
   "metadata": {},
   "source": [
    "Calling functions from a library is the same with calling our own function. Except that you need to add the library name with the function. In Python, we use dot symbol <code>.</code> for this.\n",
    "\n",
    "\n",
    "For example:"
   ]
  },
  {
   "cell_type": "code",
   "execution_count": null,
   "metadata": {},
   "outputs": [],
   "source": [
    "import math               # import the \"math\" library\n",
    "\n",
    "math.sin(3.14159 * 0.5)   # compute the sine value of half-pi"
   ]
  },
  {
   "cell_type": "code",
   "execution_count": null,
   "metadata": {},
   "outputs": [],
   "source": [
    "# once we imported a library, we can keep using it\n",
    "\n",
    "math.cos(0.0)             # compute the cosine value of 0.0"
   ]
  },
  {
   "cell_type": "code",
   "execution_count": null,
   "metadata": {},
   "outputs": [],
   "source": [
    "import random             # import the \"random\" library\n",
    "\n",
    "random.random()           # call the \"random\" function of the \"random\" library"
   ]
  },
  {
   "cell_type": "code",
   "execution_count": null,
   "metadata": {},
   "outputs": [],
   "source": [
    "random.randint(0, 10)     # gets a random integer between lower and upper bounds"
   ]
  },
  {
   "cell_type": "markdown",
   "metadata": {},
   "source": [
    "### Reading documentations"
   ]
  },
  {
   "cell_type": "markdown",
   "metadata": {},
   "source": [
    "A _Library_ written by others can be very complex, and it is not possible to know what exactly it contains without a _Documentation_. Hence, python coders need to spend time to get familiar with commonly-used libraries and functions.\n",
    "\n",
    "An example would be the official Python Documentation, which already covers many aspects such as numerical computation, datetime conversion, file reading / writing, access Internet etc.\n",
    "\n",
    "You can find the official Python Documentation via [docs.python.org](https://docs.python.org/3/)"
   ]
  },
  {
   "cell_type": "code",
   "execution_count": null,
   "metadata": {},
   "outputs": [],
   "source": []
  }
 ],
 "metadata": {
  "kernelspec": {
   "display_name": "Python 3",
   "language": "python",
   "name": "python3"
  },
  "language_info": {
   "codemirror_mode": {
    "name": "ipython",
    "version": 3
   },
   "file_extension": ".py",
   "mimetype": "text/x-python",
   "name": "python",
   "nbconvert_exporter": "python",
   "pygments_lexer": "ipython3",
   "version": "3.7.4"
  }
 },
 "nbformat": 4,
 "nbformat_minor": 2
}
