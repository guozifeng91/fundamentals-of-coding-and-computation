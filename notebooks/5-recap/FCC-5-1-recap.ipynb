{
 "cells": [
  {
   "cell_type": "markdown",
   "metadata": {
    "id": "zt5GEmPt26CE"
   },
   "source": [
    "# Module 1 recap"
   ]
  },
  {
   "cell_type": "markdown",
   "metadata": {
    "id": "1fBGoiF83G_q"
   },
   "source": [
    "### Type of objects in Python"
   ]
  },
  {
   "cell_type": "markdown",
   "metadata": {
    "id": "F_S7PX_Y223_"
   },
   "source": [
    "In Python, integers are called int, we define an integer by simply typing it out:"
   ]
  },
  {
   "cell_type": "code",
   "execution_count": null,
   "metadata": {
    "colab": {
     "base_uri": "https://localhost:8080/"
    },
    "id": "tLlK9J73SHmy",
    "outputId": "78f75663-9321-4e22-99b3-b4278a4d8b18"
   },
   "outputs": [],
   "source": [
    "1"
   ]
  },
  {
   "cell_type": "code",
   "execution_count": null,
   "metadata": {
    "colab": {
     "base_uri": "https://localhost:8080/"
    },
    "id": "ZVa3CkbeSIVA",
    "outputId": "c5e60e7f-31eb-4a9d-e534-fedcdecf9134"
   },
   "outputs": [],
   "source": [
    "-2"
   ]
  },
  {
   "cell_type": "code",
   "execution_count": null,
   "metadata": {
    "colab": {
     "base_uri": "https://localhost:8080/"
    },
    "id": "EPWNplQXSVeY",
    "outputId": "47c5c136-14ae-4fee-a10e-e0c6c899b24b"
   },
   "outputs": [],
   "source": [
    "type(1)"
   ]
  },
  {
   "cell_type": "markdown",
   "metadata": {
    "id": "ioMk8Y713BGo"
   },
   "source": [
    "In Python, floating-point numbers are called float. We can define a floating-point number by simply typing it out:"
   ]
  },
  {
   "cell_type": "code",
   "execution_count": null,
   "metadata": {
    "colab": {
     "base_uri": "https://localhost:8080/"
    },
    "id": "Tei5miP-SPTm",
    "outputId": "581d060d-a37a-4d02-97e8-cd8a6d843b71"
   },
   "outputs": [],
   "source": [
    "3.12"
   ]
  },
  {
   "cell_type": "code",
   "execution_count": null,
   "metadata": {
    "colab": {
     "base_uri": "https://localhost:8080/"
    },
    "id": "jUBElyTUSQHQ",
    "outputId": "90dec82d-370f-4e4c-e93a-966d3d8e5a09"
   },
   "outputs": [],
   "source": [
    "0.34"
   ]
  },
  {
   "cell_type": "code",
   "execution_count": null,
   "metadata": {
    "colab": {
     "base_uri": "https://localhost:8080/"
    },
    "id": "slkKYWdNSRRy",
    "outputId": "26b8e529-a2cf-4ad7-c0f9-2f918b7d5202"
   },
   "outputs": [],
   "source": [
    "-0.23"
   ]
  },
  {
   "cell_type": "code",
   "execution_count": null,
   "metadata": {
    "colab": {
     "base_uri": "https://localhost:8080/"
    },
    "id": "scDjreXWSSwj",
    "outputId": "2a8cc78f-20a7-49fe-db66-6e1ba393e038"
   },
   "outputs": [],
   "source": [
    "type(-0.23)"
   ]
  },
  {
   "cell_type": "markdown",
   "metadata": {
    "id": "EifTqtjj3YUN"
   },
   "source": [
    "In Python, the boolean data type is called bool. We can define a boolean value by simply typing it out:"
   ]
  },
  {
   "cell_type": "code",
   "execution_count": null,
   "metadata": {
    "colab": {
     "base_uri": "https://localhost:8080/"
    },
    "id": "G7BBNfrwSm3z",
    "outputId": "eef9fae5-a22e-4c18-c56d-03d795fbaf91"
   },
   "outputs": [],
   "source": [
    "True"
   ]
  },
  {
   "cell_type": "code",
   "execution_count": null,
   "metadata": {
    "colab": {
     "base_uri": "https://localhost:8080/"
    },
    "id": "PA_z2DHnSnwP",
    "outputId": "82f5550d-da3f-4e99-9d9f-4bd0949d3052"
   },
   "outputs": [],
   "source": [
    "False"
   ]
  },
  {
   "cell_type": "code",
   "execution_count": null,
   "metadata": {
    "colab": {
     "base_uri": "https://localhost:8080/"
    },
    "id": "PQdtwWYxSohT",
    "outputId": "67e0725e-8f3d-4b23-858d-091b59f34ae5"
   },
   "outputs": [],
   "source": [
    "type(True)"
   ]
  },
  {
   "cell_type": "markdown",
   "metadata": {
    "id": "sVSj0nL43g0V"
   },
   "source": [
    "In Python, string is called str. To define a str, we can simply type the text and wrap it with the quation mark \" or '"
   ]
  },
  {
   "cell_type": "code",
   "execution_count": null,
   "metadata": {
    "colab": {
     "base_uri": "https://localhost:8080/",
     "height": 35
    },
    "id": "z8hByqLQSwPL",
    "outputId": "b3b9ab58-93f2-4183-daa2-cb0ff9463259"
   },
   "outputs": [],
   "source": [
    "\"this is a string.\""
   ]
  },
  {
   "cell_type": "code",
   "execution_count": null,
   "metadata": {
    "colab": {
     "base_uri": "https://localhost:8080/",
     "height": 35
    },
    "id": "XFh4wcRcSybu",
    "outputId": "42c4ddaa-abe0-44f0-a5ef-34ebd2fa13c1"
   },
   "outputs": [],
   "source": [
    "'this is a string'"
   ]
  },
  {
   "cell_type": "code",
   "execution_count": null,
   "metadata": {
    "colab": {
     "base_uri": "https://localhost:8080/",
     "height": 35
    },
    "id": "K7rA4h583pZ8",
    "outputId": "7f87d5a6-fbb2-4157-94e0-9ec7794d046e"
   },
   "outputs": [],
   "source": [
    "'this is a string'[1]"
   ]
  },
  {
   "cell_type": "code",
   "execution_count": null,
   "metadata": {
    "colab": {
     "base_uri": "https://localhost:8080/"
    },
    "id": "jl1KCuqoS2PT",
    "outputId": "5010b3aa-0ffb-438f-d781-a817bf526669"
   },
   "outputs": [],
   "source": [
    "type(\"this is a string.\")"
   ]
  },
  {
   "cell_type": "markdown",
   "metadata": {
    "id": "aDZB-fVW3vhB"
   },
   "source": [
    "In Python, list is the most commonly used list-liked data type. It also has the concept of length, and allows the user to access its elements by giving an index.\n",
    "\n",
    "Unlike string, the elements of a list can be ANY type. The syntax of defining a list is to use the [ and ] pairs. For example:"
   ]
  },
  {
   "cell_type": "code",
   "execution_count": null,
   "metadata": {
    "colab": {
     "base_uri": "https://localhost:8080/"
    },
    "id": "DPF7tUKZXnLr",
    "outputId": "c739417b-1ceb-418b-850a-4593aed41248"
   },
   "outputs": [],
   "source": [
    "# a list of three numbers\n",
    "\n",
    "a = [1, 2, 3]\n",
    "a"
   ]
  },
  {
   "cell_type": "code",
   "execution_count": null,
   "metadata": {
    "colab": {
     "base_uri": "https://localhost:8080/"
    },
    "id": "APIrNcmSXxGN",
    "outputId": "64f8987b-e8a0-4d26-f3cc-b2e1356149b6"
   },
   "outputs": [],
   "source": [
    "# a list can contain any type of data\n",
    "\n",
    "b = [\"hello\", \"python\", True, 4, 5]\n",
    "type(b)"
   ]
  },
  {
   "cell_type": "markdown",
   "metadata": {
    "id": "ieDbHU3-4AcV"
   },
   "source": [
    "In Python, a range is another data type that behaves like a list. A range represents a series of numbersmber bounded by a pair of start and end values.\n",
    "A range data type can be defined using the range command:"
   ]
  },
  {
   "cell_type": "code",
   "execution_count": null,
   "metadata": {
    "colab": {
     "base_uri": "https://localhost:8080/"
    },
    "id": "oP8-BzBUX34y",
    "outputId": "d4dcb6a4-ca09-4235-cbd7-00345b7bb85a"
   },
   "outputs": [],
   "source": [
    "# range is another list-liked data type\n",
    "\n",
    "c = range(5, 15)\n",
    "type(c)"
   ]
  },
  {
   "cell_type": "markdown",
   "metadata": {
    "id": "RMStwyYI4XHM"
   },
   "source": [
    "## Operations in Python"
   ]
  },
  {
   "cell_type": "markdown",
   "metadata": {
    "id": "upH---f84eF6"
   },
   "source": [
    "Python and many other programming languages follow well-accepted accepted mathematical conventions when writing and evaluating expressions.\n",
    "For example, for basic arithmetics:"
   ]
  },
  {
   "cell_type": "code",
   "execution_count": null,
   "metadata": {
    "colab": {
     "base_uri": "https://localhost:8080/"
    },
    "id": "YwOvvafbTPyL",
    "outputId": "3554aed2-2910-4ffa-f492-a3b8a31e7fd5"
   },
   "outputs": [],
   "source": [
    "# addition\n",
    "\n",
    "1 + 2"
   ]
  },
  {
   "cell_type": "code",
   "execution_count": null,
   "metadata": {
    "colab": {
     "base_uri": "https://localhost:8080/"
    },
    "id": "pt4MFf7KTRnq",
    "outputId": "083381db-1583-413c-fc3a-26b3d3dd0adb"
   },
   "outputs": [],
   "source": [
    "# subtraction\n",
    "\n",
    "4 - 3"
   ]
  },
  {
   "cell_type": "code",
   "execution_count": null,
   "metadata": {
    "colab": {
     "base_uri": "https://localhost:8080/"
    },
    "id": "N3DU9KFRTTa6",
    "outputId": "efa84adb-6b4b-447e-cefb-2fd27c614956"
   },
   "outputs": [],
   "source": [
    "# multiplication\n",
    "\n",
    "3 * 2"
   ]
  },
  {
   "cell_type": "code",
   "execution_count": null,
   "metadata": {
    "colab": {
     "base_uri": "https://localhost:8080/"
    },
    "id": "bcFlSSBsTWaX",
    "outputId": "0381ab89-2dea-4006-9513-6ab1b7a88fbc"
   },
   "outputs": [],
   "source": [
    "# division\n",
    "\n",
    "8 / 2"
   ]
  },
  {
   "cell_type": "code",
   "execution_count": null,
   "metadata": {
    "colab": {
     "base_uri": "https://localhost:8080/"
    },
    "id": "TyKE1A1yTdgY",
    "outputId": "a9acc271-1bab-437e-ced6-fb391f7027be"
   },
   "outputs": [],
   "source": [
    "# equality\n",
    "\n",
    "2 == 2"
   ]
  },
  {
   "cell_type": "code",
   "execution_count": null,
   "metadata": {
    "colab": {
     "base_uri": "https://localhost:8080/"
    },
    "id": "AIxIuRs0Tfvw",
    "outputId": "2b0fa908-35c2-4f73-e5d6-f05a3e6f73b1"
   },
   "outputs": [],
   "source": [
    "# greater than\n",
    "\n",
    "2 > 1"
   ]
  },
  {
   "cell_type": "code",
   "execution_count": null,
   "metadata": {
    "colab": {
     "base_uri": "https://localhost:8080/"
    },
    "id": "ON-WC2-qThkg",
    "outputId": "78384fbe-3973-4cf4-f632-d59df2ea5655"
   },
   "outputs": [],
   "source": [
    "# greater than or equal to\n",
    "\n",
    "3 >= 2"
   ]
  },
  {
   "cell_type": "code",
   "execution_count": null,
   "metadata": {
    "colab": {
     "base_uri": "https://localhost:8080/"
    },
    "id": "m8G8_fapThuX",
    "outputId": "3977d7ff-c129-4c29-d560-830a7ec597f4"
   },
   "outputs": [],
   "source": [
    "# less than\n",
    "\n",
    "4 < 1"
   ]
  },
  {
   "cell_type": "code",
   "execution_count": null,
   "metadata": {
    "colab": {
     "base_uri": "https://localhost:8080/"
    },
    "id": "3RfP1_pXTl8s",
    "outputId": "450987fe-bfc2-4a5b-96aa-4dc0b7cb900e"
   },
   "outputs": [],
   "source": [
    "# inequality\n",
    "\n",
    "3.0 != 2"
   ]
  },
  {
   "cell_type": "markdown",
   "metadata": {
    "id": "C4C8H8SI4j9o"
   },
   "source": [
    "For Boolean values, we can apply logical operations and, or, not. They, as suggested by their names, represent the logical condition of \"and\", \"or\", \"not\"."
   ]
  },
  {
   "cell_type": "code",
   "execution_count": null,
   "metadata": {
    "colab": {
     "base_uri": "https://localhost:8080/"
    },
    "id": "z6U-8OQDT9aU",
    "outputId": "08367511-4cf6-4a63-adee-4840e5028421"
   },
   "outputs": [],
   "source": [
    "# both 1st and 2nd values are True?\n",
    "\n",
    "True and True"
   ]
  },
  {
   "cell_type": "code",
   "execution_count": null,
   "metadata": {
    "colab": {
     "base_uri": "https://localhost:8080/"
    },
    "id": "VCUdIACCT9fd",
    "outputId": "79e3eb55-593d-4767-ed8f-36620f85cc60"
   },
   "outputs": [],
   "source": [
    "# either 1st or 2nd value is True?\n",
    "\n",
    "False or True"
   ]
  },
  {
   "cell_type": "code",
   "execution_count": null,
   "metadata": {
    "colab": {
     "base_uri": "https://localhost:8080/"
    },
    "id": "aNTwY8xzT9is",
    "outputId": "ee5fd79f-e52e-40f0-f1a2-a34b4219f977"
   },
   "outputs": [],
   "source": [
    "# not (the negation of) True is False\n",
    "\n",
    "not True"
   ]
  },
  {
   "cell_type": "code",
   "execution_count": null,
   "metadata": {
    "colab": {
     "base_uri": "https://localhost:8080/"
    },
    "id": "HgK9J-0BT9mt",
    "outputId": "50980f0b-addf-429a-c2b3-694a102ab59c"
   },
   "outputs": [],
   "source": [
    "# not (the negation of) False is True\n",
    "\n",
    "not False"
   ]
  },
  {
   "cell_type": "markdown",
   "metadata": {
    "id": "SlKDEVOj4pMw"
   },
   "source": [
    "For strings (texts), we can use + to join texts to sentences."
   ]
  },
  {
   "cell_type": "code",
   "execution_count": null,
   "metadata": {
    "colab": {
     "base_uri": "https://localhost:8080/",
     "height": 35
    },
    "id": "HX5OVf5RT9s2",
    "outputId": "76273457-2e89-4ad7-8190-a0236a96966d"
   },
   "outputs": [],
   "source": [
    "# create a sentence from words\n",
    "\n",
    "\"hello, \" + \"python\" + \"!\""
   ]
  },
  {
   "cell_type": "markdown",
   "metadata": {
    "id": "bEl5mOBtUUFN"
   },
   "source": [
    "You may noteice that here we use == instead of = to represent the equality. In Python (and many other programming languages), this is to differentiate the action of\n",
    "1) computing the equality, from the action of\n",
    "2) assigning a value to a variable:"
   ]
  },
  {
   "cell_type": "markdown",
   "metadata": {
    "id": "BIHYoE7MUaXC"
   },
   "source": [
    "A variable name MUST start with a letter or the underscore character\n",
    "A variable name CANNOT start with a number\n",
    "A variable name can ONLY contain alpha-numeric characters and underscores (A-z, 0-9, and _ )\n",
    "Variable names are case-sensitive (age, Age and AGE are three different variables)"
   ]
  },
  {
   "cell_type": "code",
   "execution_count": null,
   "metadata": {
    "colab": {
     "base_uri": "https://localhost:8080/"
    },
    "id": "NnbmB55pUpeM",
    "outputId": "2374e160-f9cc-4ef1-8458-cf7259fec40d"
   },
   "outputs": [],
   "source": [
    "a= 1\n",
    "a"
   ]
  },
  {
   "cell_type": "code",
   "execution_count": null,
   "metadata": {
    "colab": {
     "base_uri": "https://localhost:8080/",
     "height": 35
    },
    "id": "scyOKVpRUq6q",
    "outputId": "b2610b89-1510-4e85-d683-5ea5e3ef94c0"
   },
   "outputs": [],
   "source": [
    "b= 'hello'\n",
    "b"
   ]
  },
  {
   "cell_type": "code",
   "execution_count": null,
   "metadata": {
    "colab": {
     "base_uri": "https://localhost:8080/"
    },
    "id": "e99SpbN9UudC",
    "outputId": "423073d4-af2a-4847-fe3c-14179a50ac4c"
   },
   "outputs": [],
   "source": [
    "c= [1,2,3,4]\n",
    "c"
   ]
  },
  {
   "cell_type": "markdown",
   "metadata": {
    "id": "tsIlQxeE4vyU"
   },
   "source": [
    "## Functions"
   ]
  },
  {
   "cell_type": "markdown",
   "metadata": {
    "id": "RARNzwOjU39q"
   },
   "source": [
    "In computer programming, a Function is a block of code that is intended to be reused to perform certain operations. Functions help you break down complex tasks and reuse your code in different programs."
   ]
  },
  {
   "cell_type": "code",
   "execution_count": null,
   "metadata": {
    "colab": {
     "base_uri": "https://localhost:8080/"
    },
    "id": "R__XrrJKU7BM",
    "outputId": "ece3ef3e-cc1a-4bba-8cc9-ed12e7e02eca"
   },
   "outputs": [],
   "source": [
    "print(1)"
   ]
  },
  {
   "cell_type": "code",
   "execution_count": null,
   "metadata": {
    "colab": {
     "base_uri": "https://localhost:8080/"
    },
    "id": "ZNf8_PTPU8u1",
    "outputId": "3ad78912-eac9-4b26-ad56-7f14934a9915"
   },
   "outputs": [],
   "source": [
    "type(0.2)"
   ]
  },
  {
   "cell_type": "markdown",
   "metadata": {
    "id": "GsOWN_THVM80"
   },
   "source": [
    "In Python, a Function is defined by the def keyword followed by a function name, a pair of brackets (), and a colon symbol :\n",
    "A Function must have a Body, which is the code block that performs certain tasks. In case you need an empty body which does nothing, you can use the keyword pass.\n"
   ]
  },
  {
   "cell_type": "code",
   "execution_count": null,
   "metadata": {
    "id": "EqUaWXUQVN7z"
   },
   "outputs": [],
   "source": [
    "# define a function called \"shall_i_buy\"\n",
    "# it has three arguments: \"price\", \"income\", \"really_want_that\"\n",
    "\n",
    "def shall_i_buy(price, income, really_want_that):\n",
    "    # evaluate the expression and store the\n",
    "    # value to a variable called \"to_buy\"\n",
    "    to_buy = (income > price) or really_want_that\n",
    "\n",
    "    # return of value of \"to_buy\"\n",
    "    return to_buy"
   ]
  },
  {
   "cell_type": "code",
   "execution_count": null,
   "metadata": {
    "colab": {
     "base_uri": "https://localhost:8080/"
    },
    "id": "KhJRXAFfVUjp",
    "outputId": "336cf98a-ff2d-4182-d944-a3172e5bceac"
   },
   "outputs": [],
   "source": [
    "# price is 3, income is 6, and I really want that\n",
    "\n",
    "shall_i_buy(3, 6, True)"
   ]
  },
  {
   "cell_type": "markdown",
   "metadata": {
    "id": "Ykrs19sO48F3"
   },
   "source": [
    "## Libraries"
   ]
  },
  {
   "cell_type": "markdown",
   "metadata": {
    "id": "HSJME9kxVd_S"
   },
   "source": [
    "As we mentioned that functions are intended for reusing code. This include our code and also other's code. In computer programming, the code from others are typically provided as a Library.\n",
    "In Python, we use the keyword import followed by the name of the library to import and use other's code."
   ]
  },
  {
   "cell_type": "code",
   "execution_count": null,
   "metadata": {
    "id": "DlFHgFXlVefH"
   },
   "outputs": [],
   "source": [
    "# import a library called \"math\"\n",
    "\n",
    "import math"
   ]
  },
  {
   "cell_type": "code",
   "execution_count": null,
   "metadata": {
    "colab": {
     "base_uri": "https://localhost:8080/"
    },
    "id": "4V4ArDU97gnm",
    "outputId": "2490b6a4-641d-4de3-f37a-a5796d5f8fa2"
   },
   "outputs": [],
   "source": [
    "# compute the sine value of half-pi\n",
    "\n",
    "math.sin(3.14159 * 0.5)"
   ]
  },
  {
   "cell_type": "markdown",
   "metadata": {
    "id": "GLZqvAfp7rIr"
   },
   "source": [
    "Once we imported a library, we can keep using it"
   ]
  },
  {
   "cell_type": "code",
   "execution_count": null,
   "metadata": {
    "colab": {
     "base_uri": "https://localhost:8080/"
    },
    "id": "FOblCZUy7ilU",
    "outputId": "6ad22b72-499a-4a77-8e6e-d1a352dc0791"
   },
   "outputs": [],
   "source": [
    "# compute the cosine value of 0.0\n",
    "\n",
    "math.cos(0.0)"
   ]
  },
  {
   "cell_type": "markdown",
   "metadata": {
    "id": "NOY3RcNY5BrK"
   },
   "source": [
    "### Documentations"
   ]
  },
  {
   "cell_type": "markdown",
   "metadata": {
    "id": "bXr_fkS8Vs9g"
   },
   "source": [
    "A Library written by others can be very complex, and it is not possible to know what exactly it contains without a Documentation. Hence, python coders need to spend time to get familiar with commonly-used libraries and functions.\n",
    "An example would be the official Python Documentation, which already covers many aspects such as numerical computation, datetime conversion, file reading / writing, access Internet etc.\n",
    "You can find the official Python Documentation via docs.python.org"
   ]
  },
  {
   "cell_type": "markdown",
   "metadata": {
    "id": "CUxeccwP5GoR"
   },
   "source": [
    "## Conditionals"
   ]
  },
  {
   "cell_type": "markdown",
   "metadata": {
    "id": "FMUjbjDPWCW0"
   },
   "source": [
    "Branching allows us to step beyond the \"line-by-line\" schema of running code and to execute a block of code only under certain condition. As if we are saying \"do something if something happened\".\n",
    "\n",
    "In computer programming, the line of code we use to implement branching is called the if statement. The syntax of if statement in Python is if keyword followed by a conditional expression, and then a colon symbol :"
   ]
  },
  {
   "cell_type": "code",
   "execution_count": null,
   "metadata": {
    "id": "6rck8ky_aO1M"
   },
   "outputs": [],
   "source": [
    "a= 5\n",
    "b= 5"
   ]
  },
  {
   "cell_type": "markdown",
   "metadata": {
    "id": "foVKqgmM8bjg"
   },
   "source": [
    "### If statement"
   ]
  },
  {
   "cell_type": "code",
   "execution_count": null,
   "metadata": {
    "colab": {
     "base_uri": "https://localhost:8080/"
    },
    "id": "aCqcYrF8WC1e",
    "outputId": "0c5a86e5-fdce-4454-b2f0-5d36f64fdd75"
   },
   "outputs": [],
   "source": [
    "if a == 5:\n",
    "    print(\"a is 5\")"
   ]
  },
  {
   "cell_type": "code",
   "execution_count": null,
   "metadata": {
    "colab": {
     "base_uri": "https://localhost:8080/"
    },
    "id": "QjxtngtKWEQc",
    "outputId": "99fcf8f1-8cca-44e6-9f60-efe8bc6a2be2"
   },
   "outputs": [],
   "source": [
    "if b != 3:\n",
    "    print(\"b is not 3\")"
   ]
  },
  {
   "cell_type": "code",
   "execution_count": null,
   "metadata": {
    "colab": {
     "base_uri": "https://localhost:8080/"
    },
    "id": "G8Zs9MMbWETb",
    "outputId": "749a45e6-7edd-4c19-fff0-be66e38de45c"
   },
   "outputs": [],
   "source": [
    "# number of white spaces MUST be consistent\n",
    "\n",
    "\n",
    "if a == 5:\n",
    "print(\"a is 5\")\n",
    "    print(\"a is not 6\")"
   ]
  },
  {
   "cell_type": "markdown",
   "metadata": {
    "id": "m9tQc5AG5cHS"
   },
   "source": [
    "### Else statement"
   ]
  },
  {
   "cell_type": "markdown",
   "metadata": {
    "id": "_2lw5JPjWRq7"
   },
   "source": [
    "In many cases, we not only need consider the situation when the condition is True, but also when it is False. And to specify the code block for this alternative situation, we use else statement.\n",
    "An else statement MUST show up after an if statement, therefore we sometimes use if-else statement to call them both. In Python, the syntax of else statment is else keyword followed by the colon symbol :"
   ]
  },
  {
   "cell_type": "code",
   "execution_count": null,
   "metadata": {
    "colab": {
     "base_uri": "https://localhost:8080/"
    },
    "id": "rWaaIDBTWEZT",
    "outputId": "b84d4201-fdad-479b-dc28-0dc335aa7a62"
   },
   "outputs": [],
   "source": [
    "# if-else statement\n",
    "\n",
    "if a == 5:\n",
    "    print(\"a is 5\")\n",
    "else:\n",
    "    print(\"a is not 5\")"
   ]
  },
  {
   "cell_type": "markdown",
   "metadata": {
    "id": "jvC0x-QC5ktb"
   },
   "source": [
    "### Nesting if-else statements"
   ]
  },
  {
   "cell_type": "markdown",
   "metadata": {
    "id": "4KOnAbpfWUA4"
   },
   "source": [
    "The if-else statement represents the basic unit of decision making, but for complex problems, it is quite common that we have to make sub-dicision-making for one condition.\n",
    "Take a look at the following example:"
   ]
  },
  {
   "cell_type": "code",
   "execution_count": null,
   "metadata": {
    "colab": {
     "base_uri": "https://localhost:8080/"
    },
    "id": "AssGqGegWV1a",
    "outputId": "aea808eb-c237-46ae-9bec-7c00d4ac1021"
   },
   "outputs": [],
   "source": [
    "# if-else statement inside another if-else statement\n",
    "\n",
    "today = \"monday\"\n",
    "\n",
    "if today == \"monday\":\n",
    "    print(\"order sushi\")\n",
    "else:\n",
    "    if today == \"thursday\":\n",
    "        print(\"order pizza\")\n",
    "    else:\n",
    "        print(\"cook at home\")"
   ]
  },
  {
   "cell_type": "markdown",
   "metadata": {
    "id": "qsRIgOGX5tMS"
   },
   "source": [
    "### Else if statement"
   ]
  },
  {
   "cell_type": "markdown",
   "metadata": {
    "id": "NZjydqqMWapk"
   },
   "source": [
    "However, writing nested statements is not always a good coding style, especially when the logic gets complex.\n",
    "In many cases, you can simplify your code by flattening your nested code block in an else statement with the else if statement. In Python, else if statement is defined by elif keyword followed by the condition and the colon sumbol :"
   ]
  },
  {
   "cell_type": "code",
   "execution_count": null,
   "metadata": {
    "colab": {
     "base_uri": "https://localhost:8080/"
    },
    "id": "um1MlsyqWbOd",
    "outputId": "4759d775-fbb2-412c-f474-0197cf7ac41e"
   },
   "outputs": [],
   "source": [
    "# rewrite \"if-else\" in \"else\" into \"else if (elif)\"\n",
    "\n",
    "today = \"monday\"\n",
    "\n",
    "if today == \"monday\":\n",
    "    print(\"order sushi\")\n",
    "elif today == \"thursday\":\n",
    "    print(\"order pizza\")\n",
    "else:\n",
    "    print(\"cook at home\")"
   ]
  },
  {
   "cell_type": "markdown",
   "metadata": {
    "id": "kZfzIcpx57Yg"
   },
   "source": [
    "### If-else statement in a function"
   ]
  },
  {
   "cell_type": "markdown",
   "metadata": {
    "id": "WBzxhqxYWocc"
   },
   "source": [
    "As a review and extension of our previous session on function, we can naturally write our if-else statement in the body of a function:"
   ]
  },
  {
   "cell_type": "code",
   "execution_count": null,
   "metadata": {
    "id": "Ufj0ADxcWpJC"
   },
   "outputs": [],
   "source": [
    "def order_food(today):\n",
    "    if today == \"monday\":\n",
    "        print(\"order sushi\")\n",
    "    elif today == \"thursday\":\n",
    "        print(\"order pizza\")\n",
    "    elif today == \"friday\":\n",
    "        print(\"order noodle\")\n",
    "    else:\n",
    "        print(\"cook at home\")"
   ]
  },
  {
   "cell_type": "code",
   "execution_count": null,
   "metadata": {
    "colab": {
     "base_uri": "https://localhost:8080/"
    },
    "id": "-HXbExXDWrav",
    "outputId": "949a1556-f25b-4dca-a726-bb2cbdb83e28"
   },
   "outputs": [],
   "source": [
    "order_food(\"monday\")"
   ]
  },
  {
   "cell_type": "markdown",
   "metadata": {
    "id": "LcyE9Vxy6A6N"
   },
   "source": [
    "## Loops"
   ]
  },
  {
   "cell_type": "markdown",
   "metadata": {
    "id": "7jLTdAnEXB-R"
   },
   "source": [
    "From \"until\" to \"while\"\n",
    "\n",
    "In the above examples, we specified our stopping condition as \"until something is true\". This specification can be converted to its equivalent while sentence \"while something is true\".\n",
    "For example,\n",
    "repeat something, until count is less than or equal to zero (count <= 0), is logically equivalent to\n",
    "repeat something, while count is greater than zero (count > 0)."
   ]
  },
  {
   "cell_type": "markdown",
   "metadata": {
    "id": "nvAVE8cz6Iwj"
   },
   "source": [
    "### While statement\n"
   ]
  },
  {
   "cell_type": "markdown",
   "metadata": {
    "id": "uowl1-yo6HX1"
   },
   "source": [
    "The conversion from until to while helps us to repeat our code in another way: the while loop.\n",
    "In python, while loop is defined by a while statement. A while statement starts with the while keyword, followed by an expression that can be evalutes as True or False, and then a colon symbol :, and finally a body with indentations."
   ]
  },
  {
   "cell_type": "code",
   "execution_count": null,
   "metadata": {
    "colab": {
     "base_uri": "https://localhost:8080/"
    },
    "id": "GOu6ONDkXCkr",
    "outputId": "ccd80df1-eda8-46da-cae7-556bf623bba1"
   },
   "outputs": [],
   "source": [
    "# repeat a = a - 1\n",
    "# while a > 0 (i.e., until a <= 0)\n",
    "\n",
    "a = 10\n",
    "\n",
    "while a > 0:\n",
    "    a = a - 1\n",
    "    print(a)"
   ]
  },
  {
   "cell_type": "markdown",
   "metadata": {
    "id": "tEGCNv-k6M5-"
   },
   "source": [
    "### For Loop statement"
   ]
  },
  {
   "cell_type": "markdown",
   "metadata": {
    "id": "EKN4ycoDX9Wp"
   },
   "source": [
    "In Python, a for loop is a special type of loop which repeats certain operation for each element of a list-liked data type.\n",
    "For example, repeat print for each element of a string \"hello\" can be written as:"
   ]
  },
  {
   "cell_type": "code",
   "execution_count": null,
   "metadata": {
    "colab": {
     "base_uri": "https://localhost:8080/"
    },
    "id": "ptCejI6UX95g",
    "outputId": "3adfae73-f5d2-4303-e1c4-3eeb90bbd66e"
   },
   "outputs": [],
   "source": [
    "# elem is a variable whose value will be\n",
    "# re-assigned during the executing of the for loop\n",
    "\n",
    "for elem in \"hello\":\n",
    "    print(elem)"
   ]
  },
  {
   "cell_type": "code",
   "execution_count": null,
   "metadata": {
    "colab": {
     "base_uri": "https://localhost:8080/"
    },
    "id": "_9BPeZSwYHyO",
    "outputId": "55f61f36-7c70-422a-a86c-9e1fad7e3362"
   },
   "outputs": [],
   "source": [
    "# repeat print for each element of a range data type can be written as:\n",
    "\n",
    "for i in range(10):\n",
    "    print(i)"
   ]
  },
  {
   "cell_type": "markdown",
   "metadata": {
    "id": "VRM98pvQYjW8"
   },
   "source": [
    "Similar to while loop and other code structures, the code block after the : symbol is the body of the for loop and it should be written with indentation."
   ]
  },
  {
   "cell_type": "code",
   "execution_count": null,
   "metadata": {
    "colab": {
     "base_uri": "https://localhost:8080/"
    },
    "id": "xhJbmoozYj6_",
    "outputId": "d4123a5c-412d-4e36-938b-b7f496a913f3"
   },
   "outputs": [],
   "source": [
    "# Compute the square of a list of\n",
    "\n",
    "integers = [1, 2, 3, 4, 5]\n",
    "\n",
    "for i in integers:\n",
    "    print(i * i)"
   ]
  },
  {
   "cell_type": "code",
   "execution_count": null,
   "metadata": {
    "colab": {
     "base_uri": "https://localhost:8080/"
    },
    "id": "Fmw0nIFSYnLn",
    "outputId": "611de276-39f7-41ca-ce42-d69b0795be86"
   },
   "outputs": [],
   "source": [
    "# summing a list of numbers\n",
    "\n",
    "numbers = [3, 6.6, 7, 9.2, 12.5, 17.5]\n",
    "\n",
    "total = 0\n",
    "\n",
    "for n in numbers:\n",
    "    total = total + n\n",
    "\n",
    "print(total)"
   ]
  },
  {
   "cell_type": "code",
   "execution_count": null,
   "metadata": {
    "id": "gLyvTHOQ8LO3"
   },
   "outputs": [],
   "source": []
  }
 ],
 "metadata": {
  "colab": {
   "collapsed_sections": [
    "zt5GEmPt26CE",
    "1fBGoiF83G_q",
    "RMStwyYI4XHM",
    "tsIlQxeE4vyU",
    "Ykrs19sO48F3",
    "NOY3RcNY5BrK",
    "CUxeccwP5GoR",
    "foVKqgmM8bjg",
    "m9tQc5AG5cHS",
    "jvC0x-QC5ktb",
    "qsRIgOGX5tMS",
    "kZfzIcpx57Yg",
    "LcyE9Vxy6A6N",
    "nvAVE8cz6Iwj",
    "tEGCNv-k6M5-"
   ],
   "provenance": []
  },
  "kernelspec": {
   "display_name": "Python 3",
   "language": "python",
   "name": "python3"
  },
  "language_info": {
   "codemirror_mode": {
    "name": "ipython",
    "version": 3
   },
   "file_extension": ".py",
   "mimetype": "text/x-python",
   "name": "python",
   "nbconvert_exporter": "python",
   "pygments_lexer": "ipython3",
   "version": "3.7.4"
  }
 },
 "nbformat": 4,
 "nbformat_minor": 1
}
