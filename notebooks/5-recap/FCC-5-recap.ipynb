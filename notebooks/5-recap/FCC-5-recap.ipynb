{
  "nbformat": 4,
  "nbformat_minor": 0,
  "metadata": {
    "colab": {
      "provenance": [],
      "collapsed_sections": [
        "zt5GEmPt26CE",
        "1fBGoiF83G_q",
        "RMStwyYI4XHM",
        "tsIlQxeE4vyU",
        "Ykrs19sO48F3",
        "NOY3RcNY5BrK",
        "CUxeccwP5GoR",
        "foVKqgmM8bjg",
        "m9tQc5AG5cHS",
        "jvC0x-QC5ktb",
        "qsRIgOGX5tMS",
        "kZfzIcpx57Yg",
        "LcyE9Vxy6A6N",
        "nvAVE8cz6Iwj",
        "tEGCNv-k6M5-"
      ]
    },
    "kernelspec": {
      "name": "python3",
      "display_name": "Python 3"
    },
    "language_info": {
      "name": "python"
    }
  },
  "cells": [
    {
      "cell_type": "markdown",
      "source": [
        "# Module 1 recap"
      ],
      "metadata": {
        "id": "zt5GEmPt26CE"
      }
    },
    {
      "cell_type": "markdown",
      "source": [
        "### Type of objects in Python"
      ],
      "metadata": {
        "id": "1fBGoiF83G_q"
      }
    },
    {
      "cell_type": "markdown",
      "source": [
        "In Python, integers are called int, we define an integer by simply typing it out:"
      ],
      "metadata": {
        "id": "F_S7PX_Y223_"
      }
    },
    {
      "cell_type": "code",
      "source": [
        "1"
      ],
      "metadata": {
        "id": "tLlK9J73SHmy",
        "colab": {
          "base_uri": "https://localhost:8080/"
        },
        "outputId": "78f75663-9321-4e22-99b3-b4278a4d8b18"
      },
      "execution_count": null,
      "outputs": [
        {
          "output_type": "execute_result",
          "data": {
            "text/plain": [
              "1"
            ]
          },
          "metadata": {},
          "execution_count": 5
        }
      ]
    },
    {
      "cell_type": "code",
      "source": [
        "-2"
      ],
      "metadata": {
        "id": "ZVa3CkbeSIVA",
        "colab": {
          "base_uri": "https://localhost:8080/"
        },
        "outputId": "c5e60e7f-31eb-4a9d-e534-fedcdecf9134"
      },
      "execution_count": null,
      "outputs": [
        {
          "output_type": "execute_result",
          "data": {
            "text/plain": [
              "-2"
            ]
          },
          "metadata": {},
          "execution_count": 6
        }
      ]
    },
    {
      "cell_type": "code",
      "source": [
        "type(1)"
      ],
      "metadata": {
        "colab": {
          "base_uri": "https://localhost:8080/"
        },
        "id": "EPWNplQXSVeY",
        "outputId": "47c5c136-14ae-4fee-a10e-e0c6c899b24b"
      },
      "execution_count": null,
      "outputs": [
        {
          "output_type": "execute_result",
          "data": {
            "text/plain": [
              "int"
            ]
          },
          "metadata": {},
          "execution_count": 7
        }
      ]
    },
    {
      "cell_type": "markdown",
      "source": [
        "In Python, floating-point numbers are called float. We can define a floating-point number by simply typing it out:"
      ],
      "metadata": {
        "id": "ioMk8Y713BGo"
      }
    },
    {
      "cell_type": "code",
      "source": [
        "3.12"
      ],
      "metadata": {
        "id": "Tei5miP-SPTm",
        "colab": {
          "base_uri": "https://localhost:8080/"
        },
        "outputId": "581d060d-a37a-4d02-97e8-cd8a6d843b71"
      },
      "execution_count": null,
      "outputs": [
        {
          "output_type": "execute_result",
          "data": {
            "text/plain": [
              "3.12"
            ]
          },
          "metadata": {},
          "execution_count": 8
        }
      ]
    },
    {
      "cell_type": "code",
      "source": [
        "0.34"
      ],
      "metadata": {
        "id": "jUBElyTUSQHQ",
        "colab": {
          "base_uri": "https://localhost:8080/"
        },
        "outputId": "90dec82d-370f-4e4c-e93a-966d3d8e5a09"
      },
      "execution_count": null,
      "outputs": [
        {
          "output_type": "execute_result",
          "data": {
            "text/plain": [
              "0.34"
            ]
          },
          "metadata": {},
          "execution_count": 9
        }
      ]
    },
    {
      "cell_type": "code",
      "source": [
        "-0.23"
      ],
      "metadata": {
        "id": "slkKYWdNSRRy",
        "colab": {
          "base_uri": "https://localhost:8080/"
        },
        "outputId": "26b8e529-a2cf-4ad7-c0f9-2f918b7d5202"
      },
      "execution_count": null,
      "outputs": [
        {
          "output_type": "execute_result",
          "data": {
            "text/plain": [
              "-0.23"
            ]
          },
          "metadata": {},
          "execution_count": 10
        }
      ]
    },
    {
      "cell_type": "code",
      "source": [
        "type(-0.23)"
      ],
      "metadata": {
        "colab": {
          "base_uri": "https://localhost:8080/"
        },
        "id": "scDjreXWSSwj",
        "outputId": "2a8cc78f-20a7-49fe-db66-6e1ba393e038"
      },
      "execution_count": null,
      "outputs": [
        {
          "output_type": "execute_result",
          "data": {
            "text/plain": [
              "float"
            ]
          },
          "metadata": {},
          "execution_count": 11
        }
      ]
    },
    {
      "cell_type": "markdown",
      "source": [
        "In Python, the boolean data type is called bool. We can define a boolean value by simply typing it out:"
      ],
      "metadata": {
        "id": "EifTqtjj3YUN"
      }
    },
    {
      "cell_type": "code",
      "source": [
        "True"
      ],
      "metadata": {
        "id": "G7BBNfrwSm3z",
        "colab": {
          "base_uri": "https://localhost:8080/"
        },
        "outputId": "eef9fae5-a22e-4c18-c56d-03d795fbaf91"
      },
      "execution_count": null,
      "outputs": [
        {
          "output_type": "execute_result",
          "data": {
            "text/plain": [
              "True"
            ]
          },
          "metadata": {},
          "execution_count": 12
        }
      ]
    },
    {
      "cell_type": "code",
      "source": [
        "False"
      ],
      "metadata": {
        "id": "PA_z2DHnSnwP",
        "colab": {
          "base_uri": "https://localhost:8080/"
        },
        "outputId": "82f5550d-da3f-4e99-9d9f-4bd0949d3052"
      },
      "execution_count": null,
      "outputs": [
        {
          "output_type": "execute_result",
          "data": {
            "text/plain": [
              "False"
            ]
          },
          "metadata": {},
          "execution_count": 13
        }
      ]
    },
    {
      "cell_type": "code",
      "source": [
        "type(True)"
      ],
      "metadata": {
        "id": "PQdtwWYxSohT",
        "colab": {
          "base_uri": "https://localhost:8080/"
        },
        "outputId": "67e0725e-8f3d-4b23-858d-091b59f34ae5"
      },
      "execution_count": null,
      "outputs": [
        {
          "output_type": "execute_result",
          "data": {
            "text/plain": [
              "bool"
            ]
          },
          "metadata": {},
          "execution_count": 14
        }
      ]
    },
    {
      "cell_type": "markdown",
      "source": [
        "In Python, string is called str. To define a str, we can simply type the text and wrap it with the quation mark \" or '"
      ],
      "metadata": {
        "id": "sVSj0nL43g0V"
      }
    },
    {
      "cell_type": "code",
      "source": [
        "\"this is a string.\""
      ],
      "metadata": {
        "id": "z8hByqLQSwPL",
        "colab": {
          "base_uri": "https://localhost:8080/",
          "height": 35
        },
        "outputId": "b3b9ab58-93f2-4183-daa2-cb0ff9463259"
      },
      "execution_count": null,
      "outputs": [
        {
          "output_type": "execute_result",
          "data": {
            "text/plain": [
              "'this is a string.'"
            ],
            "application/vnd.google.colaboratory.intrinsic+json": {
              "type": "string"
            }
          },
          "metadata": {},
          "execution_count": 15
        }
      ]
    },
    {
      "cell_type": "code",
      "source": [
        "'this is a string'"
      ],
      "metadata": {
        "id": "XFh4wcRcSybu",
        "colab": {
          "base_uri": "https://localhost:8080/",
          "height": 35
        },
        "outputId": "42c4ddaa-abe0-44f0-a5ef-34ebd2fa13c1"
      },
      "execution_count": null,
      "outputs": [
        {
          "output_type": "execute_result",
          "data": {
            "text/plain": [
              "'this is a string'"
            ],
            "application/vnd.google.colaboratory.intrinsic+json": {
              "type": "string"
            }
          },
          "metadata": {},
          "execution_count": 16
        }
      ]
    },
    {
      "cell_type": "code",
      "source": [
        "'this is a string'[1]"
      ],
      "metadata": {
        "colab": {
          "base_uri": "https://localhost:8080/",
          "height": 35
        },
        "id": "K7rA4h583pZ8",
        "outputId": "7f87d5a6-fbb2-4157-94e0-9ec7794d046e"
      },
      "execution_count": null,
      "outputs": [
        {
          "output_type": "execute_result",
          "data": {
            "text/plain": [
              "'h'"
            ],
            "application/vnd.google.colaboratory.intrinsic+json": {
              "type": "string"
            }
          },
          "metadata": {},
          "execution_count": 17
        }
      ]
    },
    {
      "cell_type": "code",
      "source": [
        "type(\"this is a string.\")"
      ],
      "metadata": {
        "id": "jl1KCuqoS2PT",
        "colab": {
          "base_uri": "https://localhost:8080/"
        },
        "outputId": "5010b3aa-0ffb-438f-d781-a817bf526669"
      },
      "execution_count": null,
      "outputs": [
        {
          "output_type": "execute_result",
          "data": {
            "text/plain": [
              "str"
            ]
          },
          "metadata": {},
          "execution_count": 18
        }
      ]
    },
    {
      "cell_type": "markdown",
      "source": [
        "In Python, list is the most commonly used list-liked data type. It also has the concept of length, and allows the user to access its elements by giving an index.\n",
        "\n",
        "Unlike string, the elements of a list can be ANY type. The syntax of defining a list is to use the [ and ] pairs. For example:"
      ],
      "metadata": {
        "id": "aDZB-fVW3vhB"
      }
    },
    {
      "cell_type": "code",
      "source": [
        "# a list of three numbers\n",
        "\n",
        "a = [1, 2, 3]\n",
        "a"
      ],
      "metadata": {
        "colab": {
          "base_uri": "https://localhost:8080/"
        },
        "id": "DPF7tUKZXnLr",
        "outputId": "c739417b-1ceb-418b-850a-4593aed41248"
      },
      "execution_count": null,
      "outputs": [
        {
          "output_type": "execute_result",
          "data": {
            "text/plain": [
              "[1, 2, 3]"
            ]
          },
          "metadata": {},
          "execution_count": 21
        }
      ]
    },
    {
      "cell_type": "code",
      "source": [
        "# a list can contain any type of data\n",
        "\n",
        "b = [\"hello\", \"python\", True, 4, 5]\n",
        "type(b)"
      ],
      "metadata": {
        "colab": {
          "base_uri": "https://localhost:8080/"
        },
        "id": "APIrNcmSXxGN",
        "outputId": "64f8987b-e8a0-4d26-f3cc-b2e1356149b6"
      },
      "execution_count": null,
      "outputs": [
        {
          "output_type": "execute_result",
          "data": {
            "text/plain": [
              "list"
            ]
          },
          "metadata": {},
          "execution_count": 22
        }
      ]
    },
    {
      "cell_type": "markdown",
      "source": [
        "In Python, a range is another data type that behaves like a list. A range represents a series of numbersmber bounded by a pair of start and end values.\n",
        "A range data type can be defined using the range command:"
      ],
      "metadata": {
        "id": "ieDbHU3-4AcV"
      }
    },
    {
      "cell_type": "code",
      "source": [
        "# range is another list-liked data type\n",
        "\n",
        "c = range(5, 15)\n",
        "type(c)"
      ],
      "metadata": {
        "colab": {
          "base_uri": "https://localhost:8080/"
        },
        "id": "oP8-BzBUX34y",
        "outputId": "d4dcb6a4-ca09-4235-cbd7-00345b7bb85a"
      },
      "execution_count": null,
      "outputs": [
        {
          "output_type": "execute_result",
          "data": {
            "text/plain": [
              "range"
            ]
          },
          "metadata": {},
          "execution_count": 27
        }
      ]
    },
    {
      "cell_type": "markdown",
      "source": [
        "## Operations in Python"
      ],
      "metadata": {
        "id": "RMStwyYI4XHM"
      }
    },
    {
      "cell_type": "markdown",
      "source": [
        "Python and many other programming languages follow well-accepted accepted mathematical conventions when writing and evaluating expressions.\n",
        "For example, for basic arithmetics:"
      ],
      "metadata": {
        "id": "upH---f84eF6"
      }
    },
    {
      "cell_type": "code",
      "source": [
        "# addition\n",
        "\n",
        "1 + 2"
      ],
      "metadata": {
        "id": "YwOvvafbTPyL",
        "colab": {
          "base_uri": "https://localhost:8080/"
        },
        "outputId": "3554aed2-2910-4ffa-f492-a3b8a31e7fd5"
      },
      "execution_count": null,
      "outputs": [
        {
          "output_type": "execute_result",
          "data": {
            "text/plain": [
              "3"
            ]
          },
          "metadata": {},
          "execution_count": 28
        }
      ]
    },
    {
      "cell_type": "code",
      "source": [
        "# subtraction\n",
        "\n",
        "4 - 3"
      ],
      "metadata": {
        "id": "pt4MFf7KTRnq",
        "colab": {
          "base_uri": "https://localhost:8080/"
        },
        "outputId": "083381db-1583-413c-fc3a-26b3d3dd0adb"
      },
      "execution_count": null,
      "outputs": [
        {
          "output_type": "execute_result",
          "data": {
            "text/plain": [
              "1"
            ]
          },
          "metadata": {},
          "execution_count": 29
        }
      ]
    },
    {
      "cell_type": "code",
      "source": [
        "# multiplication\n",
        "\n",
        "3 * 2"
      ],
      "metadata": {
        "id": "N3DU9KFRTTa6",
        "colab": {
          "base_uri": "https://localhost:8080/"
        },
        "outputId": "efa84adb-6b4b-447e-cefb-2fd27c614956"
      },
      "execution_count": null,
      "outputs": [
        {
          "output_type": "execute_result",
          "data": {
            "text/plain": [
              "6"
            ]
          },
          "metadata": {},
          "execution_count": 30
        }
      ]
    },
    {
      "cell_type": "code",
      "source": [
        "# division\n",
        "\n",
        "8 / 2"
      ],
      "metadata": {
        "id": "bcFlSSBsTWaX",
        "colab": {
          "base_uri": "https://localhost:8080/"
        },
        "outputId": "0381ab89-2dea-4006-9513-6ab1b7a88fbc"
      },
      "execution_count": null,
      "outputs": [
        {
          "output_type": "execute_result",
          "data": {
            "text/plain": [
              "4.0"
            ]
          },
          "metadata": {},
          "execution_count": 31
        }
      ]
    },
    {
      "cell_type": "code",
      "source": [
        "# equality\n",
        "\n",
        "2 == 2"
      ],
      "metadata": {
        "id": "TyKE1A1yTdgY",
        "colab": {
          "base_uri": "https://localhost:8080/"
        },
        "outputId": "a9acc271-1bab-437e-ced6-fb391f7027be"
      },
      "execution_count": null,
      "outputs": [
        {
          "output_type": "execute_result",
          "data": {
            "text/plain": [
              "True"
            ]
          },
          "metadata": {},
          "execution_count": 32
        }
      ]
    },
    {
      "cell_type": "code",
      "source": [
        "# greater than\n",
        "\n",
        "2 > 1"
      ],
      "metadata": {
        "id": "AIxIuRs0Tfvw",
        "colab": {
          "base_uri": "https://localhost:8080/"
        },
        "outputId": "2b0fa908-35c2-4f73-e5d6-f05a3e6f73b1"
      },
      "execution_count": null,
      "outputs": [
        {
          "output_type": "execute_result",
          "data": {
            "text/plain": [
              "True"
            ]
          },
          "metadata": {},
          "execution_count": 33
        }
      ]
    },
    {
      "cell_type": "code",
      "source": [
        "# greater than or equal to\n",
        "\n",
        "3 >= 2"
      ],
      "metadata": {
        "id": "ON-WC2-qThkg",
        "colab": {
          "base_uri": "https://localhost:8080/"
        },
        "outputId": "78384fbe-3973-4cf4-f632-d59df2ea5655"
      },
      "execution_count": null,
      "outputs": [
        {
          "output_type": "execute_result",
          "data": {
            "text/plain": [
              "True"
            ]
          },
          "metadata": {},
          "execution_count": 34
        }
      ]
    },
    {
      "cell_type": "code",
      "source": [
        "# less than\n",
        "\n",
        "4 < 1"
      ],
      "metadata": {
        "id": "m8G8_fapThuX",
        "colab": {
          "base_uri": "https://localhost:8080/"
        },
        "outputId": "3977d7ff-c129-4c29-d560-830a7ec597f4"
      },
      "execution_count": null,
      "outputs": [
        {
          "output_type": "execute_result",
          "data": {
            "text/plain": [
              "False"
            ]
          },
          "metadata": {},
          "execution_count": 35
        }
      ]
    },
    {
      "cell_type": "code",
      "source": [
        "# inequality\n",
        "\n",
        "3.0 != 2"
      ],
      "metadata": {
        "id": "3RfP1_pXTl8s",
        "colab": {
          "base_uri": "https://localhost:8080/"
        },
        "outputId": "450987fe-bfc2-4a5b-96aa-4dc0b7cb900e"
      },
      "execution_count": null,
      "outputs": [
        {
          "output_type": "execute_result",
          "data": {
            "text/plain": [
              "True"
            ]
          },
          "metadata": {},
          "execution_count": 36
        }
      ]
    },
    {
      "cell_type": "markdown",
      "source": [
        "For Boolean values, we can apply logical operations and, or, not. They, as suggested by their names, represent the logical condition of \"and\", \"or\", \"not\"."
      ],
      "metadata": {
        "id": "C4C8H8SI4j9o"
      }
    },
    {
      "cell_type": "code",
      "source": [
        "# both 1st and 2nd values are True?\n",
        "\n",
        "True and True"
      ],
      "metadata": {
        "id": "z6U-8OQDT9aU",
        "colab": {
          "base_uri": "https://localhost:8080/"
        },
        "outputId": "08367511-4cf6-4a63-adee-4840e5028421"
      },
      "execution_count": null,
      "outputs": [
        {
          "output_type": "execute_result",
          "data": {
            "text/plain": [
              "True"
            ]
          },
          "metadata": {},
          "execution_count": 37
        }
      ]
    },
    {
      "cell_type": "code",
      "source": [
        "# either 1st or 2nd value is True?\n",
        "\n",
        "False or True"
      ],
      "metadata": {
        "id": "VCUdIACCT9fd",
        "colab": {
          "base_uri": "https://localhost:8080/"
        },
        "outputId": "79e3eb55-593d-4767-ed8f-36620f85cc60"
      },
      "execution_count": null,
      "outputs": [
        {
          "output_type": "execute_result",
          "data": {
            "text/plain": [
              "True"
            ]
          },
          "metadata": {},
          "execution_count": 38
        }
      ]
    },
    {
      "cell_type": "code",
      "source": [
        "# not (the negation of) True is False\n",
        "\n",
        "not True"
      ],
      "metadata": {
        "id": "aNTwY8xzT9is",
        "colab": {
          "base_uri": "https://localhost:8080/"
        },
        "outputId": "ee5fd79f-e52e-40f0-f1a2-a34b4219f977"
      },
      "execution_count": null,
      "outputs": [
        {
          "output_type": "execute_result",
          "data": {
            "text/plain": [
              "False"
            ]
          },
          "metadata": {},
          "execution_count": 39
        }
      ]
    },
    {
      "cell_type": "code",
      "source": [
        "# not (the negation of) False is True\n",
        "\n",
        "not False"
      ],
      "metadata": {
        "id": "HgK9J-0BT9mt",
        "colab": {
          "base_uri": "https://localhost:8080/"
        },
        "outputId": "50980f0b-addf-429a-c2b3-694a102ab59c"
      },
      "execution_count": null,
      "outputs": [
        {
          "output_type": "execute_result",
          "data": {
            "text/plain": [
              "True"
            ]
          },
          "metadata": {},
          "execution_count": 40
        }
      ]
    },
    {
      "cell_type": "markdown",
      "source": [
        "For strings (texts), we can use + to join texts to sentences."
      ],
      "metadata": {
        "id": "SlKDEVOj4pMw"
      }
    },
    {
      "cell_type": "code",
      "source": [
        "# create a sentence from words\n",
        "\n",
        "\"hello, \" + \"python\" + \"!\""
      ],
      "metadata": {
        "id": "HX5OVf5RT9s2",
        "colab": {
          "base_uri": "https://localhost:8080/",
          "height": 35
        },
        "outputId": "76273457-2e89-4ad7-8190-a0236a96966d"
      },
      "execution_count": null,
      "outputs": [
        {
          "output_type": "execute_result",
          "data": {
            "text/plain": [
              "'hello, python!'"
            ],
            "application/vnd.google.colaboratory.intrinsic+json": {
              "type": "string"
            }
          },
          "metadata": {},
          "execution_count": 41
        }
      ]
    },
    {
      "cell_type": "markdown",
      "source": [
        "You may noteice that here we use == instead of = to represent the equality. In Python (and many other programming languages), this is to differentiate the action of\n",
        "1) computing the equality, from the action of\n",
        "2) assigning a value to a variable:"
      ],
      "metadata": {
        "id": "bEl5mOBtUUFN"
      }
    },
    {
      "cell_type": "markdown",
      "source": [
        "A variable name MUST start with a letter or the underscore character\n",
        "A variable name CANNOT start with a number\n",
        "A variable name can ONLY contain alpha-numeric characters and underscores (A-z, 0-9, and _ )\n",
        "Variable names are case-sensitive (age, Age and AGE are three different variables)"
      ],
      "metadata": {
        "id": "BIHYoE7MUaXC"
      }
    },
    {
      "cell_type": "code",
      "source": [
        "a= 1\n",
        "a"
      ],
      "metadata": {
        "id": "NnbmB55pUpeM",
        "colab": {
          "base_uri": "https://localhost:8080/"
        },
        "outputId": "2374e160-f9cc-4ef1-8458-cf7259fec40d"
      },
      "execution_count": null,
      "outputs": [
        {
          "output_type": "execute_result",
          "data": {
            "text/plain": [
              "1"
            ]
          },
          "metadata": {},
          "execution_count": 47
        }
      ]
    },
    {
      "cell_type": "code",
      "source": [
        "b= 'hello'\n",
        "b"
      ],
      "metadata": {
        "id": "scyOKVpRUq6q",
        "colab": {
          "base_uri": "https://localhost:8080/",
          "height": 35
        },
        "outputId": "b2610b89-1510-4e85-d683-5ea5e3ef94c0"
      },
      "execution_count": null,
      "outputs": [
        {
          "output_type": "execute_result",
          "data": {
            "text/plain": [
              "'hello'"
            ],
            "application/vnd.google.colaboratory.intrinsic+json": {
              "type": "string"
            }
          },
          "metadata": {},
          "execution_count": 48
        }
      ]
    },
    {
      "cell_type": "code",
      "source": [
        "c= [1,2,3,4]\n",
        "c"
      ],
      "metadata": {
        "id": "e99SpbN9UudC",
        "colab": {
          "base_uri": "https://localhost:8080/"
        },
        "outputId": "423073d4-af2a-4847-fe3c-14179a50ac4c"
      },
      "execution_count": null,
      "outputs": [
        {
          "output_type": "execute_result",
          "data": {
            "text/plain": [
              "[1, 2, 3, 4]"
            ]
          },
          "metadata": {},
          "execution_count": 49
        }
      ]
    },
    {
      "cell_type": "markdown",
      "source": [
        "## Functions"
      ],
      "metadata": {
        "id": "tsIlQxeE4vyU"
      }
    },
    {
      "cell_type": "markdown",
      "source": [
        "In computer programming, a Function is a block of code that is intended to be reused to perform certain operations. Functions help you break down complex tasks and reuse your code in different programs."
      ],
      "metadata": {
        "id": "RARNzwOjU39q"
      }
    },
    {
      "cell_type": "code",
      "source": [
        "print(1)"
      ],
      "metadata": {
        "colab": {
          "base_uri": "https://localhost:8080/"
        },
        "id": "R__XrrJKU7BM",
        "outputId": "ece3ef3e-cc1a-4bba-8cc9-ed12e7e02eca"
      },
      "execution_count": null,
      "outputs": [
        {
          "output_type": "stream",
          "name": "stdout",
          "text": [
            "1\n"
          ]
        }
      ]
    },
    {
      "cell_type": "code",
      "source": [
        "type(0.2)"
      ],
      "metadata": {
        "colab": {
          "base_uri": "https://localhost:8080/"
        },
        "id": "ZNf8_PTPU8u1",
        "outputId": "3ad78912-eac9-4b26-ad56-7f14934a9915"
      },
      "execution_count": null,
      "outputs": [
        {
          "output_type": "execute_result",
          "data": {
            "text/plain": [
              "float"
            ]
          },
          "metadata": {},
          "execution_count": 51
        }
      ]
    },
    {
      "cell_type": "markdown",
      "source": [
        "In Python, a Function is defined by the def keyword followed by a function name, a pair of brackets (), and a colon symbol :\n",
        "A Function must have a Body, which is the code block that performs certain tasks. In case you need an empty body which does nothing, you can use the keyword pass.\n"
      ],
      "metadata": {
        "id": "GsOWN_THVM80"
      }
    },
    {
      "cell_type": "code",
      "source": [
        "# define a function called \"shall_i_buy\"\n",
        "# it has three arguments: \"price\", \"income\", \"really_want_that\"\n",
        "\n",
        "def shall_i_buy(price, income, really_want_that):\n",
        "    # evaluate the expression and store the\n",
        "    # value to a variable called \"to_buy\"\n",
        "    to_buy = (income > price) or really_want_that\n",
        "\n",
        "    # return of value of \"to_buy\"\n",
        "    return to_buy"
      ],
      "metadata": {
        "id": "EqUaWXUQVN7z"
      },
      "execution_count": null,
      "outputs": []
    },
    {
      "cell_type": "code",
      "source": [
        "# price is 3, income is 6, and I really want that\n",
        "\n",
        "shall_i_buy(3, 6, True)"
      ],
      "metadata": {
        "id": "KhJRXAFfVUjp",
        "colab": {
          "base_uri": "https://localhost:8080/"
        },
        "outputId": "336cf98a-ff2d-4182-d944-a3172e5bceac"
      },
      "execution_count": null,
      "outputs": [
        {
          "output_type": "execute_result",
          "data": {
            "text/plain": [
              "True"
            ]
          },
          "metadata": {},
          "execution_count": 53
        }
      ]
    },
    {
      "cell_type": "markdown",
      "source": [
        "## Libraries"
      ],
      "metadata": {
        "id": "Ykrs19sO48F3"
      }
    },
    {
      "cell_type": "markdown",
      "source": [
        "As we mentioned that functions are intended for reusing code. This include our code and also other's code. In computer programming, the code from others are typically provided as a Library.\n",
        "In Python, we use the keyword import followed by the name of the library to import and use other's code."
      ],
      "metadata": {
        "id": "HSJME9kxVd_S"
      }
    },
    {
      "cell_type": "code",
      "source": [
        "# import a library called \"math\"\n",
        "\n",
        "import math"
      ],
      "metadata": {
        "id": "DlFHgFXlVefH"
      },
      "execution_count": null,
      "outputs": []
    },
    {
      "cell_type": "code",
      "source": [
        "# compute the sine value of half-pi\n",
        "\n",
        "math.sin(3.14159 * 0.5)"
      ],
      "metadata": {
        "colab": {
          "base_uri": "https://localhost:8080/"
        },
        "id": "4V4ArDU97gnm",
        "outputId": "2490b6a4-641d-4de3-f37a-a5796d5f8fa2"
      },
      "execution_count": null,
      "outputs": [
        {
          "output_type": "execute_result",
          "data": {
            "text/plain": [
              "0.9999999999991198"
            ]
          },
          "metadata": {},
          "execution_count": 58
        }
      ]
    },
    {
      "cell_type": "markdown",
      "source": [
        "Once we imported a library, we can keep using it"
      ],
      "metadata": {
        "id": "GLZqvAfp7rIr"
      }
    },
    {
      "cell_type": "code",
      "source": [
        "# compute the cosine value of 0.0\n",
        "\n",
        "math.cos(0.0)"
      ],
      "metadata": {
        "colab": {
          "base_uri": "https://localhost:8080/"
        },
        "id": "FOblCZUy7ilU",
        "outputId": "6ad22b72-499a-4a77-8e6e-d1a352dc0791"
      },
      "execution_count": null,
      "outputs": [
        {
          "output_type": "execute_result",
          "data": {
            "text/plain": [
              "1.0"
            ]
          },
          "metadata": {},
          "execution_count": 59
        }
      ]
    },
    {
      "cell_type": "markdown",
      "source": [
        "### Documentations"
      ],
      "metadata": {
        "id": "NOY3RcNY5BrK"
      }
    },
    {
      "cell_type": "markdown",
      "source": [
        "A Library written by others can be very complex, and it is not possible to know what exactly it contains without a Documentation. Hence, python coders need to spend time to get familiar with commonly-used libraries and functions.\n",
        "An example would be the official Python Documentation, which already covers many aspects such as numerical computation, datetime conversion, file reading / writing, access Internet etc.\n",
        "You can find the official Python Documentation via docs.python.org"
      ],
      "metadata": {
        "id": "bXr_fkS8Vs9g"
      }
    },
    {
      "cell_type": "markdown",
      "source": [
        "## Conditionals"
      ],
      "metadata": {
        "id": "CUxeccwP5GoR"
      }
    },
    {
      "cell_type": "markdown",
      "source": [
        "Branching allows us to step beyond the \"line-by-line\" schema of running code and to execute a block of code only under certain condition. As if we are saying \"do something if something happened\".\n",
        "\n",
        "In computer programming, the line of code we use to implement branching is called the if statement. The syntax of if statement in Python is if keyword followed by a conditional expression, and then a colon symbol :"
      ],
      "metadata": {
        "id": "FMUjbjDPWCW0"
      }
    },
    {
      "cell_type": "code",
      "source": [
        "a= 5\n",
        "b= 5"
      ],
      "metadata": {
        "id": "6rck8ky_aO1M"
      },
      "execution_count": null,
      "outputs": []
    },
    {
      "cell_type": "markdown",
      "source": [
        "### If statement"
      ],
      "metadata": {
        "id": "foVKqgmM8bjg"
      }
    },
    {
      "cell_type": "code",
      "source": [
        "if a == 5:\n",
        "    print(\"a is 5\")"
      ],
      "metadata": {
        "colab": {
          "base_uri": "https://localhost:8080/"
        },
        "id": "aCqcYrF8WC1e",
        "outputId": "0c5a86e5-fdce-4454-b2f0-5d36f64fdd75"
      },
      "execution_count": null,
      "outputs": [
        {
          "output_type": "stream",
          "name": "stdout",
          "text": [
            "a is 5\n"
          ]
        }
      ]
    },
    {
      "cell_type": "code",
      "source": [
        "if b != 3:\n",
        "    print(\"b is not 3\")"
      ],
      "metadata": {
        "colab": {
          "base_uri": "https://localhost:8080/"
        },
        "id": "QjxtngtKWEQc",
        "outputId": "99fcf8f1-8cca-44e6-9f60-efe8bc6a2be2"
      },
      "execution_count": null,
      "outputs": [
        {
          "output_type": "stream",
          "name": "stdout",
          "text": [
            "b is not 3\n"
          ]
        }
      ]
    },
    {
      "cell_type": "code",
      "source": [
        "# number of white spaces MUST be consistent\n",
        "\n",
        "\n",
        "if a == 5:\n",
        "print(\"a is 5\")\n",
        "    print(\"a is not 6\")"
      ],
      "metadata": {
        "colab": {
          "base_uri": "https://localhost:8080/"
        },
        "id": "G8Zs9MMbWETb",
        "outputId": "749a45e6-7edd-4c19-fff0-be66e38de45c"
      },
      "execution_count": null,
      "outputs": [
        {
          "output_type": "stream",
          "name": "stdout",
          "text": [
            "a is 5\n",
            "a is not 6\n"
          ]
        }
      ]
    },
    {
      "cell_type": "markdown",
      "source": [
        "### Else statement"
      ],
      "metadata": {
        "id": "m9tQc5AG5cHS"
      }
    },
    {
      "cell_type": "markdown",
      "source": [
        "In many cases, we not only need consider the situation when the condition is True, but also when it is False. And to specify the code block for this alternative situation, we use else statement.\n",
        "An else statement MUST show up after an if statement, therefore we sometimes use if-else statement to call them both. In Python, the syntax of else statment is else keyword followed by the colon symbol :"
      ],
      "metadata": {
        "id": "_2lw5JPjWRq7"
      }
    },
    {
      "cell_type": "code",
      "source": [
        "# if-else statement\n",
        "\n",
        "if a == 5:\n",
        "    print(\"a is 5\")\n",
        "else:\n",
        "    print(\"a is not 5\")"
      ],
      "metadata": {
        "colab": {
          "base_uri": "https://localhost:8080/"
        },
        "id": "rWaaIDBTWEZT",
        "outputId": "b84d4201-fdad-479b-dc28-0dc335aa7a62"
      },
      "execution_count": null,
      "outputs": [
        {
          "output_type": "stream",
          "name": "stdout",
          "text": [
            "a is 5\n"
          ]
        }
      ]
    },
    {
      "cell_type": "markdown",
      "source": [
        "### Nesting if-else statements"
      ],
      "metadata": {
        "id": "jvC0x-QC5ktb"
      }
    },
    {
      "cell_type": "markdown",
      "source": [
        "The if-else statement represents the basic unit of decision making, but for complex problems, it is quite common that we have to make sub-dicision-making for one condition.\n",
        "Take a look at the following example:"
      ],
      "metadata": {
        "id": "4KOnAbpfWUA4"
      }
    },
    {
      "cell_type": "code",
      "source": [
        "# if-else statement inside another if-else statement\n",
        "\n",
        "today = \"monday\"\n",
        "\n",
        "if today == \"monday\":\n",
        "    print(\"order sushi\")\n",
        "else:\n",
        "    if today == \"thursday\":\n",
        "        print(\"order pizza\")\n",
        "    else:\n",
        "        print(\"cook at home\")"
      ],
      "metadata": {
        "colab": {
          "base_uri": "https://localhost:8080/"
        },
        "id": "AssGqGegWV1a",
        "outputId": "aea808eb-c237-46ae-9bec-7c00d4ac1021"
      },
      "execution_count": null,
      "outputs": [
        {
          "output_type": "stream",
          "name": "stdout",
          "text": [
            "order sushi\n"
          ]
        }
      ]
    },
    {
      "cell_type": "markdown",
      "source": [
        "### Else if statement"
      ],
      "metadata": {
        "id": "qsRIgOGX5tMS"
      }
    },
    {
      "cell_type": "markdown",
      "source": [
        "However, writing nested statements is not always a good coding style, especially when the logic gets complex.\n",
        "In many cases, you can simplify your code by flattening your nested code block in an else statement with the else if statement. In Python, else if statement is defined by elif keyword followed by the condition and the colon sumbol :"
      ],
      "metadata": {
        "id": "NZjydqqMWapk"
      }
    },
    {
      "cell_type": "code",
      "source": [
        "# rewrite \"if-else\" in \"else\" into \"else if (elif)\"\n",
        "\n",
        "today = \"monday\"\n",
        "\n",
        "if today == \"monday\":\n",
        "    print(\"order sushi\")\n",
        "elif today == \"thursday\":\n",
        "    print(\"order pizza\")\n",
        "else:\n",
        "    print(\"cook at home\")"
      ],
      "metadata": {
        "colab": {
          "base_uri": "https://localhost:8080/"
        },
        "id": "um1MlsyqWbOd",
        "outputId": "4759d775-fbb2-412c-f474-0197cf7ac41e"
      },
      "execution_count": null,
      "outputs": [
        {
          "output_type": "stream",
          "name": "stdout",
          "text": [
            "order sushi\n"
          ]
        }
      ]
    },
    {
      "cell_type": "markdown",
      "source": [
        "### If-else statement in a function"
      ],
      "metadata": {
        "id": "kZfzIcpx57Yg"
      }
    },
    {
      "cell_type": "markdown",
      "source": [
        "As a review and extension of our previous session on function, we can naturally write our if-else statement in the body of a function:"
      ],
      "metadata": {
        "id": "WBzxhqxYWocc"
      }
    },
    {
      "cell_type": "code",
      "source": [
        "def order_food(today):\n",
        "    if today == \"monday\":\n",
        "        print(\"order sushi\")\n",
        "    elif today == \"thursday\":\n",
        "        print(\"order pizza\")\n",
        "    elif today == \"friday\":\n",
        "        print(\"order noodle\")\n",
        "    else:\n",
        "        print(\"cook at home\")"
      ],
      "metadata": {
        "id": "Ufj0ADxcWpJC"
      },
      "execution_count": null,
      "outputs": []
    },
    {
      "cell_type": "code",
      "source": [
        "order_food(\"monday\")"
      ],
      "metadata": {
        "colab": {
          "base_uri": "https://localhost:8080/"
        },
        "id": "-HXbExXDWrav",
        "outputId": "949a1556-f25b-4dca-a726-bb2cbdb83e28"
      },
      "execution_count": null,
      "outputs": [
        {
          "output_type": "stream",
          "name": "stdout",
          "text": [
            "order sushi\n"
          ]
        }
      ]
    },
    {
      "cell_type": "markdown",
      "source": [
        "## Loops"
      ],
      "metadata": {
        "id": "LcyE9Vxy6A6N"
      }
    },
    {
      "cell_type": "markdown",
      "source": [
        "From \"until\" to \"while\"\n",
        "\n",
        "In the above examples, we specified our stopping condition as \"until something is true\". This specification can be converted to its equivalent while sentence \"while something is true\".\n",
        "For example,\n",
        "repeat something, until count is less than or equal to zero (count <= 0), is logically equivalent to\n",
        "repeat something, while count is greater than zero (count > 0)."
      ],
      "metadata": {
        "id": "7jLTdAnEXB-R"
      }
    },
    {
      "cell_type": "markdown",
      "source": [
        "### While statement\n"
      ],
      "metadata": {
        "id": "nvAVE8cz6Iwj"
      }
    },
    {
      "cell_type": "markdown",
      "source": [
        "The conversion from until to while helps us to repeat our code in another way: the while loop.\n",
        "In python, while loop is defined by a while statement. A while statement starts with the while keyword, followed by an expression that can be evalutes as True or False, and then a colon symbol :, and finally a body with indentations."
      ],
      "metadata": {
        "id": "uowl1-yo6HX1"
      }
    },
    {
      "cell_type": "code",
      "source": [
        "# repeat a = a - 1\n",
        "# while a > 0 (i.e., until a <= 0)\n",
        "\n",
        "a = 10\n",
        "\n",
        "while a > 0:\n",
        "    a = a - 1\n",
        "    print(a)"
      ],
      "metadata": {
        "colab": {
          "base_uri": "https://localhost:8080/"
        },
        "id": "GOu6ONDkXCkr",
        "outputId": "ccd80df1-eda8-46da-cae7-556bf623bba1"
      },
      "execution_count": null,
      "outputs": [
        {
          "output_type": "stream",
          "name": "stdout",
          "text": [
            "9\n",
            "8\n",
            "7\n",
            "6\n",
            "5\n",
            "4\n",
            "3\n",
            "2\n",
            "1\n",
            "0\n"
          ]
        }
      ]
    },
    {
      "cell_type": "markdown",
      "source": [
        "### For Loop statement"
      ],
      "metadata": {
        "id": "tEGCNv-k6M5-"
      }
    },
    {
      "cell_type": "markdown",
      "source": [
        "In Python, a for loop is a special type of loop which repeats certain operation for each element of a list-liked data type.\n",
        "For example, repeat print for each element of a string \"hello\" can be written as:"
      ],
      "metadata": {
        "id": "EKN4ycoDX9Wp"
      }
    },
    {
      "cell_type": "code",
      "source": [
        "# elem is a variable whose value will be\n",
        "# re-assigned during the executing of the for loop\n",
        "\n",
        "for elem in \"hello\":\n",
        "    print(elem)"
      ],
      "metadata": {
        "colab": {
          "base_uri": "https://localhost:8080/"
        },
        "id": "ptCejI6UX95g",
        "outputId": "3adfae73-f5d2-4303-e1c4-3eeb90bbd66e"
      },
      "execution_count": null,
      "outputs": [
        {
          "output_type": "stream",
          "name": "stdout",
          "text": [
            "h\n",
            "e\n",
            "l\n",
            "l\n",
            "o\n"
          ]
        }
      ]
    },
    {
      "cell_type": "code",
      "source": [
        "# repeat print for each element of a range data type can be written as:\n",
        "\n",
        "for i in range(10):\n",
        "    print(i)"
      ],
      "metadata": {
        "colab": {
          "base_uri": "https://localhost:8080/"
        },
        "id": "_9BPeZSwYHyO",
        "outputId": "55f61f36-7c70-422a-a86c-9e1fad7e3362"
      },
      "execution_count": null,
      "outputs": [
        {
          "output_type": "stream",
          "name": "stdout",
          "text": [
            "0\n",
            "1\n",
            "2\n",
            "3\n",
            "4\n",
            "5\n",
            "6\n",
            "7\n",
            "8\n",
            "9\n"
          ]
        }
      ]
    },
    {
      "cell_type": "markdown",
      "source": [
        "Similar to while loop and other code structures, the code block after the : symbol is the body of the for loop and it should be written with indentation."
      ],
      "metadata": {
        "id": "VRM98pvQYjW8"
      }
    },
    {
      "cell_type": "code",
      "source": [
        "# Compute the square of a list of\n",
        "\n",
        "integers = [1, 2, 3, 4, 5]\n",
        "\n",
        "for i in integers:\n",
        "    print(i * i)"
      ],
      "metadata": {
        "colab": {
          "base_uri": "https://localhost:8080/"
        },
        "id": "xhJbmoozYj6_",
        "outputId": "d4123a5c-412d-4e36-938b-b7f496a913f3"
      },
      "execution_count": null,
      "outputs": [
        {
          "output_type": "stream",
          "name": "stdout",
          "text": [
            "1\n",
            "4\n",
            "9\n",
            "16\n",
            "25\n"
          ]
        }
      ]
    },
    {
      "cell_type": "code",
      "source": [
        "# summing a list of numbers\n",
        "\n",
        "numbers = [3, 6.6, 7, 9.2, 12.5, 17.5]\n",
        "\n",
        "total = 0\n",
        "\n",
        "for n in numbers:\n",
        "    total = total + n\n",
        "\n",
        "print(total)"
      ],
      "metadata": {
        "colab": {
          "base_uri": "https://localhost:8080/"
        },
        "id": "Fmw0nIFSYnLn",
        "outputId": "611de276-39f7-41ca-ce42-d69b0795be86"
      },
      "execution_count": null,
      "outputs": [
        {
          "output_type": "stream",
          "name": "stdout",
          "text": [
            "55.8\n"
          ]
        }
      ]
    },
    {
      "cell_type": "code",
      "source": [],
      "metadata": {
        "id": "gLyvTHOQ8LO3"
      },
      "execution_count": null,
      "outputs": []
    }
  ]
}